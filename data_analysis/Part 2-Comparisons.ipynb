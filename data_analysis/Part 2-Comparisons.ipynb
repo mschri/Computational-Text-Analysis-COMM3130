{
 "cells": [
  {
   "cell_type": "markdown",
   "id": "019385bb-4acf-45e0-815f-a2e80480a6c8",
   "metadata": {},
   "source": [
    "## Keyness Analysis:\n",
    "\n",
    "* Some of most prominent words used (based on corpora analysis in Part 1)/words that may be of interest: `safety`, `consumer`, `problem`, `risk`, `president`\n",
    "* So will conduct keyness analysis using these words across corpora\n",
    "* Followed by the same analysis structure for some of most prominent bigram features"
   ]
  },
  {
   "cell_type": "markdown",
   "id": "64fdd557-9234-4dd6-a4eb-d72a4acf8ac3",
   "metadata": {},
   "source": [
    "### Select Corpora:"
   ]
  },
  {
   "cell_type": "code",
   "execution_count": 2,
   "id": "14a821df-b9fc-472e-9772-37f7d2ba04c3",
   "metadata": {},
   "outputs": [],
   "source": [
    "### 1980s Corpus\n",
    "import os\n",
    "os.chdir('../data')\n",
    "eighties_text = open('eighties.txt').read()"
   ]
  },
  {
   "cell_type": "code",
   "execution_count": 3,
   "id": "242a9723-336d-42b7-afba-3456fb454949",
   "metadata": {},
   "outputs": [],
   "source": [
    "### 1990s corpus:\n",
    "import os\n",
    "os.chdir('../data')\n",
    "nineties_text = open('nineties.txt').read()"
   ]
  },
  {
   "cell_type": "code",
   "execution_count": 4,
   "id": "e7c152fa-d3dd-464b-8e76-aeeec09eb6d6",
   "metadata": {},
   "outputs": [],
   "source": [
    "### 2000s corpus:\n",
    "import os\n",
    "os.chdir('../data')\n",
    "thous_text = open('twothousands.txt').read()"
   ]
  },
  {
   "cell_type": "code",
   "execution_count": 5,
   "id": "bdc993dd-8ac1-4d0b-8df0-9f2c0cf0fb67",
   "metadata": {},
   "outputs": [],
   "source": [
    "### 2010s:\n",
    "import os\n",
    "os.chdir('../data')\n",
    "tens_text = open('twentytens.txt').read()"
   ]
  },
  {
   "cell_type": "code",
   "execution_count": 6,
   "id": "e6007d48-9db8-4f11-8e69-7cbfdb238369",
   "metadata": {},
   "outputs": [],
   "source": [
    "### 2020s:\n",
    "import os\n",
    "os.chdir('../data')\n",
    "twenties_text = open('twenties.txt').read()"
   ]
  },
  {
   "cell_type": "markdown",
   "id": "71bc5e1e-adc4-43e3-8251-ff7416d89968",
   "metadata": {},
   "source": [
    "### Create Frequency Lists:"
   ]
  },
  {
   "cell_type": "code",
   "execution_count": 7,
   "id": "6c4d9eb4-a8fe-4cb7-ad92-f9edbf5706f7",
   "metadata": {},
   "outputs": [],
   "source": [
    "### Relevant functions:\n",
    "import os\n",
    "os.chdir('../data_analysis')\n",
    "%run functions.ipynb\n",
    "\n",
    "import os\n",
    "import pandas as pd\n",
    "import re\n",
    "import math\n",
    "import random\n",
    "\n",
    "\n",
    "from collections import Counter"
   ]
  },
  {
   "cell_type": "code",
   "execution_count": 8,
   "id": "9ed0594e-d3ee-4237-b1a1-405bd0ff27eb",
   "metadata": {},
   "outputs": [],
   "source": [
    "no_toc_80s=eighties_text[10690:]\n",
    "token_80s=tokenize(no_toc_80s,lowercase=True,strip_chars='!,.\"')\n",
    "count_80s=Counter(token_80s)"
   ]
  },
  {
   "cell_type": "code",
   "execution_count": 9,
   "id": "147e421a-beea-4eda-b652-2f4847a7b693",
   "metadata": {},
   "outputs": [],
   "source": [
    "no_toc_90s=nineties_text[11325:]\n",
    "token_90s=tokenize(no_toc_90s,lowercase=True,strip_chars='!,.\"')\n",
    "count_90s=Counter(token_90s)"
   ]
  },
  {
   "cell_type": "code",
   "execution_count": 10,
   "id": "f0be5366-1217-4a24-93c7-b63b99e8cfb3",
   "metadata": {},
   "outputs": [],
   "source": [
    "no_toc_00s=thous_text[13296:]\n",
    "token_00s=tokenize(no_toc_00s,lowercase=True,strip_chars='!,.\"')\n",
    "count_00s=Counter(token_00s)"
   ]
  },
  {
   "cell_type": "code",
   "execution_count": 11,
   "id": "3f7f7cc5-7c4e-4e37-9b14-c26e2f10f80b",
   "metadata": {},
   "outputs": [],
   "source": [
    "no_toc_10s=tens_text[12975:]\n",
    "token_10s=tokenize(no_toc_10s,lowercase=True,strip_chars='!,.\"')\n",
    "count_10s=Counter(token_10s)"
   ]
  },
  {
   "cell_type": "code",
   "execution_count": 12,
   "id": "757cf3af-4151-4d5e-80c7-32294b89a5ad",
   "metadata": {},
   "outputs": [],
   "source": [
    "no_toc_20s=twenties_text[15370:]\n",
    "token_20s=tokenize(no_toc_20s,lowercase=True,strip_chars='!,.\"')\n",
    "count_20s=Counter(token_20s)"
   ]
  },
  {
   "cell_type": "markdown",
   "id": "713251ac-b34b-4732-94f2-385932737532",
   "metadata": {},
   "source": [
    "### Match items and calculate score\n",
    "\n",
    "#### Item 1: \"problem\""
   ]
  },
  {
   "cell_type": "code",
   "execution_count": 13,
   "id": "43a40c24-d4cc-4d6e-ad6d-4222c47c2df6",
   "metadata": {},
   "outputs": [
    {
     "data": {
      "text/plain": [
       "(90642, 87007, 107619, 81784, 80278)"
      ]
     },
     "execution_count": 13,
     "metadata": {},
     "output_type": "execute_result"
    }
   ],
   "source": [
    "size_80s=len(token_80s)\n",
    "size_90s=len(token_90s)\n",
    "size_00s=len(token_00s)\n",
    "size_10s=len(token_10s)\n",
    "size_20s=len(token_20s)\n",
    "\n",
    "size_80s, size_90s, size_00s, size_10s, size_20s"
   ]
  },
  {
   "cell_type": "code",
   "execution_count": 14,
   "id": "4b55a645-9086-4639-a62c-f33ffaa41ce3",
   "metadata": {},
   "outputs": [],
   "source": [
    "base=10000"
   ]
  },
  {
   "cell_type": "code",
   "execution_count": 15,
   "id": "98e32d86-892c-41dd-a437-efea8bdede36",
   "metadata": {},
   "outputs": [],
   "source": [
    "norm_80s= count_80s.get('problem')/size_80s*base\n",
    "norm_90s= count_90s.get('problem')/size_90s*base\n",
    "norm_00s= count_00s.get('problem')/size_00s*base\n",
    "norm_10s= count_10s.get('problem')/size_10s*base\n",
    "norm_20s= count_20s.get('problem')/size_20s*base"
   ]
  },
  {
   "cell_type": "code",
   "execution_count": 17,
   "id": "fb1a00ee-dd20-4aa3-bf58-0662002aa784",
   "metadata": {},
   "outputs": [
    {
     "name": "stdout",
     "output_type": "stream",
     "text": [
      "decade, \"problem\", normalized frequency\n",
      "80s: 8.05 per 10,000 words\n",
      "90s: 5.52 per 10,000\n",
      "00s: 8.73 per 10,000\n",
      "10s: 3.30 per 10,000\n",
      "20s: 1.12 per 10,000\n"
     ]
    }
   ],
   "source": [
    "print(f'decade, \"problem\", normalized frequency')\n",
    "print(f'80s: {norm_80s:.2f} per {base:,} words')\n",
    "print(f'90s: {norm_90s:.2f} per {base:,}')\n",
    "print(f'00s: {norm_00s:.2f} per {base:,}')\n",
    "print(f'10s: {norm_10s:.2f} per {base:,}')\n",
    "print(f'20s: {norm_20s:.2f} per {base:,}')"
   ]
  },
  {
   "cell_type": "markdown",
   "id": "edda7452-018b-4734-adb0-ab2d306d3238",
   "metadata": {},
   "source": [
    "### Observations:\n",
    "* Steady decrease in the term problem used\n",
    "* Picked up in the 2000s, but dropped off to an all time low relative to the other decades by the 2020s\n",
    "* Indicates less negative sentiment associated with the coverage of these cases over time\n",
    "\n",
    "#### Item 2: \"safety\""
   ]
  },
  {
   "cell_type": "code",
   "execution_count": 18,
   "id": "be60a556-fb71-4e80-b258-5ed8a3b56f68",
   "metadata": {},
   "outputs": [],
   "source": [
    "norm_80s_safety= count_80s.get('safety')/size_80s*base\n",
    "norm_90s_safety= count_90s.get('safety')/size_90s*base\n",
    "norm_00s_safety= count_00s.get('safety')/size_00s*base\n",
    "norm_10s_safety= count_10s.get('safety')/size_10s*base\n",
    "norm_20s_safety= count_20s.get('safety')/size_20s*base"
   ]
  },
  {
   "cell_type": "code",
   "execution_count": 19,
   "id": "fceebbb7-940c-47a1-b528-4ce7e73580d3",
   "metadata": {},
   "outputs": [
    {
     "name": "stdout",
     "output_type": "stream",
     "text": [
      "decade, \"safety\", normalized frequency\n",
      "80s: 12.25 per 10,000 words\n",
      "90s: 6.78 per 10,000\n",
      "00s: 9.20 per 10,000\n",
      "10s: 9.05 per 10,000\n",
      "20s: 12.46 per 10,000\n"
     ]
    }
   ],
   "source": [
    "print(f'decade, \"safety\", normalized frequency')\n",
    "print(f'80s: {norm_80s_safety:.2f} per {base:,} words')\n",
    "print(f'90s: {norm_90s_safety:.2f} per {base:,}')\n",
    "print(f'00s: {norm_00s_safety:.2f} per {base:,}')\n",
    "print(f'10s: {norm_10s_safety:.2f} per {base:,}')\n",
    "print(f'20s: {norm_20s_safety:.2f} per {base:,}')"
   ]
  },
  {
   "cell_type": "markdown",
   "id": "8a40c13d-2a4e-4f9b-9946-29d0299d19ab",
   "metadata": {},
   "source": [
    "### Observations:\n",
    "* 80s and 2020s were at comparable numbers\n",
    "* decreased significantly in 90s, and steady increased back to 80s levels\n",
    "* May demonstrate more transparency (given that mentions of the term increased) within company messaging pertaining to the content and risks associated with the drugs being produced\n",
    "* With COVID there was also likely more safety concerns and certainly influence related to those events with the measures being taken\n",
    "\n",
    "#### Item 3: \"Consumer\""
   ]
  },
  {
   "cell_type": "code",
   "execution_count": 20,
   "id": "de9d1cea-bf18-48cc-bb35-de580a43028e",
   "metadata": {},
   "outputs": [],
   "source": [
    "norm_80s_con= count_80s.get('consumer')/size_80s*base\n",
    "norm_90s_con= count_90s.get('consumer')/size_90s*base\n",
    "norm_00s_con= count_00s.get('consumer')/size_00s*base\n",
    "norm_10s_con= count_10s.get('consumer')/size_10s*base\n",
    "norm_20s_con= count_20s.get('consumer')/size_20s*base"
   ]
  },
  {
   "cell_type": "code",
   "execution_count": 28,
   "id": "c9e494a0-7831-464b-a4e0-5633fdb9d159",
   "metadata": {},
   "outputs": [
    {
     "name": "stdout",
     "output_type": "stream",
     "text": [
      "decade, \"consumer\", normalized frequency\n",
      "80s: 4.19 per 10,000 words\n",
      "90s: 2.99 per 10,000\n",
      "00s: 1.58 per 10,000\n",
      "10s: 4.89 per 10,000\n",
      "20s: 4.86 per 10,000\n"
     ]
    }
   ],
   "source": [
    "print(f'decade, \"consumer\", normalized frequency')\n",
    "print(f'80s: {norm_80s_con:.2f} per {base:,} words')\n",
    "print(f'90s: {norm_90s_con:.2f} per {base:,}')\n",
    "print(f'00s: {norm_00s_con:.2f} per {base:,}')\n",
    "print(f'10s: {norm_10s_con:.2f} per {base:,}')\n",
    "print(f'20s: {norm_20s_con:.2f} per {base:,}')"
   ]
  },
  {
   "cell_type": "markdown",
   "id": "7b5d812c-fa90-4812-897f-dbc2d777902c",
   "metadata": {},
   "source": [
    "### Observations:\n",
    "* features of the term fell off in the 90s and 2000s, but returned to roughly constant numbers after the fact\n",
    "* rates were mostly constant otherwise\n",
    "\n",
    "\n",
    "#### Item 4: \"Risk\""
   ]
  },
  {
   "cell_type": "code",
   "execution_count": 23,
   "id": "67befaad-7708-4311-8aff-2145ad33a175",
   "metadata": {},
   "outputs": [],
   "source": [
    "norm_80s_risk= count_80s.get('risk')/size_80s*base\n",
    "norm_90s_risk= count_90s.get('risk')/size_90s*base\n",
    "norm_00s_risk= count_00s.get('risk')/size_00s*base\n",
    "norm_10s_risk= count_10s.get('risk')/size_10s*base\n",
    "norm_20s_risk= count_20s.get('risk')/size_20s*base"
   ]
  },
  {
   "cell_type": "code",
   "execution_count": 26,
   "id": "95d0970a-cdf8-4b02-91b8-209730c646e6",
   "metadata": {},
   "outputs": [
    {
     "name": "stdout",
     "output_type": "stream",
     "text": [
      "decade, \"risk\", normalized frequency\n",
      "80s: 2.32 per 10,000 words\n",
      "90s: 5.52 per 10,000\n",
      "00s: 17.93 per 10,000\n",
      "10s: 17.49 per 10,000\n",
      "20s: 25.04 per 10,000\n"
     ]
    }
   ],
   "source": [
    "print(f'decade, \"risk\", normalized frequency')\n",
    "print(f'80s: {norm_80s_risk:.2f} per {base:,} words')\n",
    "print(f'90s: {norm_90s_risk:.2f} per {base:,}')\n",
    "print(f'00s: {norm_00s_risk:.2f} per {base:,}')\n",
    "print(f'10s: {norm_10s_risk:.2f} per {base:,}')\n",
    "print(f'20s: {norm_20s_risk:.2f} per {base:,}')"
   ]
  },
  {
   "cell_type": "code",
   "execution_count": null,
   "id": "74891208-2800-4240-b587-51c906c842f3",
   "metadata": {},
   "outputs": [],
   "source": []
  },
  {
   "cell_type": "markdown",
   "id": "ca4c5a4f-6f84-4e98-8bcc-e9befcac9c0f",
   "metadata": {},
   "source": [
    "### Observations:\n",
    "* the word risk increased significantly over time\n",
    "* comparable numbers in the 2000s and 10s\n",
    "* there may have been more risk associated with the types of drugs being produced within each decade\n",
    "* More mentions of the word \"risk\" could highlight greater transparency within the drug industry of the associated risks\n",
    "\n",
    "#### Item 5: \"President\""
   ]
  },
  {
   "cell_type": "code",
   "execution_count": 25,
   "id": "565f18d4-2107-4221-ab5c-a9a1028296d7",
   "metadata": {},
   "outputs": [],
   "source": [
    "norm_80s_pres= count_80s.get('president')/size_80s*base\n",
    "norm_90s_pres= count_90s.get('president')/size_90s*base\n",
    "norm_00s_pres= count_00s.get('president')/size_00s*base\n",
    "norm_10s_pres= count_10s.get('president')/size_10s*base\n",
    "norm_20s_pres= count_20s.get('president')/size_20s*base"
   ]
  },
  {
   "cell_type": "code",
   "execution_count": 27,
   "id": "fe2b92f8-1c1f-42e4-bfd1-be28433e07b3",
   "metadata": {},
   "outputs": [
    {
     "name": "stdout",
     "output_type": "stream",
     "text": [
      "decade, \"president\", normalized frequency\n",
      "80s: 8.16 per 10,000 words\n",
      "90s: 5.52 per 10,000\n",
      "00s: 4.00 per 10,000\n",
      "10s: 1.71 per 10,000\n",
      "20s: 1.00 per 10,000\n"
     ]
    }
   ],
   "source": [
    "print(f'decade, \"president\", normalized frequency')\n",
    "print(f'80s: {norm_80s_pres:.2f} per {base:,} words')\n",
    "print(f'90s: {norm_90s_pres:.2f} per {base:,}')\n",
    "print(f'00s: {norm_00s_pres:.2f} per {base:,}')\n",
    "print(f'10s: {norm_10s_pres:.2f} per {base:,}')\n",
    "print(f'20s: {norm_20s_pres:.2f} per {base:,}')"
   ]
  },
  {
   "cell_type": "code",
   "execution_count": null,
   "id": "b8cbe682-0dd4-4de6-ba58-62ac967d1318",
   "metadata": {},
   "outputs": [],
   "source": []
  },
  {
   "cell_type": "markdown",
   "id": "2f0552bb-0e2d-4b8e-b4ba-2ca8c0ee62c0",
   "metadata": {},
   "source": [
    "### Observations:\n",
    "* Chose this word because it may be of interest (as in, could relate to the number of times the \"president\" of the company/related may have spoken out, or related to the scandal, so it's frequency could be a measure of interest)\n",
    "* Its frequency across decades definitely fell off with time (2020s being the lowest number of times spoken per 10,000 words)\n",
    "* the 1980s had by far the highest normalized frequency\n",
    "\n",
    "## Bigram Keyness Analysis"
   ]
  },
  {
   "cell_type": "code",
   "execution_count": 98,
   "id": "681fdd66-6498-4140-bb94-c7842636bb95",
   "metadata": {},
   "outputs": [],
   "source": [
    "### Bigrams Lists:\n",
    "\n",
    "bigram_80s=get_ngram_tokens(token_80s,n=2)\n",
    "count_bi_80s=Counter(bigram_80s)\n",
    "\n",
    "bigram_90s=get_ngram_tokens(token_90s,n=2)\n",
    "count_bi_90s=Counter(bigram_90s)\n",
    "\n",
    "bigram_00s=get_ngram_tokens(token_00s,n=2)\n",
    "count_bi_00s=Counter(bigram_00s)\n",
    "\n",
    "bigram_10s=get_ngram_tokens(token_10s,n=2)\n",
    "count_bi_10s=Counter(bigram_10s)\n",
    "\n",
    "bigram_20s=get_ngram_tokens(token_20s,n=2)\n",
    "count_bi_20s=Counter(bigram_20s)"
   ]
  },
  {
   "cell_type": "code",
   "execution_count": 144,
   "id": "74b0669d-c005-46e3-9684-3e45064daebe",
   "metadata": {},
   "outputs": [
    {
     "name": "stdout",
     "output_type": "stream",
     "text": [
      "Normalized Frequencies:  1980s     1990s     2000s     2010s    2020s\n",
      "risk of                   0.66      1.49      11.34     5.26      7.1       \n",
      "heart attack              0.0       0.23      7.15      0.61      0.37      \n",
      "consumer trust            0.0       0.0       0.0       0.0       0.0       \n",
      "consumer confidence       0.0       0.0       0.0       0.0       0.0       \n",
      "drug administration       18.64     12.53     13.1      17.0      18.31     \n",
      "he said                   20.85     13.1      8.18      4.16      1.12      \n"
     ]
    }
   ],
   "source": [
    "bigrams_list = ['risk of', 'heart attack', \n",
    "                        'consumer trust', 'consumer confidence',\n",
    "                        'drug administration','he said'\n",
    "                        ]\n",
    "\n",
    "print(f'Normalized Frequencies:  1980s     1990s     2000s     2010s    2020s')\n",
    "\n",
    "for item in bigrams_list:\n",
    "    norm_freq_80s=count_bi_80s.get(item,0)/size_80s*base\n",
    "    norm_freq_90s=count_bi_90s.get(item,0)/size_90s*base\n",
    "    norm_freq_00s=count_bi_00s.get(item,0)/size_00s*base\n",
    "    norm_freq_10s=count_bi_10s.get(item,0)/size_10s*base\n",
    "    norm_freq_20s=count_bi_20s.get(item,0)/size_20s*base\n",
    "\n",
    "    print(f'{item: <26}{round(norm_freq_80s,2): <10}{round(norm_freq_90s,2): <10}{round(norm_freq_00s,2): <10}{round(norm_freq_10s,2): <10}{round(norm_freq_20s,2): <10}')"
   ]
  },
  {
   "cell_type": "markdown",
   "id": "9d5d431e-0117-4015-bcca-8dd0b0461319",
   "metadata": {},
   "source": [
    "### Observations:\n",
    "* this analysis focuses on the normalized frequencies for phrases per 10,000 words\n",
    "* Interestingly the phrase \"risk of\" increased within the news/media coverage with time\n",
    "* usage of the phrase \"heart attack\" increased with time until the 2000s, and then fell off until the 2020s; perhaps this could relate to the drugs being recalled, as in the drugs from the 1980s-2000s were more associated with heart issues/concerns\n",
    "* the phrases consumer \"trust\" and \"confidence\" were non-existent across all decades; this could be an analysis issue, or perhaps an area in which no striking information was found\n",
    "* mentions of the \"drug administration\" kept relatively steady; it tapered off a little bit going into those mid 3 decades, and then picked up back again to pre-90s levels in 2020s\n",
    "* The phrase \"he said\" also diminished significantly over time; indicative of the number of public statements-that were relevant to the issue-were made (i.e. whether it was by the head of company, a representative/etc., or a public official making a statement on behalf, and so forth)\n",
    "  * in other words, the mentions of public statements made dwindled with time"
   ]
  },
  {
   "cell_type": "markdown",
   "id": "fdb3628e-797b-4003-ad94-da43b36c3315",
   "metadata": {},
   "source": [
    "## KWIC Context Comparisons (Written Notes/Observations):\n",
    "\n",
    "1980s Corpus:\n",
    "* Corporate messaging reflected negative press and connotations regarding company actions and public image\n",
    "* There was ambiguity in accountability, particularly about who should bear responsibility for public health and safety issues\n",
    "* Reports indicated instances of test evasion/cheating\n",
    "* Greater emphasis appeared to be placed on maintaining corporate image rather than addressing public health concerns effectively\n",
    "\n",
    "1990s:\n",
    "* Notable improvements were observed in corporate messaging, with a greater mention of more secure safety methods/protocols.\n",
    "* Ambiguity persisted, particularly around drug efficacy and the reliability of safety claims.\n",
    "* FDA’s role becoming central, though concerns about corporate transparency remained.\n",
    "\n",
    "2000s:\n",
    "* Messaging demonstrated a clear shift toward prioritizing public health and patient safety. \n",
    "* Greater mention of “public health”\n",
    "* Companies increasingly emphasized compliance with regulatory standards, including the need for longer and more rigorous drug studies\n",
    "* References to “quality assurance” and consumer safety became more frequent, reflecting a higher corporate commitment to addressing public concerns\n",
    "* Enhanced communication of safety warnings and trust-building marked a significant effort to rebuild credibility and strengthen consumer confidence\n",
    "\n",
    "2010s:\n",
    "* Greater mentions of phrases and words related to credibility and holding responsibility; showing how the foundations for communication messaging involved more techniques and words related to these principles\n",
    "* Shows a greater upholding and adherence to better communication strategies and health concerns\n",
    "* A shift towards a higher standard to corporate accountability\n",
    "* More focus on building public trust & highlighted more influence of consumer input with respect to recall protocols/addressing of the public\n",
    "\n",
    "2020s comparison Frequency Lists Across Decades (2020s vs. Earlier Years)\n",
    "* In the 2020s, there’s more focus on specific drugs like \"Chantix\" and \"Metformin,\" similar to the 2010s focus on \"Valsartan,\" while earlier years talked about broader controversies like \"diet drugs\"\n",
    "* Contamination terms like \"Nitrosamine\" and \"NDMA\" are still key in the 2020s, continuing from the 2010s, whereas earlier decades didn’t focus much on chemical impurities\n",
    "* The 2020s use more technical language like \"impurity\" and \"acceptable levels,\" which feels more precise compared to the simpler terms like \"safety\" and \"recall\" in the 1980s and 1990s\n",
    "* Mentions of \"patients\" and \"health\" are consistent across all decades, but the 2020s feel more personal with words like \"consumers\" and \"affected\" compared to the more corporate or regulatory focus in the past\n",
    "* Big companies like \"Pfizer\" and \"Pharma\" are named outright in the 2020s, reflecting the same scrutiny on companies seen in the 2010s with mentions like \"McNeil,\" but in the 1980s and 1990s, company names felt less central\n",
    "* Health conditions like \"thyroid\" and \"diabetes\" are showing up more in the 2020s, while earlier decades seemed to focus more on singular crises like heart valve issues or weight-loss drugs\n",
    "* The tone in the 2020s feels proactive, with words like \"potential\" and \"adverse,\" showing companies trying to get ahead of issues, unlike the 1980s and 1990s, where the focus was more reactive and on assigning blame"
   ]
  },
  {
   "cell_type": "markdown",
   "id": "5b3bba9b-87a9-40c2-947e-1f3fff509dcd",
   "metadata": {},
   "source": [
    "## VADER Scores Comparisons (Written Notes/Observations):\n",
    "* 2000's corpus had the highest negative sentiment score (0.095)\n",
    "* 2020s highest positive score (0.08)\n",
    "* All corpora had negative compound scores, except for the 2020s corpus; maybe indication of improved strategies over time (given that media coverage and related sentiment is more positive than the rest of the decade corpora)"
   ]
  },
  {
   "cell_type": "code",
   "execution_count": null,
   "id": "2e7cbda2-71e3-4427-a2be-bcc61d1f293f",
   "metadata": {},
   "outputs": [],
   "source": []
  }
 ],
 "metadata": {
  "citation-manager": {
   "items": {}
  },
  "kernelspec": {
   "display_name": "Python 3 (ipykernel)",
   "language": "python",
   "name": "python3"
  },
  "language_info": {
   "codemirror_mode": {
    "name": "ipython",
    "version": 3
   },
   "file_extension": ".py",
   "mimetype": "text/x-python",
   "name": "python",
   "nbconvert_exporter": "python",
   "pygments_lexer": "ipython3",
   "version": "3.10.12"
  }
 },
 "nbformat": 4,
 "nbformat_minor": 5
}
