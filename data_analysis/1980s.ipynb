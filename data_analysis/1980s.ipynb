{
 "cells": [
  {
   "cell_type": "markdown",
   "id": "c3b2566f-9433-43e9-b1ea-28f9170c4ae4",
   "metadata": {},
   "source": [
    "Functions:"
   ]
  },
  {
   "cell_type": "code",
   "execution_count": 33,
   "id": "c74f93f6-b388-4f6e-9e35-b2a057ff8ba4",
   "metadata": {},
   "outputs": [],
   "source": [
    "from collections import Counter\n",
    "import os\n",
    "import string\n",
    "import json\n",
    "import matplotlib.pyplot as plt\n",
    "from IPython.display import Image"
   ]
  },
  {
   "cell_type": "code",
   "execution_count": 34,
   "id": "ed349337-54f5-49a6-bf5e-ca11b387e0a0",
   "metadata": {},
   "outputs": [],
   "source": [
    "import os\n",
    "os.chdir('../data_analysis')\n",
    "%run functions.ipynb"
   ]
  },
  {
   "cell_type": "markdown",
   "id": "425cd73a-cd75-4a2a-97f0-6feb51df53bf",
   "metadata": {},
   "source": [
    "Read Text File:"
   ]
  },
  {
   "cell_type": "code",
   "execution_count": 35,
   "id": "f166c846-7205-4435-82fb-330678f258e0",
   "metadata": {},
   "outputs": [],
   "source": [
    "import os\n",
    "os.chdir('../data')\n",
    "text = open('eighties.txt').read()"
   ]
  },
  {
   "cell_type": "markdown",
   "id": "401d4cb6-55b6-4743-a32e-2fe6cf7d4684",
   "metadata": {},
   "source": [
    "## 1980s Corpus Setup:"
   ]
  },
  {
   "cell_type": "markdown",
   "id": "b04b02e5-4b73-4dd1-a40f-5af983521bd5",
   "metadata": {},
   "source": [
    "#### Elimnate TOC for analysis:"
   ]
  },
  {
   "cell_type": "code",
   "execution_count": 36,
   "id": "bf04f99d-52d7-47da-b1d2-73d13f9f824b",
   "metadata": {},
   "outputs": [
    {
     "data": {
      "text/plain": [
       "10638"
      ]
     },
     "execution_count": 36,
     "metadata": {},
     "output_type": "execute_result"
    }
   ],
   "source": [
    "text.index(\"200. Some Analysts See Prices Rising, Others Don't\")"
   ]
  },
  {
   "cell_type": "markdown",
   "id": "cabbda04-2cbb-4704-a38b-18c76ad6855f",
   "metadata": {},
   "source": [
    "* The first 10,690 characters contain the table of contents for every (of the 200) article(s):"
   ]
  },
  {
   "cell_type": "code",
   "execution_count": 6,
   "id": "7dbee897-7443-4336-9375-eeff1bb1a8b2",
   "metadata": {},
   "outputs": [
    {
     "data": {
      "text/plain": [
       "\"\\nUser Name: = \\nDate and Time: = 2024-11-21\\nJob Number: = 239221323\\n\\nDocuments (200)\\nClient/Matter: -None-\\nSearch Terms: drug recall\\nSearch Type: NaturalAnd\\nContent Type\\nNarrowed by\\nnews\\nTimeline: 01 Jan, 1980 to 31 Dec, 1989 Industry: Pharmaceuticals & Biotechnology \\n\\n1. Drug firm recalls arthritis drug\\n\\n2. Company Recalls Six Drugs\\n\\n3. Drug recalled in generic drug scandal\\n\\n4. TOO DRUNK TO RECALL DRUG BUY NORTHSIDE COURTS\\n\\n5. Manufacturer Recalls Arthritis Drug\\n\\n6. Malaria drug recalled\\n\\n7. Du Pont recalls anticoagulant drug ''Coumadin''\\n\\n8. Company Recalls Cholesterol-Lowering Drug\\n\\n9. Company Recalls Cholesterol-Lowering Drug\\n\\n10. Bolar Begins Drug Recall\\n\\n11. 3 Drugs Recalled Over Poison\\n\\n12. EPILEPSY DRUG RECALLED\\n\\n13. Health group urges heart drug recall\\n\\n14. Generic scandal prompts another drug recall\\n\\n15. Blood Pressure Drug Voluntarily Recalled\\n\\n16. Company Agrees to Recall a Second Generic Drug\\n\\n17. LYPHOMED LAUNCHES GENERIC DRUG RECALL\\n\\n18. Newspaper Says Warning Failed To Get Drug Recalled\\n\\n19. Malaria Drug Recalled; Wrong Medicine in Bottle\\n\\n20. Drug Recalled in AIDS Scare\\n\\n21. Drug Company Recalls 10 Products\\n\\n22. FDA Recalls Brand of Heart Drug Quinidine Glutonate\\n\\n23. FDA Recalls Brand of Heart Drug Quinidine Glutonate\\n\\n24. Watchdog Groups Seek Recall of Painkilling Drug\\n\\n25. Consumer Group Asks Recall of Older Drug Lots\\n\\n26. Drug recall may cost Johnson $20m\\n\\n27. TRACES OF POISON LEAD TO RECALL OF THREE DRUGS\\n\\n28. Drug Maker Recalls 7 Products\\n\\n29. Company Recalls Mislabled Heart Drug Sold to Veterans Administration\\n\\n30. Possible Life Threat Cited in Recall of Heart Drug\\n\\n31. Company Recalls Mislabled Heart Drug Sold to Veterans Administration\\n\\n32. BLEEDING FACTOR RECALLED, FOOD AND DRUG ADMINISTRATION REPORTS\\n\\n33. Company Recalls High Blood Pressure Drug, Maxide\\n\\n34. Drug Company Recalls Urinary Tract Medicine\\n\\n35. Drug Recalled Because of Misrepresented Samples\\n\\n36. Founder of AIDS Drug Recalls Early Research\\n\\n37. Drug company recalls antibiotic capsules\\n\\n38. FOOD AND DRUG ADMINISTRATION RECALLS COLD MEDICINE\\n\\n39. Commons may have to be recalled to pass drug patent bill, PM says\\n\\n40. FOOD AND DRUG ADMINISTRATION ANNOUNCES RECALL\\n\\n41. Drug Manufacturer Recalls Cold Syrups, Citing Health Risks\\n\\n42. BARNES RECALLS VOTES BY A DRUG 'COUNCIL' TO MURDER INFORMERS\\n\\n43. FDA Says Heart, Blood Pressure Drug Is Recalled After Mislabeling\\n\\n44. Drug Firm Agrees to Recall Cattle Implants\\n\\n45. Retired General Recalls Frustration at Watching Drug Runners at Work\\n\\n46. FDA orders drug firm to recall press release about medicine\\n\\n47. Bush Anti-Drug Proposals Recall Rocky's New York War\\n\\n48. URGENT RECALL OF DRUGS\\n\\n49. COMPANY NEWS; Par Recalls Drugs Pending Inquiry\\n\\n50. DRUG RECALL FOR DIABETICS\\n\\n51. Drug Recall Is Announced\\n\\n52. WIRE CAUSES DRUG RECALL\\n\\n53. DRUG BATCH RECALLED\\n\\n54. GENERIC ANTICONVULSANT RECALLED BY DRUG COMPANY FOR INEFFECTIVENESS\\n\\n55. FOOD AND DRUG ADMINISTRATION TODAY RECALLED ACIDOPHILUS CAPSULES WHICH MAY BE MIXED WITH DANGEROUS S\\n\\n56. Hoechst Drugs Recalled\\n\\n57. REAGAN RECALLS OFFICIALS FOR DRUG ABUSE BRIEFINGS\\n\\n58. Drug recall: steel wire in capsules\\n\\n59. Cholesterol drug recalled by Bristol-Myers\\n\\n60. COMPANY NEWS; U.S. Inspection Leads to Lilly Recall\\n\\n61. FAULTY RECORDS AT LILLY PROMPT DRUG RECALL\\n\\n62. U.S. Announces Recall Of Defective Heart Drug\\n\\n63. GENERIC ANTICONVULSANT RECALLED BY FDA FOR INEFFECTIVENESS\\n\\n64. DRUG FIRM RECALLING GENERIC ANTIBIOTIC\\n\\n65. Johnson and Johnson hit by drug recall\\n\\n66. Heart drug recalled urgently over fault\\n\\n67. LAXATIVE WITHDRAWN BY FOOD AND DRUG ADMINISTRATION\\n\\n68. American Home shuts generic plant\\n\\n69. Disputed Antibiotic Recalled\\n\\n70. NIPPON CHEMIPHAR UNDER HEAVY SELLING PRESSURE IN EARLY TSE TRADING\\n\\n71. LILLY RECALLS 10 PRODUCTS\\n\\n72. HEALTH: PRODUCT SAFETY; Mislabeled Poison Prompts Criticism Of Government's Recall Procedure\\n\\n73. FLORIDA HRS SECRETARY COLER REQUESTS REMOVAL OF L-TRYPTOPHAN FROM SHELVES OF FLORIDA RETAILERS\\n\\n74. GENERIC DRUGS GENERALLY SAFE; NO CAUSE FOR FEAR, SAYS FDA\\n\\n75. FDA Says Firm Has Sold Unapproved Drug\\n\\n76. Cheating Scandal May Lead to Costlier Generics\\n\\n77. FDA recalls laxative\\n\\n78. Orphengesic, generic drug\\n\\n79. Drug Firm Recalls 50 Million Epilepsy Tablets\\n\\n80. THRIFT DRUG COMPANY ANNOUNCES RECALL\\n\\n81. ZOMAX Returning To Drugstores 'Fairly Soon'\\n\\n82. DOUBTS ON DRUG TESTS - BLEWETT\\n\\n83. scientific progress to change u.s. life in decades\\n\\n84. Widow of drug firm's founder recalls its depression start; 'We still have some of the same customers'\\n\\n85. FDA Chief Says Agency Needs More Power to Punish Cheating on Drug Tests\\n\\n86. FDA Chief Says Agency Needs More Power to Punish Cheating on Drug Tests\\n\\n87. Critics attack supply of 'banned' drugs\\n\\n88. Contac to make comeback\\n\\n89. Feds Criticize Heart Pacemaker Recall\\n\\n90. Feds Criticize Heart Pacemaker Recall\\n\\n91. Infant formula rules issued\\n\\n92. Potassium Chloride Recalled\\n\\n93. Potassium Chloride Recalled\\n\\n94. Company to Pull Acidic Heart Drug Off Market\\n\\n95. Tampering suspect says reward too low\\n\\n96. DRUG MAKERS ARE USING BAD HABITS\\n\\n97. Reward Fund Reaches $900,000 for Tampering Information\\n\\n98. Editors: Repeating earlier story FDA probes big brand-name drug firm\\n\\n99. Maker Recalls 7 Products\\n\\n100. FDA probes big brand-name drug firm\\n\\n101. New drug approval procedures proposed\\n\\n102. Faster drug approval planned\\n\\n103. Faster drug approval planned\\n\\n104. FDA Drafting Direct-to-Consumer Rx Ad Rules\\n\\n105. Johnson mixed own steroid ''cocktail''\\n\\n106. COMPUTERS CROSS-CHECKING USE OF MEDICINES\\n\\n107. New Efforts to Treat the Headaches That Won't Go Away\\n\\n108. 234,000 Bottles Being Recalled\\n\\n109. Govt warns doctors over suspect drugs\\n\\n110. TAINTED ANTICOAGULANT DRUG FOR TREATING CANCER RECALLED\\n\\n111. Drug Manufacturer Pulls Pain-Reliever From Market\\n\\n112. 33 DRUGS BANNED FOR NEW PATIENTS\\n\\n113. Mellor says drug dealers may forfeit their assets to state / Home Office official on the profits of crime\\n\\n114. VITAMIN SUPPLEMENT LINKED TO 12 DEATHS OF PREMATURE BABIES\\n\\n115. LOOKING FOR WEAKEST LINK\\n\\n116. PENNSYLVANIA MEDICAL SOCIETY CONVENES ITS HOUSE OF DELEGATES TODAY\\n\\n117. Reagan: Ambassadors Will Relay Get-Tough Message to Foreigners\\n\\n118. Reagan seeks diplomatic help in anti-drug crusade\\n\\n119. Drug for treating AIDS-related infections recalled\\n\\n120. State Trying to Shut Down 'Filthy' Pharmaceutical Plant\\n\\n121. House Members Urge Diplomatic Efforts On Drugs\\n\\n122. Johnson & Johnson Halts Sales of Painkiller, Citing Lagging Sales\\n\\n123. Judge Rules Against Generic Drug Makers\\n\\n124. DRUG LINKED TO INFANT DEATHS RESULTS IN FEDERAL INDICTMENT\\n\\n125. Judge Rules Against Generic Drug Makers\\n\\n126. Radioactive Polonium Leakage Found At Three More Plants\\n\\n127. Caller Brags Reward 'Isn't Enough' In Tainted Capsule Case\\n\\n128. LIFELINE\\n\\n129. PEOPLE - CHEMICALS\\n\\n130. Cold Medicine Recalled\\n\\n131. U.S. Detects Radioactive Leaks at 3 More Plants\\n\\n132. Maker: Product May Have Been Marketed Without Full Test But It's Safe\\n\\n133. Maker: Product May Have Been Marketed Without Full Test But It's Safe\\n\\n134. Pill amnesty promotes safe medicine use\\n\\n135. SCHWAB 'S BECOMES PART OF THE HOLLYWOOD LEGEND\\n\\n136. 3M Corp. Expands Its Halt To Use Of Static Devices After Radiation Leaks\\n\\n137. 3M Expands Market Withdrawal Of Static Devices After Radiation Leaks\\n\\n138. FDA Investigating Maker of Blood Pressure Drug\\n\\n139. FDA Says Review of Generic Drugs Has Resulted in One Recall\\n\\n140. Business and Health; Drug Exports: Gains Forecast\\n\\n141. Judge Rules Against Generic Drug Maker\\n\\n142. Judge Rules Against Generic Drug Maker\\n\\n143. ZOMAX Returning To Drugstores In Matter Of Weeks\\n\\n144. U.S. Charges Safety, Effectiveness of Drug Misrepresented\\n\\n145. FDA Commissioner 'Shocked' at Bribes Tied to Drug Companies\\n\\n146. Exec says Tylenol selling again\\n\\n147. Radioactive Polonium Leakage Found At Three More Plants\\n\\n148. Company Recalls Selenium Tablets\\n\\n149. Drug Manufacturer Says it Falsified Tests to Seek FDA Approval\\n\\n150. FDA Says Generic Drug Review Results in One Recall\\n\\n151. FDA Says Generic Drug Review Results in One Recall\\n\\n152. NEW YORK COMPANY EXAMINED BY F.D.A.\\n\\n153. FDA Commissioner 'Shocked' at Bribes Tied to Drug Companies\\n\\n154. RhoGAM batch didn't cause AIDS case, study finds\\n\\n155. `Battered woman' acquitted by jury of federal heroin smuggling charges\\n\\n156. NCAA rules Nunn ineligible Aztec cornerback tests positive for methamphetamine\\n\\n157. Olympic winner 'gave advie on drug taking'\\n\\n158. Pharmaceutical Company, Beset by Problems, Trying to Recover\\n\\n159. Magistrate Grants Bond, But Wants To Know Money Source\\n\\n160. Nader Group Denounces Heart Valve Recall as Inadequate\\n\\n161. Lilly given U.S. go-ahead to sell pioneering insulin\\n\\n162. Generic firm temporarily shut down\\n\\n163. Generic firm temporarily shut down\\n\\n164. Ninth Tainted Capsule Found, FDA Ready For False Alarms\\n\\n165. SmithKline Recalls Poison-Tampered Capsules\\n\\n166. Radio program brings O'Connor, Koch together\\n\\n167. FDA Recalls Nursoy Brand Infant Formula\\n\\n168. THE DOCTOR'S WORLD\\n\\n169. Hoechst warns on 'cheap drugs'\\n\\n170. FDA Recalls Nursoy Brand Infant Formula\\n\\n171. Too Early To Blame E-Ferol For Babies' Deaths, Doctor Says\\n\\n172. QUALITY OF ARTIFICIAL HEART VALVES IS ASSAILED\\n\\n173. FDA Wants Immediate Reports on Bad Drug Reactions\\n\\n174. OLYMPICS; Credibility Is in Question\\n\\n175. FDA Investigating Drug Manufacturer Alleged to Have Falsified Tests\\n\\n176. U.S. ACTION ON FOODS, DRUGS DIPS\\n\\n177. F.D.A. TELLS COMPANY TO REVISE DRUG DESCRIPTION\\n\\n178. New FDA rules may plug deadly loophole\\n\\n179. EPA Cites Drinking Water as Possible Source of Household Radon\\n\\n180. ANTI-DEPRESSANT RECALLED\\n\\n181. Fake Birth Controls Traced from Spain , Guatemala\\n\\n182. Aspirin linked to rare childhood disease\\n\\n183. FDA Accused Of Botching Probes Of Drug-Diversion Schemes\\n\\n184. Kraft Taking Apart Plant in Search for Bacteria\\n\\n185. Vitamin Solution Linked to Infant Deaths\\n\\n186. DRUG WITHDRAWN AFTER FIVE DEATHS\\n\\n187. Antibiotics are recalled\\n\\n188. SmithKline to buy up to 20 percent of its shares in '' Dutch Auction''\\n\\n189. Drug feared tainted with AIDS virus Suspect RhoGam used on 75 women at Scripps hospital\\n\\n190. Colombian envoy shot as warning papers say\\n\\n191. Manufacturers are edging quietly toward ads for prescription drugs\\n\\n192. THE NITRITE SYNDROME; by Jack D. Early\\n\\n193. DOCTORS STRETCH RULES ON AIDS DRUG\\n\\n194. Congressman Calls for Justice Investigation of Drug Maker\\n\\n195. u.s. pharmacists try to prevent drug interactions\\n\\n196. F.D.A. Chief Says Most Generics Meet Standards\\n\\n197. Inhalers for Asthma Recalled\\n\\n198. U.S. generic drug firms under the gun\\n\\n199. Europe Worries it Will Catch Crack's Continental Drift\\n\\n200. Some Analysts See Prices Rising, Others Don't\\n\\n\""
      ]
     },
     "execution_count": 6,
     "metadata": {},
     "output_type": "execute_result"
    }
   ],
   "source": [
    "text[:10690]"
   ]
  },
  {
   "cell_type": "code",
   "execution_count": 37,
   "id": "24093b2c-4efc-49f6-b8ae-975275eb4cea",
   "metadata": {},
   "outputs": [],
   "source": [
    "no_toc_text=(text[10690:])"
   ]
  },
  {
   "cell_type": "code",
   "execution_count": 38,
   "id": "f3d2dd55-b3c8-46dc-9e85-194f8397d1f3",
   "metadata": {},
   "outputs": [
    {
     "data": {
      "text/plain": [
       "'\\n\\n\\nDrug firm recalls arthritis drug\\nUnited Press International\\nOctober 28, 1985, Monday, BC cycle\\n\\n\\u2028'"
      ]
     },
     "execution_count": 38,
     "metadata": {},
     "output_type": "execute_result"
    }
   ],
   "source": [
    "no_toc_text[:100]"
   ]
  },
  {
   "cell_type": "markdown",
   "id": "83e61a9a-78f3-4964-938e-b66eef98c86b",
   "metadata": {},
   "source": [
    "#### Create list of documents:\n",
    "* Split along delimiter: 'End of Document' to get a list of documents"
   ]
  },
  {
   "cell_type": "code",
   "execution_count": 9,
   "id": "ad7106a0-e4bb-4111-924e-52e5dcdd06b3",
   "metadata": {},
   "outputs": [],
   "source": [
    "doc_list=no_toc_text.split('End of Document')"
   ]
  },
  {
   "cell_type": "markdown",
   "id": "b8091afb-4f7c-48f0-8a95-398c88f78954",
   "metadata": {},
   "source": [
    "* glimpse at first document in the list (item 1):"
   ]
  },
  {
   "cell_type": "code",
   "execution_count": 10,
   "id": "ff9b36f5-2979-4b81-8233-26ef5fa63e76",
   "metadata": {},
   "outputs": [
    {
     "name": "stdout",
     "output_type": "stream",
     "text": [
      "\n",
      "\n",
      "\n",
      "Drug firm recalls arthritis drug\n",
      "United Press International\n",
      "October 28, 1985, Monday, BC cycle\n",
      "\n",
      " ",
      "Copyright 1985 U.P.I.\n",
      "Section: Financial\n",
      "Length: 408 words\n",
      "Dateline: MORRIS PLAINS, N.J.\n",
      "Body\n",
      "\n",
      "\n",
      "\n",
      "\n",
      "Warner-Lambert Co. Monday suspended worldwide sales of an arthritis drug linked to five deaths and scattered cases of severe skin reaction in Europe, a spokesman said.\n",
      "The New Jersey-based pharmaceutical company said it is recalling Isoxicam, a non-steroidal drug designed to reduce the inflammation of joints due to arthritis.\n",
      "The drug was introduced in Europe in 1983, but company spokesman Marshall Molloy said it has not been released in the United States. It has been under review by the federal Food and Drug Administration since 1982.\n",
      "The company decided to voluntarily withdraw the anti-arthritis drug from the world market so it can be re-evaluated scientifically and medically, Malloy said. He said the drug already had been recalled in France.\n",
      "Malloy said 13 cases of a rare but severe skin disorder called Lyelle's syndrome have been linked to Isoxicam. The syndrome, which causes inflammation and sometimes loss of the skin, caused four deaths in France and one in Italy.\n",
      "''Our clinical research (before the drug was released) had not shown reactions of this severity,'' Malloy said. He said the company did 300 clinical tests involving 46,000 people before the drug was introduced in 1983.\n",
      "Malloy said the drug has been prescribed about 6.5 million times for roughly 4 million patients. He said sales of Isoxicam in 1984 totalled more than $20 million and were projected to reach nearly $25 million for 1985.\n",
      "The first death linked to Isoxicam occurred in August 1984 in France. The drug was also marketed in West Germany, Italy, Switzerland, Austria, Belgium, Pakistan, Thailand, the Phillipines, Malazia-Singapore, Peru, Chile, and parts of the Middle East and Central America.\n",
      "''We continue to believe in both the safety and efficacy of Isoxicam,'' the chief executive officer of Warner-Lambert, Joseph Williams, said in a statement. ''But in the current climate, we recognize that the responsible and prudent thing to do is to subject the drug to increased scrutiny and to suspend the sales while that review is in progress.''\n",
      "The suspension will allow ''sufficient time for the company to show various European Economic Community members that the data bases they are using are erroneous and incomplete, at least with respect to adverse reaction reports relating to competitive products that Isoxican is being compared to,'' Malloy said.\n",
      "Warner-Lambert is a worldwide health and personal care products company with sales of about $3.2 billion.\n",
      "\n",
      " ",
      "\n",
      "\n",
      "\n"
     ]
    }
   ],
   "source": [
    "print(doc_list[0])"
   ]
  },
  {
   "cell_type": "code",
   "execution_count": 11,
   "id": "0fe8729b-0ca5-49d2-8050-6a7c428f5597",
   "metadata": {},
   "outputs": [
    {
     "data": {
      "text/plain": [
       "201"
      ]
     },
     "execution_count": 11,
     "metadata": {},
     "output_type": "execute_result"
    }
   ],
   "source": [
    "len(doc_list)"
   ]
  },
  {
   "cell_type": "markdown",
   "id": "4733edce-c770-478e-b973-4ea2ff576270",
   "metadata": {},
   "source": [
    "Print first two items:"
   ]
  },
  {
   "cell_type": "code",
   "execution_count": 12,
   "id": "de974e7d-9c60-41e0-95f2-edb849b82c38",
   "metadata": {},
   "outputs": [
    {
     "data": {
      "text/plain": [
       "[\"\\n\\n\\nDrug firm recalls arthritis drug\\nUnited Press International\\nOctober 28, 1985, Monday, BC cycle\\n\\n\\u2028Copyright 1985 U.P.I.\\nSection:\\xa0Financial\\nLength:\\xa0408 words\\nDateline:\\xa0MORRIS PLAINS, N.J.\\nBody\\n\\n\\n\\n\\nWarner-Lambert Co. Monday suspended worldwide sales of an arthritis drug linked to five deaths and scattered cases of severe skin reaction in Europe, a spokesman said.\\nThe New Jersey-based pharmaceutical company said it is recalling Isoxicam, a non-steroidal drug designed to reduce the inflammation of joints due to arthritis.\\nThe drug was introduced in Europe in 1983, but company spokesman Marshall Molloy said it has not been released in the United States. It has been under review by the federal Food and Drug Administration since 1982.\\nThe company decided to voluntarily withdraw the anti-arthritis drug from the world market so it can be re-evaluated scientifically and medically, Malloy said. He said the drug already had been recalled in France.\\nMalloy said 13 cases of a rare but severe skin disorder called Lyelle's syndrome have been linked to Isoxicam. The syndrome, which causes inflammation and sometimes loss of the skin, caused four deaths in France and one in Italy.\\n''Our clinical research (before the drug was released) had not shown reactions of this severity,'' Malloy said. He said the company did 300 clinical tests involving 46,000 people before the drug was introduced in 1983.\\nMalloy said the drug has been prescribed about 6.5 million times for roughly 4 million patients. He said sales of Isoxicam in 1984 totalled more than $20 million and were projected to reach nearly $25 million for 1985.\\nThe first death linked to Isoxicam occurred in August 1984 in France. The drug was also marketed in West Germany, Italy, Switzerland, Austria, Belgium, Pakistan, Thailand, the Phillipines, Malazia-Singapore, Peru, Chile, and parts of the Middle East and Central America.\\n''We continue to believe in both the safety and efficacy of Isoxicam,'' the chief executive officer of Warner-Lambert, Joseph Williams, said in a statement. ''But in the current climate, we recognize that the responsible and prudent thing to do is to subject the drug to increased scrutiny and to suspend the sales while that review is in progress.''\\nThe suspension will allow ''sufficient time for the company to show various European Economic Community members that the data bases they are using are erroneous and incomplete, at least with respect to adverse reaction reports relating to competitive products that Isoxican is being compared to,'' Malloy said.\\nWarner-Lambert is a worldwide health and personal care products company with sales of about $3.2 billion.\\n\\n\\u2028\\n\\n\",\n",
       " '\\n\\n\\nCompany Recalls Six Drugs\\nThe Associated Press\\nMarch 6, 1981, Friday, PM cycle\\n\\n\\u2028Copyright 1981 Associated Press\\xa0 All Rights Reserved\\nLength:\\xa0425 words\\nByline:\\xa0By PAUL MOSES, Associated Press Writer\\nDateline:\\xa0NEWARK, N.J.\\nBody\\n\\n\\n\\n\\nA New Jersey generic drug manufacturer is recalling six of its products for testing by the U.S. Food and Drug Administration.\\nPremo Pharmaceutical Laboratories, Inc. of South Hackensack also has agreed to drop lawsuits against the FDA charging it favored brand-name manufacturers over the smaller generic companies, Executive Assistant U.S. Attorney Charles Walsh said Thursday.\\nThe settlement, reached last week before U.S. District Judge Frederick B. Lacey, closed a case in which the FDA asserted it had the right to test generic drugs before they were distributed.\\nPremo said its less expensive products were identical to drugs made by major companies on which patents had expired.\\nBut the judge found differences in inactive ingredients and manufacturing processes were great enough to allow the FDA to test the products, a process which can take up to 10 years.\\nThe varying inactive ingredients could cause the generic product to dissolve in the bloodstream at a different rate than the brand-name products, Lacey decided.\\nThe government contended many doctors and patients believed the products were equivalent.\\nIn the case of one drug, triamterene with hydrochlorothiazide, an error could possibly be fatal to the patient, the judge decided.\\nLacey issued a preliminary injunction Feb. 3 barring the manufacture or sale of eight of Premo\\'s drugs.\\nOne of those drugs, betamethasone valerate cream, used for skin ailments, was not subject to the recall.\\nPremo\\'s triamterene product also was not subject to recall, but Walsh said the FDA believed it was no longer on the marketplace.\\n\"We didn\\'t feel there was any out there,\" he said.\\nPremo argued in a separate suit that long delays by the FDA in testing new drug applications deprived the public of low-cost drugs. It asked the FDA be forced to decide new drug applications within 180 days.\\nBut Premo dropped the suit under the settlement, although it may be filed again within a year.\\nThe recalled drugs, with brand names and their manufacturers are: allopurinol tablets, marketed as Zyloprim by Burroughs Wellcome for treating gout symptoms; chlorthalidone tablets, marketed as Hygroton by USV Pharmaceuticals for treating edema; trifluoperazine hydrochloride tablets, marketed as Stelazine by Smith Kline & French for treating psychosis; doxylamine succinate and pyridoxine hydrochloride tablets, marketed as Bendectin by Merrell-National Laboratories for morning sickness; hydroxyzine pamoate capsules, or Vistaril, and hydroxyzine hydrochloride tablets, or Atarax, both by Pfizer Pharmaceuticals for tension.\\n\\n\\u2028\\n\\n']"
      ]
     },
     "execution_count": 12,
     "metadata": {},
     "output_type": "execute_result"
    }
   ],
   "source": [
    "doc_list[0:2]"
   ]
  },
  {
   "cell_type": "markdown",
   "id": "e7e56ae4-899a-4479-85d0-4ef33a08d1e7",
   "metadata": {},
   "source": [
    "### Normal- and token-ized docs\n",
    "* pointer: \"token_docs\""
   ]
  },
  {
   "cell_type": "code",
   "execution_count": 13,
   "id": "36e44ff8-2181-4f05-9f0a-9c1164a84301",
   "metadata": {},
   "outputs": [],
   "source": [
    "token_docs=[]\n",
    "for doc in doc_list:\n",
    "    doc_tokens=tokenize(doc,lowercase=True,strip_chars='!,.\"')\n",
    "    token_docs.append(doc_tokens)"
   ]
  },
  {
   "cell_type": "markdown",
   "id": "f6937aeb-6501-40e4-b57d-defaa605c79f",
   "metadata": {},
   "source": [
    "* Ex: the first doc normal- & token-ized:"
   ]
  },
  {
   "cell_type": "code",
   "execution_count": 14,
   "id": "a937a05b-00a2-4eed-b52b-38e24cbab305",
   "metadata": {},
   "outputs": [
    {
     "name": "stdout",
     "output_type": "stream",
     "text": [
      "['drug', 'firm', 'recalls', 'arthritis', 'drug', 'united', 'press', 'international', 'october', '28', '1985', 'monday', 'bc', 'cycle', 'copyright', '1985', 'upi', 'section:', 'financial', 'length:', '408', 'words', 'dateline:', 'morris', 'plains', 'nj', 'body', 'warner-lambert', 'co', 'monday', 'suspended', 'worldwide', 'sales', 'of', 'an', 'arthritis', 'drug', 'linked', 'to', 'five', 'deaths', 'and', 'scattered', 'cases', 'of', 'severe', 'skin', 'reaction', 'in', 'europe', 'a', 'spokesman', 'said', 'the', 'new', 'jersey-based', 'pharmaceutical', 'company', 'said', 'it', 'is', 'recalling', 'isoxicam', 'a', 'non-steroidal', 'drug', 'designed', 'to', 'reduce', 'the', 'inflammation', 'of', 'joints', 'due', 'to', 'arthritis', 'the', 'drug', 'was', 'introduced', 'in', 'europe', 'in', '1983', 'but', 'company', 'spokesman', 'marshall', 'molloy', 'said', 'it', 'has', 'not', 'been', 'released', 'in', 'the', 'united', 'states', 'it', 'has', 'been', 'under', 'review', 'by', 'the', 'federal', 'food', 'and', 'drug', 'administration', 'since', '1982', 'the', 'company', 'decided', 'to', 'voluntarily', 'withdraw', 'the', 'anti-arthritis', 'drug', 'from', 'the', 'world', 'market', 'so', 'it', 'can', 'be', 're-evaluated', 'scientifically', 'and', 'medically', 'malloy', 'said', 'he', 'said', 'the', 'drug', 'already', 'had', 'been', 'recalled', 'in', 'france', 'malloy', 'said', '13', 'cases', 'of', 'a', 'rare', 'but', 'severe', 'skin', 'disorder', 'called', \"lyelle's\", 'syndrome', 'have', 'been', 'linked', 'to', 'isoxicam', 'the', 'syndrome', 'which', 'causes', 'inflammation', 'and', 'sometimes', 'loss', 'of', 'the', 'skin', 'caused', 'four', 'deaths', 'in', 'france', 'and', 'one', 'in', 'italy', \"''our\", 'clinical', 'research', '(before', 'the', 'drug', 'was', 'released)', 'had', 'not', 'shown', 'reactions', 'of', 'this', \"severity''\", 'malloy', 'said', 'he', 'said', 'the', 'company', 'did', '300', 'clinical', 'tests', 'involving', '46000', 'people', 'before', 'the', 'drug', 'was', 'introduced', 'in', '1983', 'malloy', 'said', 'the', 'drug', 'has', 'been', 'prescribed', 'about', '65', 'million', 'times', 'for', 'roughly', '4', 'million', 'patients', 'he', 'said', 'sales', 'of', 'isoxicam', 'in', '1984', 'totalled', 'more', 'than', '$20', 'million', 'and', 'were', 'projected', 'to', 'reach', 'nearly', '$25', 'million', 'for', '1985', 'the', 'first', 'death', 'linked', 'to', 'isoxicam', 'occurred', 'in', 'august', '1984', 'in', 'france', 'the', 'drug', 'was', 'also', 'marketed', 'in', 'west', 'germany', 'italy', 'switzerland', 'austria', 'belgium', 'pakistan', 'thailand', 'the', 'phillipines', 'malazia-singapore', 'peru', 'chile', 'and', 'parts', 'of', 'the', 'middle', 'east', 'and', 'central', 'america', \"''we\", 'continue', 'to', 'believe', 'in', 'both', 'the', 'safety', 'and', 'efficacy', 'of', \"isoxicam''\", 'the', 'chief', 'executive', 'officer', 'of', 'warner-lambert', 'joseph', 'williams', 'said', 'in', 'a', 'statement', \"''but\", 'in', 'the', 'current', 'climate', 'we', 'recognize', 'that', 'the', 'responsible', 'and', 'prudent', 'thing', 'to', 'do', 'is', 'to', 'subject', 'the', 'drug', 'to', 'increased', 'scrutiny', 'and', 'to', 'suspend', 'the', 'sales', 'while', 'that', 'review', 'is', 'in', \"progress''\", 'the', 'suspension', 'will', 'allow', \"''sufficient\", 'time', 'for', 'the', 'company', 'to', 'show', 'various', 'european', 'economic', 'community', 'members', 'that', 'the', 'data', 'bases', 'they', 'are', 'using', 'are', 'erroneous', 'and', 'incomplete', 'at', 'least', 'with', 'respect', 'to', 'adverse', 'reaction', 'reports', 'relating', 'to', 'competitive', 'products', 'that', 'isoxican', 'is', 'being', 'compared', \"to''\", 'malloy', 'said', 'warner-lambert', 'is', 'a', 'worldwide', 'health', 'and', 'personal', 'care', 'products', 'company', 'with', 'sales', 'of', 'about', '$32', 'billion']\n"
     ]
    }
   ],
   "source": [
    "print(token_docs[0])"
   ]
  },
  {
   "cell_type": "code",
   "execution_count": null,
   "id": "cf805255-4aa4-4b30-b7a8-68b633fda81f",
   "metadata": {},
   "outputs": [],
   "source": []
  },
  {
   "cell_type": "markdown",
   "id": "5aabf110-9452-40b7-bfae-168a0b7ac038",
   "metadata": {},
   "source": [
    "### Created a list of Counter objects for each doc:"
   ]
  },
  {
   "cell_type": "code",
   "execution_count": 15,
   "id": "d89a609a-6f87-4a1a-a403-22183f976467",
   "metadata": {},
   "outputs": [
    {
     "data": {
      "text/plain": [
       "list"
      ]
     },
     "execution_count": 15,
     "metadata": {},
     "output_type": "execute_result"
    }
   ],
   "source": [
    "eighties_tok_counter=[]\n",
    "for doc in token_docs:\n",
    "    tok_count=Counter(doc)\n",
    "    eighties_tok_counter.append(tok_count)\n",
    "\n",
    "type(eighties_tok_counter)"
   ]
  },
  {
   "cell_type": "markdown",
   "id": "6fd7d32c-ce73-46b5-a615-69e98a0ff8ac",
   "metadata": {},
   "source": [
    "First item with the Counter function applied:"
   ]
  },
  {
   "cell_type": "code",
   "execution_count": 16,
   "id": "c0a21209-07e5-4623-8696-a73b26787ac2",
   "metadata": {},
   "outputs": [
    {
     "data": {
      "text/plain": [
       "[('the', 28),\n",
       " ('in', 16),\n",
       " ('to', 15),\n",
       " ('drug', 13),\n",
       " ('and', 13),\n",
       " ('said', 12),\n",
       " ('of', 11),\n",
       " ('company', 6),\n",
       " ('a', 5),\n",
       " ('is', 5),\n",
       " ('been', 5),\n",
       " ('malloy', 5),\n",
       " ('sales', 4),\n",
       " ('it', 4),\n",
       " ('isoxicam', 4)]"
      ]
     },
     "execution_count": 16,
     "metadata": {},
     "output_type": "execute_result"
    }
   ],
   "source": [
    "eighties_tok_counter[0].most_common(15)"
   ]
  },
  {
   "cell_type": "markdown",
   "id": "45d1fc96-bd22-4c7e-961c-8a019cad7bbd",
   "metadata": {},
   "source": [
    "Finally: produce list of Counter objects per doc"
   ]
  },
  {
   "cell_type": "code",
   "execution_count": 17,
   "id": "a535ee6c-d6e5-42bd-8c55-19d22eaa47f9",
   "metadata": {},
   "outputs": [
    {
     "data": {
      "text/plain": [
       "201"
      ]
     },
     "execution_count": 17,
     "metadata": {},
     "output_type": "execute_result"
    }
   ],
   "source": [
    "top_15_per_doc_list=[]\n",
    "for doc in eighties_tok_counter:\n",
    "    most_comm=doc.most_common(15)\n",
    "    top_15_per_doc_list.append(most_comm)\n",
    "\n",
    "len(top_15_per_doc_list)"
   ]
  },
  {
   "cell_type": "code",
   "execution_count": 18,
   "id": "d9e213c3-b717-4b1c-80bf-9d191a0dfef8",
   "metadata": {},
   "outputs": [
    {
     "name": "stdout",
     "output_type": "stream",
     "text": [
      "[[('the', 28), ('in', 16), ('to', 15), ('drug', 13), ('and', 13), ('said', 12), ('of', 11), ('company', 6), ('a', 5), ('is', 5), ('been', 5), ('malloy', 5), ('sales', 4), ('it', 4), ('isoxicam', 4)], [('the', 29), ('to', 11), ('by', 9), ('drugs', 7), ('a', 7), ('of', 7), ('for', 7), ('and', 6), ('fda', 6), ('in', 6), ('drug', 5), ('products', 5), ('it', 5), ('tablets', 5), ('generic', 4)], [('the', 23), ('drug', 12), ('of', 12), ('generic', 11), ('and', 9), ('in', 7), ('a', 7), ('to', 7), ('fda', 7), ('par', 5), ('have', 5), ('said', 4), ('other', 4), ('drugs', 4), ('recalled', 3)], [('the', 16), ('of', 10), ('at', 10), ('and', 10), ('was', 9), ('he', 9), ('a', 8), ('braden', 7), ('cannabis', 5), ('amphetamine', 5), ('said', 5), ('to', 4), ('mosman', 4), ('it', 4), ('for', 4)], [('the', 39), ('of', 22), ('in', 15), ('and', 14), ('to', 11), ('oraflex', 9), ('a', 9), ('drug', 7), ('fda', 7), ('associated', 6), ('been', 6), ('on', 6), ('britain', 6), ('by', 5), ('sales', 5)]]\n"
     ]
    }
   ],
   "source": [
    "print(top_15_per_doc_list[0:5])"
   ]
  },
  {
   "cell_type": "markdown",
   "id": "a31100c3-e848-4445-8e05-8de665ef3684",
   "metadata": {},
   "source": [
    "* Found this wasn't particularly meaningful because it applies only to each individual document, and instead want analysis of total word list across the 200 documents listed, so..."
   ]
  },
  {
   "cell_type": "markdown",
   "id": "b8b97ba9-fe9e-4354-99b9-7e72f7ed3c5d",
   "metadata": {},
   "source": [
    "#### Create a flattened list of all words across docs:"
   ]
  },
  {
   "cell_type": "code",
   "execution_count": 19,
   "id": "05ccc14a-be3e-4fec-a167-32d44f98b9d9",
   "metadata": {},
   "outputs": [
    {
     "data": {
      "text/plain": [
       "90042"
      ]
     },
     "execution_count": 19,
     "metadata": {},
     "output_type": "execute_result"
    }
   ],
   "source": [
    "flat_list=[]\n",
    "for sublist in token_docs:\n",
    "    flat_list.extend(sublist)\n",
    "\n",
    "len(flat_list)"
   ]
  },
  {
   "cell_type": "markdown",
   "id": "5fecc3cf-f86e-476c-87b9-aff7e6c73078",
   "metadata": {},
   "source": [
    "#### Filter out stop words:"
   ]
  },
  {
   "cell_type": "code",
   "execution_count": 20,
   "id": "d3eb348d-7588-42a6-b07b-68ae2f5a9d86",
   "metadata": {},
   "outputs": [],
   "source": [
    "from nltk.corpus import stopwords\n",
    "stoplist=stopwords.raw('english').split('\\n')"
   ]
  },
  {
   "cell_type": "code",
   "execution_count": 21,
   "id": "fcccda7d-021a-459c-b9c2-9cef83b19abb",
   "metadata": {},
   "outputs": [],
   "source": [
    "filtered_flat_list=[]\n",
    "for words in flat_list:\n",
    "    if words not in stoplist:\n",
    "        filtered_flat_list.append(words)"
   ]
  },
  {
   "cell_type": "markdown",
   "id": "ccff4453-1401-41e2-9438-e7402a03d0d4",
   "metadata": {},
   "source": [
    "* pointer for total word list (with filtered applied): filtered_flat_list"
   ]
  },
  {
   "cell_type": "code",
   "execution_count": null,
   "id": "c33f1c2b-08a6-4688-a43e-b205cf4dd592",
   "metadata": {},
   "outputs": [],
   "source": []
  },
  {
   "cell_type": "markdown",
   "id": "46249d7c-4789-423a-9bef-9c35068ef5ea",
   "metadata": {},
   "source": [
    "## Frequency Lists:"
   ]
  },
  {
   "cell_type": "markdown",
   "id": "396e0a14-66aa-4ef4-b676-54287fac5584",
   "metadata": {},
   "source": [
    "Top 100 most common words (across all 200 docs):"
   ]
  },
  {
   "cell_type": "code",
   "execution_count": 22,
   "id": "dba7c49e-64ef-4b42-8055-afadbbb40c33",
   "metadata": {},
   "outputs": [
    {
     "name": "stdout",
     "output_type": "stream",
     "text": [
      "[('said', 1274), ('drug', 1145), ('fda', 572), ('drugs', 516), ('generic', 365), ('company', 361), ('new', 313), ('recall', 310), ('press', 259), ('associated', 224), ('body', 220), ('administration', 211), ('recalled', 210), ('food', 208), ('products', 206), ('words', 204), ('would', 203), ('length:', 200), ('product', 199), ('copyright', 197), ('one', 176), ('washington', 175), ('may', 169), ('section:', 167), ('could', 155), ('health', 154), ('dateline:', 153), ('patients', 153), ('used', 150), ('agency', 149), ('also', 144), ('found', 143), ('last', 141), ('pharmaceutical', 139), ('officials', 139), ('york', 133), ('market', 130), ('capsules', 130), ('inc', 129), ('two', 128), ('us', 125), ('johnson', 125), ('use', 121), ('tablets', 120), ('spokesman', 117), ('byline:', 117), ('made', 115), ('year', 113), ('safety', 111), ('1989', 111), ('federal', 109), ('people', 109), ('cycle', 108), ('years', 106), ('dr', 105), ('news', 104), ('three', 103), ('-', 101), ('approval', 99), ('times', 95), ('united', 94), ('companies', 92), ('problems', 92), ('million', 90), ('&', 89), ('rights', 88), ('reserved', 86), ('government', 83), ('public', 82), ('investigation', 82), ('1987', 82), ('percent', 82), ('first', 81), ('reported', 81), ('number', 81), ('friday', 80), ('industry', 80), ('1988', 80), ('young', 80), ('tests', 79), ('wednesday', 78), ('manufacturer', 77), ('bottles', 77), ('smithkline', 77), ('sales', 76), ('heart', 76), ('case', 75), ('blood', 75), ('president', 74), ('recalls', 73), ('deaths', 73), ('laboratories', 73), ('problem', 73), ('doctors', 71), ('says', 71), ('states', 70), ('--', 70), ('aids', 70), ('version', 69), ('prescription', 69)]\n"
     ]
    }
   ],
   "source": [
    "counted_toks=Counter(filtered_flat_list)\n",
    "print(counted_toks.most_common(100))"
   ]
  },
  {
   "cell_type": "markdown",
   "id": "50146e34-b410-4500-b81b-af5461ca2b67",
   "metadata": {},
   "source": [
    "* Create bigram lists: (pointer: bigrams; bigram counter object list: \"count_bigrams\")-using the unfiltered flat list"
   ]
  },
  {
   "cell_type": "code",
   "execution_count": 23,
   "id": "9ed60d4f-a40b-4610-add9-04cffe875584",
   "metadata": {},
   "outputs": [
    {
     "data": {
      "text/plain": [
       "90041"
      ]
     },
     "execution_count": 23,
     "metadata": {},
     "output_type": "execute_result"
    }
   ],
   "source": [
    "bigrams=get_ngram_tokens(flat_list,n=2)\n",
    "len(bigrams)"
   ]
  },
  {
   "cell_type": "markdown",
   "id": "c615784d-b0e3-461f-9aea-3185eae63c77",
   "metadata": {},
   "source": [
    "Top 50 bigrams:"
   ]
  },
  {
   "cell_type": "code",
   "execution_count": 24,
   "id": "198b03c9-d4c0-47bf-9d7a-b61c0eaad27c",
   "metadata": {},
   "outputs": [
    {
     "name": "stdout",
     "output_type": "stream",
     "text": [
      "[('of the', 767), ('in the', 389), ('the fda', 307), ('said the', 293), ('the drug', 267), ('to the', 259), ('associated press', 205), ('the company', 189), ('he said', 189), ('food and', 179), ('and drug', 179), ('on the', 176), ('drug administration', 169), ('that the', 156), ('have been', 153), ('by the', 144), ('new york', 133), ('and the', 126), ('from the', 124), ('with the', 123), ('for the', 122), ('the food', 121), ('words byline:', 117), ('generic drug', 115), ('the new', 113), ('to be', 113), ('cycle copyright', 108), ('in a', 107), ('has been', 99), ('the agency', 96), ('the recall', 94), ('dateline: washington', 94), ('generic drugs', 93), ('had been', 87), ('of a', 87), ('all rights', 86), ('rights reserved', 86), ('the market', 86), ('the associated', 85), ('reserved section:', 84), ('the drugs', 84), ('press all', 83), ('byline: by', 78), ('because of', 74), ('at the', 73), ('it was', 72), ('words dateline:', 70), ('washington body', 69), ('as a', 69), ('fda said', 69)]\n"
     ]
    }
   ],
   "source": [
    "count_bigrams=Counter(bigrams)\n",
    "print(count_bigrams.most_common(50))"
   ]
  },
  {
   "cell_type": "code",
   "execution_count": null,
   "id": "9acb1c1c-3eef-4eea-8891-064b2eef1854",
   "metadata": {},
   "outputs": [],
   "source": []
  },
  {
   "cell_type": "markdown",
   "id": "2c24f082-9e53-4408-b4ea-0b145190a6cb",
   "metadata": {},
   "source": [
    "### Observations:\n",
    "* Common bigrams include \"of the\" (767), \"in the\" (389), and \"to the\" (259), reflecting general structural language in news articles.\n",
    "* Mentions of \"the FDA\" (307), \"food and\" (179), and \"drug administration\" (169) emphasize the FDA's central role in recalls and pharmaceutical regulation.\n",
    "* Defensive Messaging:\n",
    "* Bigrams like \"the company\" (189), \"he said\" (189), and \"said the\" (293) show that companies are quite defensive in addressing recalls or controversies.\n",
    "* Recall and Crisis Themes:\n",
    "* Terms such as \"the recall\" (94), \"generic drug\" (115), and \"because of\" (74) highlight the recurring focus on drug recalls, generic drug issues, and reasons behind crises.\n",
    "\n",
    "\n",
    "\n",
    "\n",
    "Create trigram lists: (pointer: \"trigrams\"; trigram counter object list: \"count_tri\")"
   ]
  },
  {
   "cell_type": "markdown",
   "id": "54f40c84-3cec-4404-be02-3a6baf93d8ae",
   "metadata": {},
   "source": [
    "Top 50 trigrams"
   ]
  },
  {
   "cell_type": "code",
   "execution_count": 25,
   "id": "42461d07-2475-4baa-8830-0ca0a519cbcc",
   "metadata": {},
   "outputs": [
    {
     "name": "stdout",
     "output_type": "stream",
     "text": [
      "[('food and drug', 175), ('and drug administration', 166), ('the food and', 115), ('all rights reserved', 86), ('the associated press', 85), ('rights reserved section:', 84), ('associated press all', 83), ('press all rights', 83), ('words byline: by', 78), ('the new york', 73), ('dateline: washington body', 69), ('new york times', 68), ('the fda said', 65), ('of the drug', 61), ('am cycle copyright', 56), ('the united states', 53), ('he said the', 43), ('johnson & johnson', 40), ('words dateline: washington', 39), ('pm cycle copyright', 37), ('associated press writer', 37), ('press writer dateline:', 37), ('reserved section: washington', 37), ('section: washington dateline', 37), ('washington dateline length:', 37), ('the company said', 35), ('as well as', 34), ('from the market', 34), ('cycle copyright 1989', 33), ('washington body the', 33), ('on the market', 32), ('one of the', 31), ('drug administration said', 30), ('section: domestic news', 30), ('domestic news length:', 30), ('york times company', 30), ('times company section:', 30), ('company section: section', 30), ('said the company', 29), ('writer dateline: washington', 29), ('body the food', 29), ('fda said the', 29), ('in the united', 27), ('used to treat', 27), ('of the drugs', 27), ('final edition copyright', 27), ('said in a', 26), ('united press international', 25), ('the drug was', 25), ('said the fda', 25)]\n"
     ]
    }
   ],
   "source": [
    "trigrams=get_ngram_tokens(flat_list,n=3)\n",
    "count_tri=Counter(trigrams)\n",
    "print(count_tri.most_common(50))"
   ]
  },
  {
   "cell_type": "markdown",
   "id": "196d8b5a-df93-43e4-bb0d-fdee4026ac98",
   "metadata": {},
   "source": [
    "### Observations:\n",
    "* Trigrams such as \"the fda said\" and \"drug administration said\" show the FDA's role. \n",
    "* Common trigrams like \"the company said,\" \"said the fda,\" and \"used to treat\" show that they are trying to protext the brand rather than come off as authentic. "
   ]
  },
  {
   "cell_type": "markdown",
   "id": "43fd47d0-3809-492d-8fbc-32ce2ee12064",
   "metadata": {},
   "source": [
    "### Potential focus for later analysis? (for more specific 1-2 cases)"
   ]
  },
  {
   "cell_type": "markdown",
   "id": "398031a1-e225-428f-bca4-6693171fe711",
   "metadata": {},
   "source": [
    "Can use this list (according to Forbes article) of negative words (\"banned words\" that shouldn't be used in company apologies) to apply when looking at more specific cases (following decade analysis of 1000 docs)"
   ]
  },
  {
   "cell_type": "markdown",
   "id": "1537ad2b-0aa8-4de3-9a1d-b4e6fa317926",
   "metadata": {},
   "source": [
    "Forbes banned words/phrases list:\n",
    "https://www.forbes.com/councils/forbescommunicationscouncil/2021/08/19/13-words-and-phrases-to-banish-from-crisis-communications/"
   ]
  },
  {
   "cell_type": "code",
   "execution_count": 260,
   "id": "9a2f3225-2502-45fe-a234-0dca69e096e7",
   "metadata": {},
   "outputs": [],
   "source": [
    "phrase_list=['unprecedented', 'damaged', 'thoughts', 'prayers', 'crisis', 'unfortunately','fault','learn','sorry']"
   ]
  },
  {
   "cell_type": "code",
   "execution_count": 261,
   "id": "c48e8282-aeca-42ee-84f5-34fd56165f96",
   "metadata": {},
   "outputs": [
    {
     "data": {
      "text/plain": [
       "6"
      ]
     },
     "execution_count": 261,
     "metadata": {},
     "output_type": "execute_result"
    }
   ],
   "source": [
    "tok_phrase=[]\n",
    "for word in phrase_list:\n",
    "    if word in flat_list:\n",
    "        tok_phrase.append(word)\n",
    "\n",
    "len(tok_phrase)"
   ]
  },
  {
   "cell_type": "code",
   "execution_count": 262,
   "id": "6d966ba3-e010-406a-856e-d57dafa36a15",
   "metadata": {},
   "outputs": [
    {
     "name": "stdout",
     "output_type": "stream",
     "text": [
      "['damaged', 'crisis', 'unfortunately', 'fault', 'learn', 'sorry']\n"
     ]
    }
   ],
   "source": [
    "print(tok_phrase)"
   ]
  },
  {
   "cell_type": "code",
   "execution_count": 264,
   "id": "beb0ee52-bad7-4aa3-bc54-d0b6249ec0cd",
   "metadata": {},
   "outputs": [
    {
     "data": {
      "text/plain": [
       "63230"
      ]
     },
     "execution_count": 264,
     "metadata": {},
     "output_type": "execute_result"
    }
   ],
   "source": [
    "flat_list.index('sorry')"
   ]
  },
  {
   "cell_type": "code",
   "execution_count": null,
   "id": "a697e4d1-326f-4294-9160-bb506ff95d2c",
   "metadata": {},
   "outputs": [],
   "source": []
  },
  {
   "cell_type": "markdown",
   "id": "6fc74c10-0f01-411c-988e-619f367c6988",
   "metadata": {},
   "source": [
    "### Pilot corpus \n",
    "* of the J&J case study to develop a word list to compare 1980s news articles text to"
   ]
  },
  {
   "cell_type": "markdown",
   "id": "c539f84e-d4ef-49b5-9a36-ab18b61bffbc",
   "metadata": {},
   "source": [
    "* Refer to case study on J&J for word list: https://www.ou.edu/deptcomm/dodjcc/groups/02C2/Johnson%20&%20Johnson.htm\n",
    "* text file: J&J case study-to develop most common tokens (words), bi and tri gram phrases (to compare to 80s media coverage)"
   ]
  },
  {
   "cell_type": "code",
   "execution_count": 269,
   "id": "6abbc4d5-4235-4856-afe7-dc5992be5e85",
   "metadata": {},
   "outputs": [],
   "source": [
    "import os\n",
    "os.chdir('../data_analysis')\n",
    "JJ_text = open('J&J_case.txt').read()"
   ]
  },
  {
   "cell_type": "code",
   "execution_count": 272,
   "id": "4d144eb2-948f-4dac-9bf6-b5cdffbbc7f3",
   "metadata": {},
   "outputs": [
    {
     "data": {
      "text/plain": [
       "1854"
      ]
     },
     "execution_count": 272,
     "metadata": {},
     "output_type": "execute_result"
    }
   ],
   "source": [
    "tokenized_jj=tokenize(JJ_text, lowercase=True,strip_chars='!,.\"')\n",
    "len(tokenized_jj)"
   ]
  },
  {
   "cell_type": "code",
   "execution_count": 297,
   "id": "d051f3a3-780a-4565-96cb-9d5b5f2def8a",
   "metadata": {},
   "outputs": [],
   "source": [
    "filtered_jj_text=[]\n",
    "for word in tokenized_jj:\n",
    "    if word not in stoplist:\n",
    "        filtered_jj_text.append(word)"
   ]
  },
  {
   "cell_type": "markdown",
   "id": "4738a380-98cb-4f21-9c9e-cfaf6906b4e2",
   "metadata": {},
   "source": [
    "* pointer object to J&J tokenized text: \"filtered_jj_text\""
   ]
  },
  {
   "cell_type": "code",
   "execution_count": 304,
   "id": "f53b78ef-029b-4c80-9a75-d9487c98c4fa",
   "metadata": {},
   "outputs": [
    {
     "data": {
      "text/plain": [
       "637"
      ]
     },
     "execution_count": 304,
     "metadata": {},
     "output_type": "execute_result"
    }
   ],
   "source": [
    "count_jj=Counter(filtered_jj_text)\n",
    "len(count_jj)"
   ]
  },
  {
   "cell_type": "code",
   "execution_count": 302,
   "id": "eba375c3-d43c-4ef0-ab24-c3e2133af26c",
   "metadata": {},
   "outputs": [
    {
     "name": "stdout",
     "output_type": "stream",
     "text": [
      "[('johnson', 63), ('tylenol', 42), ('&', 38), ('crisis', 36), ('media', 18), ('product', 13), ('first', 11), ('public', 11), (\"johnson's\", 10), ('strategy', 9), ('case', 8), ('company', 7), ('news', 6), ('organization', 6), ('1990)', 6), ('one', 5), ('percent', 5), ('(berge', 5), ('chicago', 5), ('press', 5), ('tampering', 5), ('used', 5), ('example', 5), ('1998)', 4), ('capsules', 4), ('area', 4), ('call', 4), ('reporter', 4), ('us', 4), ('coverage', 4), ('national', 4), ('safety', 4), ('also', 4), ('new', 4), ('deaths', 4), ('story', 4), ('strategies', 4), ('developed', 4), ('rectification', 4), ('terrorism', 4), ('forgiveness', 4), ('sympathy', 4), ('corporate', 3), (\"company's\", 3), ('would', 3), ('known', 3), ('people', 3), ('consumer', 3), ('trusted', 3), ('relations', 3), ('told', 3), ('given', 3), ('burke', 3), ('negative', 3), ('actions', 3), ('consumers', 3), ('advertising', 3), ('(broom', 3), ('1994)', 3), ('even', 3), (\"public's\", 3), ('messages', 3), ('communications', 3), ('clearly', 3), ('positive', 3), ('american', 3), ('external', 3), ('(berg', 3), ('over-the-counter', 2), ('responsible', 2), ('19', 2), ('profits', 2), ('3', 2), ('1982', 2), ('year-to-year', 2), ('sales', 2), ('growth', 2), ('market', 2), ('share', 2), ('entity', 2), ('presumably', 2), ('extra-strength', 2), ('cyanide-laced', 2), ('shelves', 2), ('poison', 2), ('products', 2), ('suddenly', 2), ('killing', 2), ('evidence', 2), ('reacted', 2), ('got', 2), ('dying', 2), ('thus', 2), ('information', 2), ('via', 2), ('withdraw', 2), ('though', 2), ('little', 2), ('showed', 2), ('take', 2)]\n"
     ]
    }
   ],
   "source": [
    "print(count_jj.most_common(100))"
   ]
  },
  {
   "cell_type": "markdown",
   "id": "9a326905-37e2-4423-a46b-fadf7025d943",
   "metadata": {},
   "source": [
    "### Develop list of 10 prominent words (tokens-based on JJ case study text) to compare across media coverage:"
   ]
  },
  {
   "cell_type": "code",
   "execution_count": 26,
   "id": "31c2f5ed-d902-4880-90e0-f27ec86120a6",
   "metadata": {},
   "outputs": [],
   "source": [
    "JJ_words=['showed','safety','responsible','trust', 'trusted','forgiveness','consumer','example','rectification','sympathy']"
   ]
  },
  {
   "cell_type": "code",
   "execution_count": null,
   "id": "bfd1ba89-4da7-4c27-ba0d-90719b39288f",
   "metadata": {},
   "outputs": [],
   "source": []
  },
  {
   "cell_type": "markdown",
   "id": "9c4ffbff-6ea1-433e-bbd4-12be7552c63f",
   "metadata": {},
   "source": [
    "### How/how often do these words occur in the 1980s corpus?"
   ]
  },
  {
   "cell_type": "code",
   "execution_count": 27,
   "id": "c90903a5-01ef-4fdd-b798-1a39effdc0a6",
   "metadata": {},
   "outputs": [
    {
     "data": {
      "text/plain": [
       "0.344955686461816"
      ]
     },
     "execution_count": 27,
     "metadata": {},
     "output_type": "execute_result"
    }
   ],
   "source": [
    "positive_eighties=[]\n",
    "for word in filtered_flat_list:\n",
    "    if word in JJ_words:\n",
    "        positive_eighties.append(word)\n",
    "\n",
    "frequency=len(positive_eighties)/len(filtered_flat_list)\n",
    "frequency*100"
   ]
  },
  {
   "cell_type": "markdown",
   "id": "ca422cfa-a6c2-4ae8-9c43-2bb1f9e1a925",
   "metadata": {},
   "source": [
    "* total sum of any of these words occur in the total 1980s media coverage (200 articles; 9,000+ total words) only 0.345% of the time"
   ]
  },
  {
   "cell_type": "markdown",
   "id": "36ca6bf4-dc8b-475a-879a-7aff4d456049",
   "metadata": {},
   "source": [
    "* look at frequency of each word & rate of occurrence"
   ]
  },
  {
   "cell_type": "code",
   "execution_count": 328,
   "id": "00719034-528a-4b42-ab95-7cda09214941",
   "metadata": {},
   "outputs": [
    {
     "data": {
      "text/plain": [
       "[('safety', 111),\n",
       " ('consumer', 38),\n",
       " ('showed', 24),\n",
       " ('responsible', 13),\n",
       " ('example', 7),\n",
       " ('trust', 2)]"
      ]
     },
     "execution_count": 328,
     "metadata": {},
     "output_type": "execute_result"
    }
   ],
   "source": [
    "count_pos=Counter(positive_eighties)\n",
    "count_pos.most_common()"
   ]
  },
  {
   "cell_type": "markdown",
   "id": "cd751f56-5f4f-4eec-9034-47309dd6f9bb",
   "metadata": {},
   "source": [
    "* only 6 of 10 of the list appeared in the entire 1980s corpus"
   ]
  },
  {
   "cell_type": "code",
   "execution_count": 338,
   "id": "d69eb37f-9767-4834-9b79-7f2d2b57d1c5",
   "metadata": {},
   "outputs": [
    {
     "data": {
      "text/plain": [
       "[0.1963593907551876,\n",
       " 0.02299704576412107,\n",
       " 0.06722213377204621,\n",
       " 0.04245608448760813,\n",
       " 0.01238302464221904,\n",
       " 0.003538007040634011]"
      ]
     },
     "execution_count": 338,
     "metadata": {},
     "output_type": "execute_result"
    }
   ],
   "source": [
    "rate=[]\n",
    "for x,y in count_pos.items():\n",
    "    ratio=y/len(filtered_flat_list)\n",
    "    rate.append(ratio*100)\n",
    "\n",
    "rate"
   ]
  },
  {
   "cell_type": "markdown",
   "id": "ac7f4e43-ef9d-4279-aef9-867fe4d4e815",
   "metadata": {},
   "source": [
    "* These are the respective proportions with which each of these words occur (i.e. the word \"safety\" is included 0.196% of the time within the entire 1980s corpus) "
   ]
  },
  {
   "cell_type": "markdown",
   "id": "317e41c8-65dd-454d-aa60-66fab9b774df",
   "metadata": {},
   "source": [
    "## Context Analysis KWIC functions based off JJ word list (using a window of 6 words):"
   ]
  },
  {
   "cell_type": "markdown",
   "id": "69d88a57-a0da-4e38-a91f-f4eccc98998b",
   "metadata": {},
   "source": [
    "#### 1. \"Safety\""
   ]
  },
  {
   "cell_type": "code",
   "execution_count": 396,
   "id": "72c2f152-5f11-4554-b9b2-061ed96252a8",
   "metadata": {},
   "outputs": [
    {
     "name": "stdout",
     "output_type": "stream",
     "text": [
      "                      continue to believe in both the  safety  and efficacy of isoxicam'' the chief\n",
      "                    confessed to giving the fda false  safety  data about its generic form of\n",
      "                have been halted worldwide because of  safety  concerns says consumers returning their medication\n",
      "                on wednesday the british committee on  safety  of medicines similiar to the fda\n",
      "                    in copiague li cheated on product  safety  tests when it submitted the drug\n",
      "                      about half a dozen capsules the  safety  of capsule drugs had surfaced as\n",
      "                 company sees no immeditate health or  safety  problems with either the generic orphengesic\n",
      "                     there was nothing wrong with the  safety  or effectiveness of the drugs which\n",
      "                       there was no indication of any  safety  problem with any of the drugs\n",
      "                      there are any adverse health or  safety  implications involved and has promised to\n",
      "                     the agency has no concerns about  safety  of any of the three par\n",
      "                   the company of cheating on product  safety  tests the food and drug administration\n",
      "                      there are any adverse health or  safety  implications involved in any of the\n",
      "                     the agency had no concerns about  safety  of any of the three par\n",
      "                        activity and a wide margin of  safety  mr o'shannassy said there was little\n",
      "                         release it had issued on the  safety  and effectiveness of one of its\n",
      "                        no reason to believe that any  safety  matter was at stake but it\n",
      "             agency in the original applications ''no  safety  problem with the products is known''\n",
      "                         that it was confident of the  safety  and effectiveness of drugs made at\n",
      "                     there were no indications of any  safety  or effectiveness problems with the products\n",
      "                exception every lot meets potency and  safety  standards'' mr west said in a\n",
      "                     there was nothing wrong with the  safety  or effectiveness of the drugs which\n",
      "                   the company of cheating on product  safety  tests the food and drug administration\n",
      "                     there was nothing wrong with the  safety  or effectiveness of the drugs which\n",
      "                        step to ensure the health and  safety  of all citizens the department of\n",
      "                     that would result in an imminent  safety  hazard'' young said load-date: october 25\n",
      "            allegations and admissions of cheating on  safety  tests required for food and drug\n",
      "                 industry and result in more rigorous  safety  testing required for approval some generic\n",
      "     vitarine pharmaceutical inc admitted cheating on  safety  tests to win fda approval now\n",
      "                  said the company cheated on product  safety  tests the drug is nitrofurantoin sold\n",
      "           drug application filings and more rigorous  safety  testing all of those things will\n",
      "                  company sees no immediate health or  safety  problems with either the generic orphengesic\n",
      "                 generic drug companies that cheat on  safety  tests and misrepresent data to win\n",
      "         provides good assurances about their overall  safety  are the generic drugs on the\n",
      "             bribe fda employees have compromised the  safety  of any generic drugs that were\n",
      "       from manufacturing deficiencies to cheating on  safety  tests in addition the fda has\n",
      "                 generic drug companies that cheat on  safety  tests and misrepresent data to win\n",
      "         provides good assurances about their overall  safety  are the generic drugs on the\n",
      "             bribe fda employees have compromised the  safety  of any generic drugs that were\n",
      "       from manufacturing deficiencies to cheating on  safety  tests in addition the fda has\n",
      "                         were of the opinion that the  safety  of patients already stabilised on these\n",
      "        any life-threatening problems with the drugs'  safety  or effectiveness the investigation has been\n",
      "                       there was no indication of any  safety  problem with any of the drugs\n",
      "        any life-threatening problems with the drugs'  safety  or effectiveness the investigation has been\n",
      "                          drug area and by adding new  safety  protections for consumers'' critics including the\n",
      "      administration commissioner arthur hull hayes a  safety  provision prompted by the august recall\n",
      "         their applications periodically with any new  safety  information during fda review critics charged\n",
      "                          drug area and by adding new  safety  protections for consumers'' schweiker said the\n",
      "      administration commissioner arthur hull hayes a  safety  provision prompted by the august recall\n",
      "         their applications periodically with any new  safety  information during fda review critics charged\n",
      "                          drug area and by adding new  safety  protections for consumers'' schweiker said the\n",
      "      administration commissioner arthur hull hayes a  safety  provision prompted by the august recall\n",
      "         their applications periodically with any new  safety  information during fda review critics charged\n",
      "          provided adequate information on the drugs'  safety  aap the drugs concerned are mainly\n",
      "     generic products should not compromise community  safety  at the expense of the reputation\n",
      "          provided adequate information on the drugs'  safety  but the australian pharmaceutical manufacturers' association\n",
      "     generic products should not compromise community  safety  mr bell said dr blewett said\n",
      "           marketing of generic drugs until extensive  safety  testing is completed taking from five\n",
      "              and three people of misrepresenting the  safety  and the effectiveness of a drug\n",
      "                thompson head of the agency's nuclear  safety  office said that in my view\n",
      "administration the agency's concern: effectivness not  safety  of the drug par also has\n",
      "                thompson head of the agency's nuclear  safety  office said ''in my view on\n",
      "               case raises questions about the drug's  safety  as well as the government's drug\n",
      "                          has no reason to expect any  safety  or efficacy problems with this product\n",
      "                 some serious new questions about the  safety  and efficacy of these drugs and\n",
      "                        on the inquiry or address the  safety  of the vitarine drug an fda\n",
      "               case raises questions about the drug's  safety  as well as the government's drug\n",
      "                          has no reason to expect any  safety  or efficacy problems with this product\n",
      "                 some serious new questions about the  safety  and efficacy of these drugs and\n",
      "                        on the inquiry or address the  safety  of the vitarine drug an fda\n",
      "                 the nrc's office of nuclear material  safety  and safeguards about 2000 of the\n",
      "                        not because of any health and  safety  issues wissink said bernero also reiterated\n",
      "                 the nrc's office of nuclear material  safety  and safeguards about 2000 devices were\n",
      "                        not because of any health and  safety  issues wissink said bernero also reiterated\n",
      "                     recalled drugs has posed a major  safety  problem the fda said the fda\n",
      "                 of the free-market system us charges  safety  effectiveness of drug misrepresented the associated\n",
      "       and three individuals with misrepresenting the  safety  and effectiveness of a drug used\n",
      "                  implicated so far have uncovered no  safety  concerns but he conceded we cannot\n",
      "                    confident on the issue of product  safety  until more tests are done he\n",
      "                thompson head of the agency's nuclear  safety  office said that in my view\n",
      "                to the public without undergoing full  safety  tests a house subcommittee charges vitarine\n",
      "        information raises serious concerns about the  safety  of vitarine's product as well as\n",
      "                     nesbit asked whether the fda had  safety  concerns about dyazide or either of\n",
      "                       the recalled has posed a major  safety  problem the fda said the fda\n",
      "                       the recalled has posed a major  safety  problem the fda said the fda\n",
      "                  than a year without undergoing full  safety  tests vitarine recalled the drug earlier\n",
      "        finding ''raises serious concerns'' about the  safety  of vitarine's product but a drug\n",
      "                     time'' asked whether the fda had  safety  concerns about dyazide or either of\n",
      "                  implicated so far have uncovered no  safety  concerns but he conceded we cannot\n",
      "                    confident on the issue of product  safety  until further tests are conducted he\n",
      "              suspend products for reasons other than  safety  concerns rhogam batch didn't cause aids\n",
      "                report confirms our confidence in the  safety  of the product rhogam is among\n",
      "                   that causes concern with regard to  safety  and efficacy'' said the spokeswoman american\n",
      "                   that causes concern with regard to  safety  and efficacy'' said the spokeswoman american\n",
      "                       50 years or more without known  safety  problems the exemption also covers some\n",
      "                  than a year without undergoing full  safety  tests vitarine recalled the drug earlier\n",
      "        information raises serious concerns about the  safety  of vitarine's product said rep john\n",
      "                     nesbit asked whether the fda had  safety  concerns about dyazide or either of\n",
      "            expressed his company's confidence in the  safety  and effectiveness of its product which\n",
      "                         release it had issued on the  safety  and effectiveness of one of its\n",
      "      false and/or misleading concepts concerning the  safety  and efficacy of virazole'' in addition\n",
      "               that the press kit ''misrepresents the  safety  profile of virazole as currently known''\n",
      "                     the market while it reviewed the  safety  and efficacy of a broad class\n",
      "                  proper means of risk assessment the  safety  of food preservatives additives and pesticides\n",
      "                 the public still uncertain about its  safety  the net effect is public reluctance\n",
      "                          the agency did not learn of  safety  problems with the drug until april\n",
      "       from manufacturing deficiencies to cheating on  safety  tests the fda has also started\n",
      "                the wholesale level to verify product  safety  and effectiveness food and drug administration\n",
      "                    and the prospect of more rigorous  safety  testing will force up prices for\n",
      "           drug application filings and more rigorous  safety  testing all of those things will\n",
      "     vitarine pharmaceutical inc admitted cheating on  safety  tests to win fda approval now\n"
     ]
    }
   ],
   "source": [
    "safety=make_kwic('safety',flat_list,win=6)\n",
    "print_kwic(sort_kwic(safety))"
   ]
  },
  {
   "cell_type": "markdown",
   "id": "e449af6f-ac3f-4b92-a105-cbc432933431",
   "metadata": {},
   "source": [
    "* many instances in which companies were cheating safety standards/drug tests, lacking propoer risk assessment, and still sold to public (and prolonged the point at which recall was necessary)\n",
    "* news reports also include many instances in which the company gave false/misleading reports following recall\n",
    "* notes many instances in which public still left uncertain\n",
    "* several instances in which FDA \"raises serious concern(s)\", or giving FDA false information\n",
    "* companies claiming \"no safety concerns known\" or that the drug \"met potency standards\""
   ]
  },
  {
   "cell_type": "markdown",
   "id": "0b4a42d5-a7ca-4153-8cf3-b2bc439e9f33",
   "metadata": {},
   "source": [
    "#### 2. \"Consumer\""
   ]
  },
  {
   "cell_type": "code",
   "execution_count": 390,
   "id": "94507894-6ef9-458d-89e1-c87c832b91be",
   "metadata": {},
   "outputs": [
    {
     "name": "stdout",
     "output_type": "stream",
     "text": [
      "                   on file inc section: us affairs;  consumer  product tampering length: 328 words body\n",
      "    dateline: washington body a ralph nader-founded  consumer  group urged the government thursday to\n",
      " physicians have proper instructions on prescribing  consumer  group asks recall of older drug\n",
      "           press writer dateline: washington body a  consumer  group asked the government thursday to\n",
      "                    dr sidney wolfe director of the  consumer  group said the agency should issue\n",
      "                    sugar and cornstarch no risk to  consumer  the amount of warfarin in the\n",
      "                  ''absolutely not do any harm -the  consumer  would not even have noticed it''\n",
      "       drugs including the tranquilizer ativan; and  consumer  products including chef boy-ar-dee jiffy pop\n",
      "             the united states the company's mcneil  consumer  products co makes the non-prescription pain\n",
      "                        aren't more of a threat the  consumer  will decide if they want them\n",
      "                   probably would go unnoticed by a  consumer  the proprietary association founded in 1881\n",
      "             fashion with careful monitoring of the  consumer  and medical profession reactions among the\n",
      "                the print versions for both formats  consumer  recall of the two drugs' purported\n",
      "            arthritis sufferers we request that any  consumer  having zomax return the drug to\n",
      "                  said william ward director of the  consumer  protection department's drug control division the\n",
      "                        a sept 6 hearing before the  consumer  protection department has been set house\n",
      "          sales of the prescription painkiller that  consumer  groups and some members of congress\n",
      "        disclosed its investigation shortly after a  consumer  group appealed to fda commissioner jere\n",
      "                    drugs has been widely hailed by  consumer  groups because they often are cheaper\n",
      "                    drugs has been widely hailed by  consumer  groups because they often are cheaper\n",
      "                      far enough says a ralph nader  consumer  group alleging that about 100 people\n",
      "                     by the health research group a  consumer  organization that had also made arrangements\n",
      "                   group founded by ralph nader the  consumer  activist said the figures showed that\n",
      "actively considering advertising say observers from  consumer  groups and from within the industry\n",
      "            and ethical questions according to some  consumer  groups professional associations and critics within\n",
      "             within and outside the industry direct  consumer  advertising would lead to overprescribing -\n",
      "        proliferating number of drugs available but  consumer  critics charge that greater profit is\n",
      "                   fda moratorium to launch a pilot  consumer  campaign such moves have fostered debate\n",
      "                 within the drug industry and among  consumer  groups but increasingly in the advertising\n",
      "     the first network-sponsored marketing study of  consumer  reaction to possible tv and print\n",
      "                   as the most significant piece of  consumer  legislation in decades while drug companies\n",
      "         inc have already experimented with limited  consumer  promotions and ciba-geigy has publicly endorsed\n",
      "                         fear it might also incur a  consumer  backlash and inflate health-care costs -\n",
      "               ''certainly it would not benefit the  consumer  we think more should be done\n",
      "                   the country agree they and other  consumer  groups have consistently lobbied against any\n",
      "                 promotion'' says ann averyt of the  consumer  federation of america a coalition of\n",
      "                       a coalition of more than 200  consumer  groups opposed to direct-to-consumer drug advertising\n",
      "                     will force up prices for these  consumer  bargains but others say the industry\n"
     ]
    }
   ],
   "source": [
    "consumer=make_kwic('consumer',flat_list,win=6)\n",
    "print_kwic(sort_kwic(consumer))"
   ]
  },
  {
   "cell_type": "markdown",
   "id": "9a5dc1af-6bcd-4e2c-9405-53d922aa466f",
   "metadata": {},
   "source": [
    "* shows concern for consumer backlash (and not necessarily safety)\n",
    "* one quote by a consumer states: \"we think more should be done\"\n",
    "* mention of \"ethical questions\"\n",
    "* one quote says \"consumer would not even have noticed it\"; statement could go both ways, though may indicate wagering profit over consumer health\n",
    "* \"we think more should be done\"\n",
    "* Note: Most of the contexts surrounding the term \"consumer\" involve quotes"
   ]
  },
  {
   "cell_type": "markdown",
   "id": "079dd7e4-1f4e-4bc2-b351-7c95a6df1d77",
   "metadata": {},
   "source": [
    "#### 3. \"Showed\""
   ]
  },
  {
   "cell_type": "code",
   "execution_count": 392,
   "id": "27e3e80f-c109-4fe3-b575-4479f749de8c",
   "metadata": {},
   "outputs": [
    {
     "name": "stdout",
     "output_type": "stream",
     "text": [
      "            stop selling the three products that  showed  tampering it advised customers not to\n",
      "       a cancer-fighting drug but animal studies  showed  that it wasn't effective it was\n",
      "        virus that causes aids those experiments  showed  promise and more were ordered leading\n",
      " investigation of its computerised record system  showed  a very small number of packs\n",
      " the fda's interpretation however its statistics  showed  that only 25 percent of the\n",
      "                began the recall after fda tests  showed  the bacteria in one isolated lot\n",
      "                       by the company and by fda  showed  the problem to be more widespread\n",
      "were investigating evidence that company records  showed  as many as one percent of\n",
      "were investigating evidence that company records  showed  as many as 1 percent of\n",
      "              consultation with the fda its data  showed  52 cases of liver damage including\n",
      "were investigating evidence that company records  showed  as many as one percent of\n",
      "                tests of his own antibodies then  showed  he actually was not infected officials\n",
      "                  she had to be hospitalized she  showed  the jury pictures of fernandez taken\n",
      "              drug when drug tests later clearly  showed  it was therapeutic reacting to cawood's\n",
      "        johnson's steroid program for five years  showed  himself to be a witness of\n",
      "                 from a variety of witnesses has  showed  that no one played a more\n",
      "          bottles for chemical analysis one test  showed  that the contents of the bottles\n",
      "                   a second test of five bottles  showed  that the contents matched the elements\n",
      "         company in canada entered into evidence  showed  that astaphan had purchased 6500 winstrol-v\n",
      "            a subcommittee source said the tests  showed  that the two samples were not\n",
      "          the consumer activist said the figures  showed  that the administration was weak on\n",
      "     multi-billion dollar illegal trade now they  showed  they can do it wherever they\n",
      "study by the american pharmaceutical association  showed  that more than 50 percent of\n",
      "                   cites a recent fda study that  showed  the majority of people exposed to\n"
     ]
    }
   ],
   "source": [
    "showed=make_kwic('showed',flat_list,win=6)\n",
    "print_kwic(sort_kwic(showed))"
   ]
  },
  {
   "cell_type": "code",
   "execution_count": null,
   "id": "3ed96227-c28c-4cc6-b0d2-61730ebd4a89",
   "metadata": {},
   "outputs": [],
   "source": []
  },
  {
   "cell_type": "markdown",
   "id": "c2f148e2-46bd-4986-ba03-b782152e72c3",
   "metadata": {},
   "source": [
    "### Observations:\n",
    "* References scientific or test results (e.g., animal studies, FDA tests, chemical analyses)\n",
    "* Highlights problem identification like tampering, bacteria, or health risks\n",
    "* Tied to FDA actions or company investigations\n",
    "* Reflects evidence-based claims linking statistics, records, or outcomes\n",
    "* Includes legal or investigative contexts like jury pictures or witness accounts\n",
    "* Indicates positive findings in experiments or therapeutic efficacy\n",
    "* Associated with percentages or quantified findings (e.g., \"52 cases,\" \"25 percent\")\n",
    "* Used in public health studies to underline trends or administrative weaknesses\n",
    "\n",
    "\n",
    "\n",
    "#### 4. \"Responsible\""
   ]
  },
  {
   "cell_type": "code",
   "execution_count": 393,
   "id": "0a2a08b9-5f3f-4340-8eb2-90090cab08c5",
   "metadata": {},
   "outputs": [
    {
     "name": "stdout",
     "output_type": "stream",
     "text": [
      "            current climate we recognize that the  responsible  and prudent thing to do is\n",
      "                        by the company and is not  responsible  for any of lilly's leading products\n",
      "              conviction of the person or persons  responsible  for the latest tampering incidents as\n",
      "              conviction of any person or persons  responsible  for a series of criminal tamperings\n",
      "                      no closer to finding who is  responsible  than when the tampering was discovered\n",
      "        to determine whether the manufacturer was  responsible  for not seeking proper approval before\n",
      "                 of o'neal jones and the official  responsible  for product development and regulatory compliance\n",
      "              said burke ''people know we weren't  responsible  for the tylenol crisis zomax is\n",
      "                     of larger sizes was the most  responsible  action to be taken at this\n",
      "                     the fbi is looking for those  responsible  for the latest wave of terror\n",
      "       to apprehend the individual or individuals  responsible  for this latest wave of terror\n",
      "                  has already said radon could be  responsible  for as any as 20000 deaths\n",
      "judicious and competent scientific assessment and  responsible  public disclosure and handling currently however\n"
     ]
    }
   ],
   "source": [
    "responsible=make_kwic('responsible',flat_list,win=6)\n",
    "print_kwic(sort_kwic(responsible))"
   ]
  },
  {
   "cell_type": "markdown",
   "id": "f73eae12-c772-4dca-bc02-e6fca11b1c29",
   "metadata": {},
   "source": [
    "### Observations:\n",
    "* holder of responsibility unclear (i.e. \"no closer to finding who is responsible\", \"fbi looking for those responsible for latest wave of terror\")"
   ]
  },
  {
   "cell_type": "markdown",
   "id": "68a3ec81-d7ea-4975-bb64-559394cf98b0",
   "metadata": {},
   "source": [
    "#### 5. \"Example\""
   ]
  },
  {
   "cell_type": "code",
   "execution_count": 394,
   "id": "1386b28b-26c3-489a-b2e3-0521644c79ce",
   "metadata": {},
   "outputs": [
    {
     "name": "stdout",
     "output_type": "stream",
     "text": [
      "     best treatment however cluster headaches for  example  seem to respond well to inhaling\n",
      "           described skf's alleged behavior as an  example  of corporate white collar crime violation\n",
      "                  those numbers can be ignored an  example  of the code is nursoy concentrate\n",
      "    researchers have discovered new therapies for  example  by: drawing new conclusions from accidental\n",
      "interrelationships among the various hormones for  example  the production of hormones by the\n",
      "                  those numbers can be ignored an  example  of the code is nursoy concentrate\n",
      "            years of pesticide regulation ddt for  example  was said to pose a ''remote\n"
     ]
    }
   ],
   "source": [
    "example=make_kwic('example',flat_list,win=6)\n",
    "print_kwic(sort_kwic(example))"
   ]
  },
  {
   "cell_type": "markdown",
   "id": "166903b7-d8e6-4c65-9f8e-753dbcfe374a",
   "metadata": {},
   "source": [
    "### Observations:\n",
    "* Example used in context of i.e. \"white collar crime,\" not meant as an exemplar/model by which the companies in question are said to be"
   ]
  },
  {
   "cell_type": "markdown",
   "id": "8787674d-1a91-4526-8ee8-22d8ebc00225",
   "metadata": {},
   "source": [
    "#### 6. \"Trust\""
   ]
  },
  {
   "cell_type": "code",
   "execution_count": 395,
   "id": "1167c522-6c84-43ec-b26f-4c2a7b6c642f",
   "metadata": {},
   "outputs": [
    {
     "name": "stdout",
     "output_type": "stream",
     "text": [
      "market by winning back the public's  trust  in tylenol the corporation's top executive\n",
      "  daunting task in a business where  trust  is crucial to survival company executives\n"
     ]
    }
   ],
   "source": [
    "trust=make_kwic('trust',flat_list,win=6)\n",
    "print_kwic(sort_kwic(trust))"
   ]
  },
  {
   "cell_type": "markdown",
   "id": "9b88d484-c768-4d3e-a1eb-388da583dbb8",
   "metadata": {},
   "source": [
    "* company concern over winning public trust; considering this corpus is based on news coverage (and therefore, second hand accounts), this shows public acknowledgement of the company's objectives (which is to restore faith, and not necessarily on the basis of public safety)"
   ]
  },
  {
   "cell_type": "markdown",
   "id": "7a9f4f7f-78cd-4634-9a8f-40a959ea3026",
   "metadata": {},
   "source": [
    "### Observations:\n",
    "* given that these are second-hand accounts and opinions regarding how companies handle their crises/drug recalls, most of the connotations are actually negative\n",
    "* the list that was developed based on the pilot corpus was intended to examine the ways in which potentially positive words were associated/used to describe company responses/recalls, however using KWIC functions to gather context, we found that news coverage of these responses were mostly negative, indicating that company responses during this period were not particularly effective at handling public outcry/backlash\n",
    " * Given that many of the news coverages associated with these drug recalls demonstrate a level of uncertainty with who holds responsibility, showing that compnay messages by extension are largely unclear\n",
    " * Also many of the news coverage includes descriptions of companies avoiding safety regulations, or providing unclear/misleading messages to the public with respect to the drug's safety following recall, demonstrating how public opinion is centered on their misgivings, ultimately demonstrating therefore that the company message was not effective considering public sentiment is negative within these news coverages\n",
    " * Also shows that the media/public is more conscious of comapanies' intentions to save face, and not necessarily make further decisions on the basis of public health/safety\n",
    "\n",
    "\n",
    "\n",
    "\n",
    "\n",
    "### Total observations:\n",
    "1. Centered around topics such as arthritis drugs and safety concerns, shows the primary focus on health crises.\n",
    "2. Regulatory and Corporate Actions:\n",
    "Key terms like \"FDA,\" \"recall,\" \"suspended,\" and \"withdraw\" show the response to crises is suspending the product.\n",
    "3. References to different international locations (e.g., France, Italy, Pakistan, Central America, and the Middle East) highlight the impact of the drug.\n",
    "4. Terms like \"sales,\" \"projected,\" and financial figures ($20M, $25M) show the prioritization of financial stakes involved in the crisis.\n",
    "5. Balancing Tone:\n",
    "Statements like \"we continue to believe in both the safety and efficacy\" reveal the company's attempt to maintain public confidence while addressing safety concerns.\n"
   ]
  },
  {
   "cell_type": "markdown",
   "id": "65032cd0-fa32-4713-9baf-c2f38601975f",
   "metadata": {},
   "source": [
    "## Sentiment Analysis (VADER Score):"
   ]
  },
  {
   "cell_type": "markdown",
   "id": "ede5701e-f565-4958-8375-b46825126901",
   "metadata": {},
   "source": [
    "Setup/implementation:"
   ]
  },
  {
   "cell_type": "code",
   "execution_count": 28,
   "id": "f5c5d82f-40bc-4b9d-87de-a31f10a64838",
   "metadata": {},
   "outputs": [],
   "source": [
    "import os\n",
    "import re\n",
    "import csv\n",
    "import pandas as pd\n",
    "import numpy as np\n",
    "import matplotlib.pyplot as plt\n",
    "\n",
    "from nltk import tokenize\n",
    "from nltk.sentiment.vader import SentimentIntensityAnalyzer"
   ]
  },
  {
   "cell_type": "code",
   "execution_count": 40,
   "id": "6bc7f4ef-2bb8-471e-9c6a-a39083f2d101",
   "metadata": {},
   "outputs": [],
   "source": [
    "### Using VADER\n",
    "sid = SentimentIntensityAnalyzer()"
   ]
  },
  {
   "cell_type": "code",
   "execution_count": 41,
   "id": "ed64a65a-aca6-48d6-a72b-a2021a36e48c",
   "metadata": {},
   "outputs": [],
   "source": [
    "### text set up\n",
    "eighties_text=no_toc_text.lower().replace('\\n','')"
   ]
  },
  {
   "cell_type": "code",
   "execution_count": 42,
   "id": "b7e55238-4c4b-46aa-ab23-d1b36d464227",
   "metadata": {},
   "outputs": [
    {
     "data": {
      "text/plain": [
       "{'neg': 0.086, 'neu': 0.848, 'pos': 0.066, 'compound': -1.0}"
      ]
     },
     "execution_count": 42,
     "metadata": {},
     "output_type": "execute_result"
    }
   ],
   "source": [
    "sid.polarity_scores(eighties_text)"
   ]
  },
  {
   "cell_type": "markdown",
   "id": "b739dc03-dfe7-40d7-ba5d-fc2d7c2325ef",
   "metadata": {},
   "source": []
  },
  {
   "cell_type": "markdown",
   "id": "3ae0291b-3a87-4844-9216-5852117ca711",
   "metadata": {},
   "source": [
    "### Observation:\n",
    "* higher negative than positive sentiment score\n",
    "* Compound score at -1; very negative sentiment"
   ]
  },
  {
   "cell_type": "code",
   "execution_count": null,
   "id": "25a7c651-b741-47c8-b788-6c8999039f69",
   "metadata": {},
   "outputs": [],
   "source": []
  }
 ],
 "metadata": {
  "citation-manager": {
   "items": {}
  },
  "kernelspec": {
   "display_name": "Python 3 (ipykernel)",
   "language": "python",
   "name": "python3"
  },
  "language_info": {
   "codemirror_mode": {
    "name": "ipython",
    "version": 3
   },
   "file_extension": ".py",
   "mimetype": "text/x-python",
   "name": "python",
   "nbconvert_exporter": "python",
   "pygments_lexer": "ipython3",
   "version": "3.10.12"
  }
 },
 "nbformat": 4,
 "nbformat_minor": 5
}
