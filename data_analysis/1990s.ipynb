{
 "cells": [
  {
   "cell_type": "markdown",
   "id": "b407df44-2edb-4053-85e5-173f231a7628",
   "metadata": {},
   "source": [
    "Read text file"
   ]
  },
  {
   "cell_type": "code",
   "execution_count": 1,
   "id": "17e6d0db-99d5-4053-b1fc-a1b41d93c1f1",
   "metadata": {},
   "outputs": [],
   "source": [
    "import os\n",
    "os.chdir('../data')\n",
    "text = open('nineties.txt').read()"
   ]
  },
  {
   "cell_type": "markdown",
   "id": "c33190e4-d619-4cf5-a3a8-36f6c1b08cbc",
   "metadata": {},
   "source": [
    "Functions:"
   ]
  },
  {
   "cell_type": "code",
   "execution_count": 2,
   "id": "087ce6d0-c46f-4581-84d4-82f38639d32b",
   "metadata": {},
   "outputs": [],
   "source": [
    "from collections import Counter\n",
    "import os\n",
    "import string\n",
    "import json\n",
    "import matplotlib.pyplot as plt\n",
    "from IPython.display import Image"
   ]
  },
  {
   "cell_type": "code",
   "execution_count": 3,
   "id": "14f0a85e-c760-49fb-9c75-a518ad6a6a37",
   "metadata": {},
   "outputs": [],
   "source": [
    "import os\n",
    "os.chdir('../data_analysis')\n",
    "%run functions.ipynb"
   ]
  },
  {
   "cell_type": "markdown",
   "id": "17848316-11ed-4e24-91b6-514e45e9d650",
   "metadata": {},
   "source": [
    "### 1990s corpus set up \n",
    "* (eliminate toc, create list of docs, tokenize each, flatten)"
   ]
  },
  {
   "cell_type": "code",
   "execution_count": 54,
   "id": "17201ff5-6624-4920-ad51-6e5a55b0261c",
   "metadata": {},
   "outputs": [
    {
     "data": {
      "text/plain": [
       "11214"
      ]
     },
     "execution_count": 54,
     "metadata": {},
     "output_type": "execute_result"
    }
   ],
   "source": [
    "text.index(\"200. AM-Atlantic-Today, ; hqq; HALIFAX OUT; UNDATED - 416 . . . Society.; Dartmouth water rates set to rise\")"
   ]
  },
  {
   "cell_type": "code",
   "execution_count": 55,
   "id": "93d7a1d5-383a-4d07-8059-b8ac57612b9e",
   "metadata": {},
   "outputs": [
    {
     "data": {
      "text/plain": [
       "11325"
      ]
     },
     "execution_count": 55,
     "metadata": {},
     "output_type": "execute_result"
    }
   ],
   "source": [
    "text.index('\\nWarner Lambert Recalls Eight Drugs\\nT')"
   ]
  },
  {
   "cell_type": "code",
   "execution_count": 56,
   "id": "d4a644af-018c-4cc7-b109-1a6f7661dee2",
   "metadata": {},
   "outputs": [
    {
     "data": {
      "text/plain": [
       "'200. AM-Atlantic-Today, ; hqq; HALIFAX OUT; UNDATED - 416 . . . Society.; Dartmouth water rates set to rise\\n\\n\\n\\n'"
      ]
     },
     "execution_count": 56,
     "metadata": {},
     "output_type": "execute_result"
    }
   ],
   "source": [
    "text[11214:11325]"
   ]
  },
  {
   "cell_type": "code",
   "execution_count": 57,
   "id": "7f134b86-d301-4af6-9533-31f508516665",
   "metadata": {},
   "outputs": [],
   "source": [
    "notoc_text=text[11325:]"
   ]
  },
  {
   "cell_type": "code",
   "execution_count": 58,
   "id": "112a159a-381c-42f0-bf1b-09655e39301b",
   "metadata": {},
   "outputs": [
    {
     "data": {
      "text/plain": [
       "201"
      ]
     },
     "execution_count": 58,
     "metadata": {},
     "output_type": "execute_result"
    }
   ],
   "source": [
    "doc_list=notoc_text.split('End of Document')\n",
    "len(doc_list)"
   ]
  },
  {
   "cell_type": "code",
   "execution_count": 59,
   "id": "3081fe72-12ac-4acd-ad07-cafef75ec59d",
   "metadata": {},
   "outputs": [],
   "source": [
    "token_docs=[]\n",
    "for doc in doc_list:\n",
    "    doc_tokens=tokenize(doc,lowercase=True,strip_chars='!,.\"')\n",
    "    token_docs.append(doc_tokens)"
   ]
  },
  {
   "cell_type": "code",
   "execution_count": 60,
   "id": "f5e0ec44-548a-4cc2-8ce5-3ed5b77f2426",
   "metadata": {},
   "outputs": [
    {
     "data": {
      "text/plain": [
       "86407"
      ]
     },
     "execution_count": 60,
     "metadata": {},
     "output_type": "execute_result"
    }
   ],
   "source": [
    "flat_list=[]\n",
    "for sublist in token_docs:\n",
    "    flat_list.extend(sublist)\n",
    "\n",
    "len(flat_list)"
   ]
  },
  {
   "cell_type": "markdown",
   "id": "27cab946-34f7-4666-b5e5-b5202658c7ba",
   "metadata": {},
   "source": [
    "* pointer for flattened, normalized and tokenized list of total words across documents: \"flat_list\""
   ]
  },
  {
   "cell_type": "markdown",
   "id": "8755168d-5aac-464c-a594-b7a1f7eeb45f",
   "metadata": {},
   "source": [
    "Filter out stop words:"
   ]
  },
  {
   "cell_type": "code",
   "execution_count": 45,
   "id": "1598bf29-d61b-473b-bde9-41f12ff48eb0",
   "metadata": {},
   "outputs": [],
   "source": [
    "from nltk.corpus import stopwords\n",
    "stoplist=stopwords.raw('english').split('\\n')"
   ]
  },
  {
   "cell_type": "code",
   "execution_count": 46,
   "id": "8a16f600-5f29-4dc2-8af5-7c2fc34b58d4",
   "metadata": {},
   "outputs": [],
   "source": [
    "filtered_flat_list=[]\n",
    "for words in flat_list:\n",
    "    if words not in stoplist:\n",
    "\n",
    "        filtered_flat_list.append(words)"
   ]
  },
  {
   "cell_type": "markdown",
   "id": "2ca4525c-6777-4aba-a408-20d35ada6f43",
   "metadata": {},
   "source": [
    "* pointer: \"filtered_flat_list\""
   ]
  },
  {
   "cell_type": "markdown",
   "id": "59b6fc1f-7580-402c-b3e3-7cd3b243b94c",
   "metadata": {},
   "source": [
    "## Frequency Lists"
   ]
  },
  {
   "cell_type": "markdown",
   "id": "b079aaee-1d1f-4c6f-bc2a-24cca7b887ef",
   "metadata": {},
   "source": [
    "Top 100 words"
   ]
  },
  {
   "cell_type": "code",
   "execution_count": 28,
   "id": "392bdda7-08c3-4750-aded-7d7630a2b8f4",
   "metadata": {},
   "outputs": [
    {
     "name": "stdout",
     "output_type": "stream",
     "text": [
      "[('drug', 1044), ('said', 1042), ('drugs', 570), ('recall', 445), ('company', 416), ('fda', 323), ('patients', 279), ('recalled', 269), ('diet', 234), ('body', 233), ('products', 222), ('press', 204), ('copyright', 204), ('words', 203), ('length:', 200), ('million', 194), ('redux', 194), ('new', 183), ('one', 181), ('used', 178), ('associated', 176), ('section:', 171), ('people', 169), ('load-date:', 167), ('would', 165), ('health', 162), ('1997', 159), ('two', 155), ('market', 155), ('blood', 151), ('news', 149), ('-', 147), ('could', 143), ('heart', 141), ('product', 136), ('food', 135), ('year', 134), ('also', 131), ('doctors', 131), ('$', 131), ('percent', 130), ('dateline:', 126), ('may', 126), ('last', 125), ('fenfluramine', 125), ('sales', 124), ('pharmaceutical', 123), ('american', 118), ('administration', 117), ('home', 110), ('inc', 106), ('medical', 100), ('byline:', 100), ('fen-phen', 100), ('since', 98), ('1998', 98), ('weight', 97), ('rights', 95), ('september', 95), ('october', 94), ('thursday', 94), ('dr', 91), ('1996', 90), ('problems', 89), ('made', 88), ('week', 86), ('reserved', 85), ('time', 85), ('1994', 84), ('taking', 83), ('found', 82), ('known', 82), ('many', 81), ('york', 81), ('10', 79), ('us', 79), ('years', 78), ('generic', 76), ('recalls', 75), ('say', 74), ('laboratories', 74), ('wyeth-ayerst', 73), ('wednesday', 73), ('side', 72), ('federal', 71), ('approved', 71), ('washington', 71), ('first', 70), ('business', 69), ('effects', 69), ('even', 69), ('share', 68), ('use', 68), ('three', 68), ('pondimin', 68), ('june', 67), ('--', 67), ('prescription', 66), ('reported', 64), ('pounds', 64)]\n"
     ]
    }
   ],
   "source": [
    "counted_toks=Counter(filtered_flat_list)\n",
    "print(counted_toks.most_common(100))"
   ]
  },
  {
   "cell_type": "code",
   "execution_count": null,
   "id": "f89ec6ca-53d0-4c52-8496-a2c3eac5c248",
   "metadata": {},
   "outputs": [],
   "source": []
  },
  {
   "cell_type": "markdown",
   "id": "654b9b87-e1c3-4b68-832a-cf75df969e05",
   "metadata": {},
   "source": [
    "Top 50 bigrams"
   ]
  },
  {
   "cell_type": "code",
   "execution_count": 29,
   "id": "38468fc8-af2f-4ba0-bf30-aff259f5d2d9",
   "metadata": {},
   "outputs": [
    {
     "name": "stdout",
     "output_type": "stream",
     "text": [
      "[('of the', 534), ('in the', 327), ('the drug', 309), ('the company', 263), ('the fda', 223), ('said the', 190), ('the drugs', 182), ('the recall', 180), ('to the', 172), ('associated press', 164), ('on the', 162), ('and drug', 126), ('that the', 124), ('from the', 122), ('for the', 122), ('in a', 121), ('food and', 119), ('by the', 117), ('he said', 114), ('drug administration', 109), ('it was', 108), ('of a', 107), ('the market', 107), ('and the', 106), ('with the', 102), ('to be', 100), ('words byline:', 99), ('redux and', 93), ('the food', 92), ('all rights', 85), ('rights reserved', 85), ('have been', 83), ('diet drugs', 82), ('had been', 81), ('new york', 79), ('american home', 77), ('news length:', 76), ('at the', 76), ('recall of', 75), ('words dateline:', 71), ('of its', 69), ('press all', 65), ('after the', 64), ('it is', 63), ('the product', 62), ('reserved section:', 61), ('said it', 61), ('has been', 59), ('sales of', 57), ('cycle copyright', 56)]\n"
     ]
    }
   ],
   "source": [
    "bigrams=get_ngram_tokens(flat_list,n=2)\n",
    "count_bigrams=Counter(bigrams)\n",
    "print(count_bigrams.most_common(50))"
   ]
  },
  {
   "cell_type": "markdown",
   "id": "3541823c-8b44-4a6d-96be-6967ad79a55b",
   "metadata": {},
   "source": [
    "Top 50 trigrams"
   ]
  },
  {
   "cell_type": "code",
   "execution_count": 30,
   "id": "d2d518b5-6f84-42a1-8f1f-066e2291c70d",
   "metadata": {},
   "outputs": [
    {
     "name": "stdout",
     "output_type": "stream",
     "text": [
      "[('food and drug', 118), ('and drug administration', 106), ('the food and', 91), ('all rights reserved', 85), ('associated press all', 65), ('press all rights', 65), ('rights reserved section:', 61), ('of the drug', 52), ('american home products', 49), ('the associated press', 47), ('the company said', 43), ('words byline: by', 37), ('the fda said', 36), ('section: business news', 35), ('business news length:', 35), ('from the market', 35), ('the united states', 35), ('redux and fenfluramine', 34), ('the diet drugs', 32), ('dateline: washington body', 31), ('the recall of', 31), ('on the market', 31), ('am cycle copyright', 29), ('said the company', 29), ('the new york', 29), ('in the united', 29), ('one of the', 27), ('eastern time copyright', 27), ('the drug was', 26), ('approved by the', 25), ('off the market', 24), ('used to treat', 24), ('heart valve damage', 23), ('by the fda', 23), ('redux and pondimin', 23), ('drug administration said', 22), ('dateline: new york', 22), ('drugs redux and', 22), ('reserved section: business', 21), ('new york body', 21), ('half of the', 21), ('the company had', 20), ('of the popular', 20), ('the drug is', 19), ('copyright 1997 associated', 19), ('1997 associated press', 19), ('recall of the', 19), ('said it was', 19), ('director of the', 19), ('copyright 1997 the', 19)]\n"
     ]
    }
   ],
   "source": [
    "trigrams=get_ngram_tokens(flat_list,n=3)\n",
    "count_tri=Counter(trigrams)\n",
    "print(count_tri.most_common(50))"
   ]
  },
  {
   "cell_type": "markdown",
   "id": "2fb5e2fe-485e-4f65-9933-fbfe9ae11a8f",
   "metadata": {},
   "source": [
    "### Observations:\n",
    "\n",
    "Top Words (tokens):\n",
    "* \"Drug\" and \"said\" are at the top, showing a strong focus on drugs and reporting statements\n",
    "* Lots of mentions of \"recall,\" \"recalled,\" and \"company,\" signaling ongoing product crises and corporate responses\n",
    "* The appearance of \"patients,\" \"doctors,\" and \"medical\" shows a shift toward health impacts and clinical concerns\n",
    "* Words like \"fen-phen,\" \"redux,\" and \"fenfluramine\" suggest a big focus on weight-loss drugs and controversies related to that\n",
    "* \"FDA\" and \"administration\" are still important but show up less than in the 1980s, maybe indicating a different regulatory narrative\n",
    "* Financial and numerical terms like \"million,\" \"$,\" and \"percent\" highlight the economic scale and stakes involved\n",
    "* \"Market,\" \"sales,\" and \"business\" suggest attention to the corporate and financial implications of these crises\n",
    "* Words like \"problems,\" \"side,\" \"effects,\" and \"heart\" hint at safety concerns and health risks being at the forefront\n",
    "\n",
    "Top 50 Bigrams:\n",
    "* \"The drug\" (309), \"the company\" (263), and \"the FDA\" (223) stand out, highlighting the core focus on drugs, corporations, and regulatory bodies\n",
    "* \"The recall\" (180) and \"recall of\" (75) confirm that recalls are a theme in these documents\n",
    "* \"Food and\" (119) and \"drug administration\" (109) reinforce the FDA's critical role in the narratives\n",
    "* \"Redux and\" (93) and \"diet drugs\" (82) link closely to weight-loss drug controversies of the 1990s\n",
    "* \"Associated press\" (164) and \"words byline:\" (99) show the media’s significant role in shaping the stories\n",
    "* Phrases like \"he said\" (114) and \"said it\" (61) suggest these documents heavily rely on quotes and statements\n",
    "* \"The market\" (107) and \"sales of\" (57) emphasize the financial and business impact of the crises\n",
    "* \"American home\" (77) is notable and ties back to key players in the pharmaceutical space like Wyeth-Ayerst\n",
    "* Legal phrases like \"all rights\" (85) and \"rights reserved\" (85) point to formal and structured reporting styles\n",
    "\n",
    "\n",
    "Top 50 Trigrams:\n",
    "* \"Food and drug,\" \"and drug administration,\" and \"the food and\" highlight the FDA's central role \n",
    "* Legal phrases like \"all rights reserved,\" \"associated press all,\" and \"press all rights\" reflect formal and structured reporting styles\n",
    "* \"American home products\" points to key players in the pharmaceutical industry during this period\n",
    "* Trigrams like \"the company said\" and \"said the company\" show a heavy reliance on corporate statements\n",
    "* \"Redux and fenfluramine\" and \"redux and pondimin\" connect to the weight-loss drug controversies dominating the 1990s\n",
    "* \"The recall of\" and \"off the market\" reinforce the recurring focus on product recalls and market withdrawals\n",
    "* Health impacts like \"heart valve damage\" reflect the significant risks associated with certain drugs\n",
    "* \"The fda said\" and \"by the fda\" underscore the critical role of regulatory communication in shaping public perception"
   ]
  },
  {
   "cell_type": "code",
   "execution_count": null,
   "id": "52e9520f-e24e-4e59-a7e1-ace75eee89a4",
   "metadata": {},
   "outputs": [],
   "source": []
  },
  {
   "cell_type": "markdown",
   "id": "2fa16ebc-da3a-4f9d-ac74-f58603adf2a5",
   "metadata": {},
   "source": [
    "J&J word list:"
   ]
  },
  {
   "cell_type": "code",
   "execution_count": 31,
   "id": "1d71912f-bce3-4b4c-9d88-acc79220d158",
   "metadata": {},
   "outputs": [],
   "source": [
    "jj_words=['showed','safety','responsible','trust', 'trusted','forgiveness','consumer','example','rectification','sympathy']"
   ]
  },
  {
   "cell_type": "code",
   "execution_count": 32,
   "id": "04593694-e0ad-4439-ae54-4f73f09a1f26",
   "metadata": {},
   "outputs": [
    {
     "data": {
      "text/plain": [
       "124"
      ]
     },
     "execution_count": 32,
     "metadata": {},
     "output_type": "execute_result"
    }
   ],
   "source": [
    "words_90s=[]\n",
    "for word in filtered_flat_list:\n",
    "    if word in jj_words:\n",
    "        words_90s.append(word)\n",
    "\n",
    "len(words_90s)"
   ]
  },
  {
   "cell_type": "markdown",
   "id": "07692616-bc34-4588-9e18-75bb708c2363",
   "metadata": {},
   "source": [
    "* only 124 instances combined total of these words occur within a corpus of 86,000+ words"
   ]
  },
  {
   "cell_type": "code",
   "execution_count": 33,
   "id": "28aa92bf-306d-41b6-b391-b1d428a20ab0",
   "metadata": {},
   "outputs": [
    {
     "data": {
      "text/plain": [
       "Counter({'safety': 59,\n",
       "         'consumer': 26,\n",
       "         'showed': 22,\n",
       "         'example': 5,\n",
       "         'responsible': 9,\n",
       "         'trusted': 2,\n",
       "         'sympathy': 1})"
      ]
     },
     "execution_count": 33,
     "metadata": {},
     "output_type": "execute_result"
    }
   ],
   "source": [
    "count_word=Counter(words_90s)\n",
    "count_word"
   ]
  },
  {
   "cell_type": "markdown",
   "id": "259af580-697c-431b-a470-032366608037",
   "metadata": {},
   "source": [
    "* 7 of the 10 words appear within the entire corpus"
   ]
  },
  {
   "cell_type": "markdown",
   "id": "92b39bcb-9424-4e65-8883-8014526005c7",
   "metadata": {},
   "source": [
    "## Context Analysis using KWIC concordances:"
   ]
  },
  {
   "cell_type": "markdown",
   "id": "85f588d7-0511-4428-aeb5-21940c378c96",
   "metadata": {},
   "source": [
    "#### 1. \"Safety\""
   ]
  },
  {
   "cell_type": "code",
   "execution_count": 21,
   "id": "73355e2f-8ee9-4571-a4dc-e8dd0f1de5c5",
   "metadata": {},
   "outputs": [
    {
     "name": "stdout",
     "output_type": "stream",
     "text": [
      "              drug administration the recall is not  safety  related but stems from the validation\n",
      "                saying it was important for patient  safety  that the letters were acted on\n",
      "             the necessary steps to protect patient  safety  he said pratt said the ministry\n",
      "                        march 24 1989 spill and the  safety  of other oil industry operations in\n",
      "       needed to ensure compliance with operational  safety  emergency response and environmental requirements that's\n",
      "                            it had no evidence of a  safety  problem with the drug interpharm was\n",
      "                       are not aware of any serious  safety  problems with the pbi drug and\n",
      "                      recall was not for health and  safety  reasons he said the drugs in\n",
      "                      recall was not for health and  safety  reasons he said the drugs in\n",
      "                     the recalls do not involve any  safety  concerns and do not extend to\n",
      "               loss discovery of the century drug's  safety  questioned redux later graced the sept\n",
      "              already being raised about the drug's  safety  minor side effects like a dry\n",
      "            saying that redux labeling claimed that  safety  was not shown for longer than\n",
      "                drugs the fda hasn't criticized the  safety  and efficacy of nitrogylcerin or any\n",
      "                      recall was not for health and  safety  reasons he said the drugs in\n",
      "          abbokinase in november to investigate the  safety  violations fda inspection reports say the\n",
      "           of contamination and abbott upgraded its  safety  methods and added warnings to the\n",
      "         november to investigate whether there were  safety  violations in manufacturing but extensive sampling\n",
      "           manufacturer abbott inc had upgraded its  safety  methods to guard against future problems\n",
      "abbott and biowhittaker apparently followed certain  safety  standards deemed proper when the drug\n",
      "          abbokinase in november to investigate the  safety  violations but extensive sampling of suspect\n",
      "           manufacturer abbott inc had upgraded its  safety  methods to guard against future problems\n",
      "abbott and biowhittaker apparently followed certain  safety  standards deemed proper when the drug\n",
      "               blood pressure and angina because of  safety  concerns about 20000 doctors across the\n",
      "                  extra step ensures the health and  safety  of our customers and is well\n",
      "       and schein health nuclear contamination? the  safety  engineering manager at san onofre nuclear\n",
      "                            $ 100000 by the nrc for  safety  violations involving the fuel fleas and\n",
      "              if the food and drug administration's  safety  nets are breaking down a senator\n",
      "             frustration with pressure to skim over  safety  concerns ap#natbriefsu1# the message was that\n",
      "                     13 years at fda monitoring the  safety  of certain experimental drugs dr michael\n",
      "                needed time to evaluate further the  safety  profile of troglitazone but warner-lambert which\n",
      "                       of a national office of drug  safety  to monitor approved pharmaceuticals said the\n",
      "                  result from any concern about the  safety  or effectiveness of the product the\n",
      "              fda drug recalls raise concerns about  safety  / a senator wants to know\n",
      "         whether the food and drug administration's  safety  nets are breaking down a senator\n",
      "             frustration with pressure to skim over  safety  concerns the message was that one\n",
      "                     13 years at fda monitoring the  safety  of certain experimental drugs the red\n",
      "                 to approve drugs even with serious  safety  concerns is starting to see the\n",
      "                      spring the fda has to upgrade  safety  warnings on more than 20 drugs\n",
      "                      how well the fda handles drug  safety  and side effects republicans too are\n",
      "  controversies much as the national transportation  safety  board investigates plane crashes how safe\n",
      "              redux and fen-phen meridia has raised  safety  concerns the fda approved it over\n",
      "               properly coated the company said the  safety  or effectiveness of brompheril was not\n",
      "              redux and fen-phen meridia has raised  safety  concerns the fda approved it over\n",
      "              redux and fen-phen meridia has raised  safety  concerns the fda approved it over\n",
      "                      fda says the recalls show its  safety  system works we're picking up the\n",
      "     scientific experts reviewed those products for  safety  and effectiveness and to date there\n",
      "                       there was a problem with the  safety  and effectiveness (of the drugs) they\n",
      "          should be removed from service government  safety  experts say bark busters have been\n",
      "             least one person the consumer products  safety  commission said but the cpsc said\n",
      "                said the log splitter lacks several  safety  features bark buster owners should unbolt\n",
      "       charcoal lighter fluid the consumer products  safety  commission has announced the company lantec\n",
      "        the withdrawal request claims regarding the  safety  and effectiveness of redux were also\n",
      "        the withdrawal request claims regarding the  safety  and effectiveness of redux were also\n",
      "                          issue; we have to look at  safety  said thomas moore a health-policy researcher\n",
      "                      to release a drug that raised  safety  concerns that's a good question said\n",
      "            because they don't have child resistant  safety  seals the package labels for entrophen\n",
      "              redux and fen-phen meridia has raised  safety  concerns the fda approved it over\n",
      "                 regulations but said there were no  safety  concerns copley issued the recall --\n"
     ]
    }
   ],
   "source": [
    "safety=make_kwic('safety',flat_list,win=6)\n",
    "print_kwic(sort_kwic(safety))"
   ]
  },
  {
   "cell_type": "markdown",
   "id": "dbecb7bf-8f5a-45dc-82e8-410b92054248",
   "metadata": {},
   "source": [
    "* \"manufacturer abbott inc had upgraded its  safety  methods to guard against future problems\"; such instances showing how companies taking more and more initiative/positive measures\n",
    "* shows more words like \"review\" (of products, in context)\n",
    "* a little more ambiguity surrounding direct action by companies (i.e. statements like \"need more time to evaluate\")\n",
    "* still loaded with many instances involving \"fda criticized\" or raised safety concerns\n",
    "  * there is one statement in which it was claimed the fda \"hadn't\" criticized the efficacy of the drug in question\n",
    "* also some statements claiming that recall was \"not for health and safety reasons\"\n",
    "* more concerns regarding the FDA approval of the drug, rather than the manufacturer/company cheating safety protocols"
   ]
  },
  {
   "cell_type": "markdown",
   "id": "bbd6bd24-1c28-486d-81cb-7d49e0fd6ab4",
   "metadata": {},
   "source": [
    "#### 2. \"Consumer\""
   ]
  },
  {
   "cell_type": "code",
   "execution_count": 54,
   "id": "b0bb8b4a-9662-4124-a089-9f02e1100164",
   "metadata": {},
   "outputs": [
    {
     "name": "stdout",
     "output_type": "stream",
     "text": [
      "          manufactures and markets health care and  consumer  products drug recall usa today june\n",
      "             be returned load-date: january 6 1994  consumer  alert: drug recall pr newswire november\n",
      "              initiated a nationwide recall to the  consumer  level retail pharmacists are being requested\n",
      "                    their pharmacist or may call a  consumer  information line at 800-438-2000 contact: harold\n",
      "             and marketing quality health care and  consumer  products it employs approximately 34000 contact:\n",
      "                   october 22 1997 study shows low  consumer  recall of advertised drugs medical marketing\n",
      "              weight control not advertised to the  consumer  and withdrawn from the market was\n",
      "             483 words byline: david dishneau body  consumer  advocates urged the food and drug\n",
      "         said they have already enacted sufficient  consumer  protections including urging doctors to consider\n",
      "          sales resume jan 25 the washington-based  consumer  group public citizen said those measures\n",
      "byline: lauran neergaard dateline: washington body  consumer  advocates urged the government today to\n",
      "              to guard against future problems the  consumer  group public citizen charged today that\n",
      "byline: lauran neergaard dateline: washington body  consumer  advocates urged the government today to\n",
      "              to guard against future problems the  consumer  group public citizen charged today that\n",
      "            drug maker's side the madison nj-based  consumer  products giant did receive 11 adverse\n",
      "            drug maker's side the madison nj-based  consumer  products giant did receive 11 adverse\n",
      "acting commissioner james benson unfortunately the  consumer  stands to be the principal victim\n",
      "            drug maker's side the madison nj-based  consumer  products giant did receive 11 adverse\n",
      "                           the red flag is up said  consumer  advocate sidney wolfe of public citizen\n",
      "                            02 below the line if a  consumer  finds that a bottle that is\n",
      "            drug maker's side the madison nj-based  consumer  products giant did receive 11 ''adverse\n",
      "                        of at least one person the  consumer  products safety commission said but the\n",
      "             bottles of charcoal lighter fluid the  consumer  products safety commission has announced the\n",
      "            drug maker's side the madison nj-based  consumer  products giant did receive 11 ''adverse\n",
      "      a spokesperson for johnson and johnson-merck  consumer  pharmaceuticals call 1-800-265-7323 for a refund\n",
      "         intravenous treatments and are not common  consumer  items he did not have brand\n"
     ]
    }
   ],
   "source": [
    "consumer=make_kwic('consumer',flat_list,win=6)\n",
    "print_kwic(sort_kwic(consumer))"
   ]
  },
  {
   "cell_type": "markdown",
   "id": "65ff9b14-3731-46a9-8c9f-7e82a04e20c6",
   "metadata": {},
   "source": [
    "* \"enacted sufficient  consumer  protections including urging doctors to consider\"\n",
    "* \"guard against future problems for the consumer\"\n",
    "* \"weight control not advertised to the  consumer and withdrawn from the market\"-here shows some lack of consumer consideration (misinformation on bottle)\n",
    "* Often mentioned in the context of \"consumer safety\" or \"consumer protection,\" showing a focus on public health\n",
    "* Used in phrases like \"consumer trust\" and \"consumer confidence,\" reflecting the importance of maintaining reputation during crises\n"
   ]
  },
  {
   "cell_type": "markdown",
   "id": "60381c0f-cb7b-488b-9771-9ca0433a0564",
   "metadata": {},
   "source": [
    "#### 3. \"Showed\""
   ]
  },
  {
   "cell_type": "code",
   "execution_count": 46,
   "id": "b54658c2-944e-4bfd-8ad8-4c677db3dfea",
   "metadata": {},
   "outputs": [
    {
     "name": "stdout",
     "output_type": "stream",
     "text": [
      "          its blood products after an autopsy  showed  a blood donor with a rare\n",
      "               a male donor who died recently  showed  he had creutzfelt-jakob disease a virus\n",
      "   england journal of medicine later findings  showed  that of 291 patients screened 30\n",
      "  harvard medical school released in february  showed  that prozac created intense violent suicidal\n",
      "      medical school and released in february  showed  that prozac crated intense violent suicidal\n",
      " patients had abnormal readings although they  showed  no symptoms earlier the fda had\n",
      "          had a heart murmur subsequent tests  showed  that one or more heart valves\n",
      "                 said all of the studies that  showed  drugs worked also included diet and\n",
      "          medicine'' she said one small study  showed  that nearly one-third of people taking\n",
      "                  go out and play football he  showed  his ability against aston villa and\n",
      " sold to unwary pharmacies investigation also  showed  that counterfeit bottles labelled synarel contained\n",
      "  announced the recall wednesday saying tests  showed  the product is below intended potency\n",
      "               the diet drugs and those tests  showed  no valve problems eight of the\n",
      "             291 patients who had no symptoms  showed  their heart valves could be malfunctioning\n",
      "                  in prior years it said that  showed  that the system to monitor drugs\n",
      "          laboratories ltd tests by the maker  showed  the defective batch would not pose\n",
      "recalling the items because its investigation  showed  it made minor manufacturing changes in\n",
      " with bronchitis or emphysema routine testing  showed  the presence of microbial growth --\n",
      "                    a few batches of the drug  showed  any bacteria and company tests showed\n",
      "        showed any bacteria and company tests  showed  they were of a relatively harmless\n",
      "   christopher taylor said earlier tests that  showed  a more dangerous bacteria were wrong\n",
      "          by the food and drug administration  showed  that the drug sold under the\n"
     ]
    }
   ],
   "source": [
    "showed=make_kwic('showed',flat_list,win=6)\n",
    "print_kwic(sort_kwic(showed))"
   ]
  },
  {
   "cell_type": "markdown",
   "id": "c7bb9c96-b27b-4959-ab61-3ed197543f9a",
   "metadata": {},
   "source": [
    "* \"company tests  showed  they were of a relatively harmless\"-ambiguous, potentially negative\n",
    "* \"said all of the studies that  showed  drugs worked\"-similarly ambiguous, and possibly negative connotation\n",
    "* Often used to highlight test results or studies, emphasizing evidence-based claims\n",
    "* Frequently associated with health risks, like heart valve issues or microbial growth, tying back to consumer safety concerns\n",
    "* Used ambiguously in phrases like \"company tests showed they were of a relatively harmless\" and \"said all of the studies that showed drugs worked,\" which could carry a negative connotation depending on the context\n"
   ]
  },
  {
   "cell_type": "markdown",
   "id": "99bfaaf1-11e3-4160-b53f-e8bc10ae0eaa",
   "metadata": {},
   "source": [
    "#### 4. \"Example\""
   ]
  },
  {
   "cell_type": "code",
   "execution_count": 59,
   "id": "86788bb7-e119-4238-9c54-fb2a452d263e",
   "metadata": {},
   "outputs": [
    {
     "name": "stdout",
     "output_type": "stream",
     "text": [
      " 12 others is only one shocking  example  cchr members handed out the recent\n",
      "certain foods or bee stings for  example  users inject themselves with epinephrine also\n",
      "certain foods or bee stings for  example  users inject themselves with epinephrine also\n",
      "   the fda knew that duract for  example  caused serious liver damage if taken\n",
      "   makes duract you see here an  example  of the system working documents show\n"
     ]
    }
   ],
   "source": [
    "example=make_kwic('example',flat_list,win=6)\n",
    "print_kwic(sort_kwic(example))"
   ]
  },
  {
   "cell_type": "markdown",
   "id": "a493589e-8914-4cdb-bb76-88f0abf367e3",
   "metadata": {},
   "source": [
    "* \"FDA knew for example caused serious liver damage\"-negative\n",
    "* the term \"example\" used here in the context of \"as an example,\" or something along those lines"
   ]
  },
  {
   "cell_type": "markdown",
   "id": "0c2cc6a8-3a52-42c5-8065-aa02d230efa7",
   "metadata": {},
   "source": [
    "#### 5. \"Responsible\""
   ]
  },
  {
   "cell_type": "code",
   "execution_count": 48,
   "id": "a4ec5aba-5231-465e-b409-b3fc7dc834c2",
   "metadata": {},
   "outputs": [
    {
     "name": "stdout",
     "output_type": "stream",
     "text": [
      "             the company is found to be  responsible  its penalty is unlikely to go\n",
      "             the company is found to be  responsible  its penalty is unlikely to go\n",
      "hassner sharav director of citizens for  responsible  care in psychiatry and research the\n",
      "         they were ever sold whoever is  responsible  for creating the attitude at the\n",
      "              friedman said it is not a  responsible  position to suggest the agency would\n",
      "             the company is found to be  responsible  its penalty is unlikely to go\n",
      "     up the drug-approval process he is  responsible  for overseeing the process karpinski said\n",
      "             the company is found to be  responsible  its penalty is unlikely to go\n",
      "    provided by former workers who were  responsible  for the production process michael riley\n"
     ]
    }
   ],
   "source": [
    "responsible=make_kwic('responsible',flat_list,win=6)\n",
    "print_kwic(sort_kwic(responsible))"
   ]
  },
  {
   "cell_type": "markdown",
   "id": "7042a9ec-4051-4705-ba72-028c17ffc548",
   "metadata": {},
   "source": [
    "* responsible used in context of identifying the company in question and noting how they are either being let go of penalties/consequences\n",
    "* therefore used with mostly negative connotations"
   ]
  },
  {
   "cell_type": "markdown",
   "id": "b2023bcf-c8b2-4876-89db-e77e4cf7c6b8",
   "metadata": {},
   "source": [
    "#### 6. \"Trusted\""
   ]
  },
  {
   "cell_type": "code",
   "execution_count": 49,
   "id": "86e7ec82-7043-4f3b-b076-508909105658",
   "metadata": {},
   "outputs": [
    {
     "name": "stdout",
     "output_type": "stream",
     "text": [
      "that the drug company cannot be  trusted  with the health of americans the\n",
      "that the drug company cannot be  trusted  with the health of americans the\n"
     ]
    }
   ],
   "source": [
    "trusted=make_kwic('trusted',flat_list,win=6)\n",
    "print_kwic(sort_kwic(trusted))"
   ]
  },
  {
   "cell_type": "markdown",
   "id": "39509f32-7959-48e2-833b-566aa402059c",
   "metadata": {},
   "source": [
    "* Trusted used in a very negative manner (as in, \"cannot be trusted\")\n",
    "* Highlights public skepticism and a lack of confidence in corporate responsibility for consumer health"
   ]
  },
  {
   "cell_type": "markdown",
   "id": "7714f987-2e37-4fbb-8c75-dd52340dd80f",
   "metadata": {},
   "source": [
    "#### 7. \"Sympathy\""
   ]
  },
  {
   "cell_type": "code",
   "execution_count": 61,
   "id": "f8296459-c9e0-496f-9ec3-0357be3b1daf",
   "metadata": {},
   "outputs": [
    {
     "name": "stdout",
     "output_type": "stream",
     "text": [
      "more dangerous bacteria were wrong he said we have great  sympathy  for the families involved but the company firmly believes that\n"
     ]
    }
   ],
   "source": [
    "sympathy=make_kwic('sympathy',flat_list,win=10)\n",
    "print_kwic(sort_kwic(sympathy))"
   ]
  },
  {
   "cell_type": "markdown",
   "id": "e5e9b1ec-9d70-4d86-af46-d605c1eba5b8",
   "metadata": {},
   "source": [
    "* shows how company is not taking full responsibility-does extend sympathy to those affected, but then follows with backtracking"
   ]
  },
  {
   "cell_type": "markdown",
   "id": "9137f450-f0bd-48f8-bd07-2cd56cc65b48",
   "metadata": {},
   "source": [
    "## Sentiment Analysis Score:"
   ]
  },
  {
   "cell_type": "code",
   "execution_count": 14,
   "id": "9789a6ba-3560-4cda-a0f0-882067e222a0",
   "metadata": {},
   "outputs": [],
   "source": [
    "### Set up:\n",
    "\n",
    "import os\n",
    "import re\n",
    "import csv\n",
    "import pandas as pd\n",
    "import numpy as np\n",
    "import matplotlib.pyplot as plt\n",
    "\n",
    "from nltk import tokenize\n",
    "from nltk.sentiment.vader import SentimentIntensityAnalyzer"
   ]
  },
  {
   "cell_type": "code",
   "execution_count": 62,
   "id": "d0223f09-ae81-478c-a9a7-fbbc4f058b09",
   "metadata": {},
   "outputs": [],
   "source": [
    "### Using VADER\n",
    "sid = SentimentIntensityAnalyzer()\n",
    "\n",
    "### text set up\n",
    "nineties_text=notoc_text.lower().replace('\\n','')"
   ]
  },
  {
   "cell_type": "code",
   "execution_count": 63,
   "id": "eb58606a-c195-4567-ac3c-d6628a805e44",
   "metadata": {},
   "outputs": [
    {
     "data": {
      "text/plain": [
       "{'neg': 0.094, 'neu': 0.842, 'pos': 0.064, 'compound': -1.0}"
      ]
     },
     "execution_count": 63,
     "metadata": {},
     "output_type": "execute_result"
    }
   ],
   "source": [
    "sid.polarity_scores(nineties_text)"
   ]
  },
  {
   "cell_type": "markdown",
   "id": "042ba176-6ed4-4309-8e47-5aa5073dbfa7",
   "metadata": {},
   "source": [
    "### Observation:\n",
    "* negative compound\n",
    "* contains a higher negative than positive score; more negative content"
   ]
  },
  {
   "cell_type": "code",
   "execution_count": null,
   "id": "9e6a3705-7bbd-4d89-b304-b5ec44fc1557",
   "metadata": {},
   "outputs": [],
   "source": []
  }
 ],
 "metadata": {
  "citation-manager": {
   "items": {}
  },
  "kernelspec": {
   "display_name": "Python 3.8",
   "language": "python",
   "name": "python3"
  },
  "language_info": {
   "codemirror_mode": {
    "name": "ipython",
    "version": 3
   },
   "file_extension": ".py",
   "mimetype": "text/x-python",
   "name": "python",
   "nbconvert_exporter": "python",
   "pygments_lexer": "ipython3",
   "version": "3.8.8"
  }
 },
 "nbformat": 4,
 "nbformat_minor": 5
}
