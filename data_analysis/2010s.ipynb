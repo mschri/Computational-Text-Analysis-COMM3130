{
 "cells": [
  {
   "cell_type": "markdown",
   "id": "01f1b933-6579-4035-bdf5-3df412ab0929",
   "metadata": {},
   "source": [
    "Read Text file:"
   ]
  },
  {
   "cell_type": "code",
   "execution_count": 4,
   "id": "29742a08-2ef2-4a2b-ba9d-eba30d864e3f",
   "metadata": {},
   "outputs": [
    {
     "ename": "FileNotFoundError",
     "evalue": "[Errno 2] No such file or directory: '../data'",
     "output_type": "error",
     "traceback": [
      "\u001b[0;31m---------------------------------------------------------------------------\u001b[0m",
      "\u001b[0;31mFileNotFoundError\u001b[0m                         Traceback (most recent call last)",
      "\u001b[0;32m/tmp/ipykernel_1115968/3535761813.py\u001b[0m in \u001b[0;36m<module>\u001b[0;34m\u001b[0m\n\u001b[1;32m      1\u001b[0m \u001b[0;32mimport\u001b[0m \u001b[0mos\u001b[0m\u001b[0;34m\u001b[0m\u001b[0;34m\u001b[0m\u001b[0m\n\u001b[0;32m----> 2\u001b[0;31m \u001b[0mos\u001b[0m\u001b[0;34m.\u001b[0m\u001b[0mchdir\u001b[0m\u001b[0;34m(\u001b[0m\u001b[0;34m'../data'\u001b[0m\u001b[0;34m)\u001b[0m\u001b[0;34m\u001b[0m\u001b[0;34m\u001b[0m\u001b[0m\n\u001b[0m\u001b[1;32m      3\u001b[0m \u001b[0mtext\u001b[0m \u001b[0;34m=\u001b[0m \u001b[0mopen\u001b[0m\u001b[0;34m(\u001b[0m\u001b[0;34m'twentytens.txt'\u001b[0m\u001b[0;34m)\u001b[0m\u001b[0;34m.\u001b[0m\u001b[0mread\u001b[0m\u001b[0;34m(\u001b[0m\u001b[0;34m)\u001b[0m\u001b[0;34m\u001b[0m\u001b[0;34m\u001b[0m\u001b[0m\n",
      "\u001b[0;31mFileNotFoundError\u001b[0m: [Errno 2] No such file or directory: '../data'"
     ]
    }
   ],
   "source": [
    "import os\n",
    "os.chdir('../data')\n",
    "text = open('twentytens.txt').read()"
   ]
  },
  {
   "cell_type": "markdown",
   "id": "c0b6f312-2920-4a36-811e-cd54dd9713e7",
   "metadata": {},
   "source": [
    "Functions:"
   ]
  },
  {
   "cell_type": "code",
   "execution_count": 29,
   "id": "202ec4d8-e26e-4041-9576-a54acd0ccc5e",
   "metadata": {},
   "outputs": [],
   "source": [
    "from collections import Counter\n",
    "import os\n",
    "import string\n",
    "import json\n",
    "import matplotlib.pyplot as plt\n",
    "from IPython.display import Image"
   ]
  },
  {
   "cell_type": "code",
   "execution_count": 30,
   "id": "2647aee6-7c2b-4e88-b6e5-912d0e87c4f8",
   "metadata": {},
   "outputs": [],
   "source": [
    "import os\n",
    "os.chdir('../data_analysis')\n",
    "%run functions.ipynb"
   ]
  },
  {
   "cell_type": "markdown",
   "id": "84682e5f-2c94-4974-b3f3-99ced5927e4a",
   "metadata": {},
   "source": [
    "### 2010s corpus set up:"
   ]
  },
  {
   "cell_type": "code",
   "execution_count": 31,
   "id": "7d21aef4-045f-47a4-a503-ac26f8009741",
   "metadata": {},
   "outputs": [
    {
     "data": {
      "text/plain": [
       "12975"
      ]
     },
     "execution_count": 31,
     "metadata": {},
     "output_type": "execute_result"
    }
   ],
   "source": [
    "text.index('200. Europe issues 2nd recall of drugs made by Ben Venue')"
   ]
  },
  {
   "cell_type": "code",
   "execution_count": 32,
   "id": "2816dba4-ee58-490b-b009-a5ee552cac1d",
   "metadata": {},
   "outputs": [],
   "source": [
    "no_toc_text=text[12975:]"
   ]
  },
  {
   "cell_type": "code",
   "execution_count": 33,
   "id": "dbe4758a-4dd6-48eb-b014-112d4138fcf7",
   "metadata": {},
   "outputs": [
    {
     "data": {
      "text/plain": [
       "201"
      ]
     },
     "execution_count": 33,
     "metadata": {},
     "output_type": "execute_result"
    }
   ],
   "source": [
    "doc_list=no_toc_text.split('End of Document')\n",
    "len(doc_list)"
   ]
  },
  {
   "cell_type": "code",
   "execution_count": 8,
   "id": "86d6def0-8016-4dc2-9e34-7bf1e2e6a0c1",
   "metadata": {},
   "outputs": [],
   "source": [
    "token_docs=[]\n",
    "for doc in doc_list:\n",
    "    doc_tokens=tokenize(doc,lowercase=True,strip_chars='!,.\"')\n",
    "    token_docs.append(doc_tokens)"
   ]
  },
  {
   "cell_type": "code",
   "execution_count": 9,
   "id": "5d80e26b-329d-4cff-ba7b-3cc5ff19669a",
   "metadata": {},
   "outputs": [
    {
     "data": {
      "text/plain": [
       "81184"
      ]
     },
     "execution_count": 9,
     "metadata": {},
     "output_type": "execute_result"
    }
   ],
   "source": [
    "flat_list=[]\n",
    "for sublist in token_docs:\n",
    "    flat_list.extend(sublist)\n",
    "\n",
    "len(flat_list)"
   ]
  },
  {
   "cell_type": "markdown",
   "id": "1244bca5-9eb1-451a-9fa9-2c16887ca117",
   "metadata": {},
   "source": [
    "Filter out stop words:"
   ]
  },
  {
   "cell_type": "code",
   "execution_count": 10,
   "id": "01d6e966-1e89-466b-8b70-ec0a6802a617",
   "metadata": {},
   "outputs": [],
   "source": [
    "from nltk.corpus import stopwords\n",
    "stoplist=stopwords.raw('english').split('\\n')"
   ]
  },
  {
   "cell_type": "code",
   "execution_count": 11,
   "id": "ebc9cb03-9ea0-410e-94f4-921982531081",
   "metadata": {},
   "outputs": [],
   "source": [
    "filtered_flat_list=[]\n",
    "for words in flat_list:\n",
    "    if words not in stoplist:\n",
    "        filtered_flat_list.append(words)"
   ]
  },
  {
   "cell_type": "markdown",
   "id": "ca0f702f-4ece-4f20-82db-66cf66809c15",
   "metadata": {},
   "source": [
    "## Frequency Lists:"
   ]
  },
  {
   "cell_type": "markdown",
   "id": "cfe3f35d-b9aa-4f70-abcf-1fd54828280e",
   "metadata": {},
   "source": [
    "Top 100 words:"
   ]
  },
  {
   "cell_type": "code",
   "execution_count": 12,
   "id": "81ac90a1-3c73-4361-a350-cab5d640fc45",
   "metadata": {},
   "outputs": [
    {
     "name": "stdout",
     "output_type": "stream",
     "text": [
      "[('drug', 903), ('recall', 759), ('said', 670), ('fda', 556), ('drugs', 516), ('us', 424), ('products', 401), ('recalled', 396), ('2019', 344), ('patients', 340), ('health', 308), ('company', 301), ('valsartan', 249), ('may', 228), ('blood', 225), ('body', 211), ('copyright', 206), ('product', 205), ('found', 204), ('recalls', 204), ('rights', 200), ('length:', 200), ('words', 200), ('load-date:', 200), ('tablets', 200), ('reserved', 199), ('also', 181), ('food', 179), ('medicines', 174), ('used', 170), ('lots', 170), ('pressure', 166), ('manufacturing', 162), ('pharmaceuticals', 159), ('ndma', 155), ('ranitidine', 152), ('administration', 151), ('cancer', 151), ('losartan', 150), ('market', 145), ('risk', 143), ('last', 141), ('pharma', 138), ('recalling', 138), ('news', 136), ('impurity', 136), ('agency', 135), ('inc', 128), ('adverse', 119), ('due', 118), ('manufactured', 116), ('levels', 114), ('cause', 113), ('pharmaceutical', 111), ('byline:', 109), ('zantac', 108), ('taking', 107), ('treatment', 103), ('according', 103), ('containing', 102), ('pharmacy', 101), ('two', 101), ('could', 100), ('bottles', 97), ('section:', 96), ('use', 95), ('heart', 95), ('made', 93), ('new', 93), ('initiated', 92), ('-', 91), ('medications', 90), ('generic', 90), ('voluntary', 89), ('distributed', 88), ('sterile', 88), ('healthcare', 88), ('july', 87), ('ltd', 87), ('medication', 87), ('since', 87), ('testing', 87), ('companies', 86), ('quality', 86), ('&', 84), ('high', 82), ('received', 81), ('year', 81), ('2018', 80), ('statement', 80), ('affected', 80), ('one', 79), ('would', 79), ('impurities', 78), ('month', 77), ('september', 76), ('october', 75), ('class', 75), ('thursday', 75), ('safety', 74)]\n"
     ]
    }
   ],
   "source": [
    "counted_toks=Counter(filtered_flat_list)\n",
    "print(counted_toks.most_common(100))"
   ]
  },
  {
   "cell_type": "markdown",
   "id": "f1aa13b9-0393-4d6d-a127-5d0d60a76da4",
   "metadata": {},
   "source": [
    "Top 50 bigrams"
   ]
  },
  {
   "cell_type": "code",
   "execution_count": 13,
   "id": "90e5a122-c9b7-435c-b09a-4e3bdbfebb88",
   "metadata": {},
   "outputs": [
    {
     "name": "stdout",
     "output_type": "stream",
     "text": [
      "[('of the', 428), ('in the', 365), ('the fda', 349), ('the us', 291), ('to the', 254), ('the recall', 205), ('all rights', 200), ('rights reserved', 199), ('the company', 189), ('recall of', 170), ('the drug', 167), ('blood pressure', 165), ('from the', 155), ('have been', 151), ('food and', 141), ('and drug', 140), ('drug administration', 139), ('in a', 135), ('lots of', 130), ('by the', 127), ('on the', 121), ('due to', 115), ('that the', 113), ('for the', 110), ('words byline:', 109), ('copyright 2019', 104), ('said the', 103), ('according to', 102), ('with the', 99), ('reserved length:', 98), ('us food', 95), ('as a', 91), ('it is', 89), ('reserved section:', 88), ('of a', 87), ('to be', 84), ('to a', 82), ('has been', 80), ('used to', 77), ('is a', 77), ('said it', 76), ('the agency', 74), ('said in', 72), ('of its', 72), ('the drugs', 71), ('at the', 69), ('and the', 69), ('voluntary recall', 67), ('the product', 66), ('found in', 66)]\n"
     ]
    }
   ],
   "source": [
    "bigrams=get_ngram_tokens(flat_list,n=2)\n",
    "count_bigrams=Counter(bigrams)\n",
    "print(count_bigrams.most_common(50))"
   ]
  },
  {
   "cell_type": "markdown",
   "id": "0e785b78-031c-46d5-be9b-cd5f66c68e00",
   "metadata": {},
   "source": [
    "Top 50 trigrams"
   ]
  },
  {
   "cell_type": "code",
   "execution_count": 14,
   "id": "bc88a408-91d6-45fb-a8f7-ac50d9441a3c",
   "metadata": {},
   "outputs": [
    {
     "name": "stdout",
     "output_type": "stream",
     "text": [
      "[('all rights reserved', 199), ('food and drug', 140), ('and drug administration', 134), ('rights reserved length:', 98), ('us food and', 93), ('rights reserved section:', 88), ('the us food', 85), ('in the us', 81), ('of the drug', 58), ('the us market', 54), ('used to treat', 52), ('adverse health consequences', 52), ('high blood pressure', 52), ('according to the', 52), ('from the us', 47), ('the fda said', 46), ('in a statement', 45), ('inc all rights', 44), ('the presence of', 43), ('voluntary recall of', 41), ('said in a', 41), ('the company said', 40), ('trace amounts of', 39), ('blood pressure and', 38), ('of blood pressure', 36), ('the united states', 33), ('drug administration (fda)', 31), ('use of or', 31), ('of or exposure', 31), ('or exposure to', 31), ('lots of losartan', 31), ('losartan potassium tablets', 29), ('global data point', 29), ('ltd all rights', 29), ('of losartan potassium', 29), ('have been recalled', 29), ('are being recalled', 28), ('the food and', 28), ('the fda has', 28), ('the treatment of', 27), ('exposure to a', 26), ('to a violative', 26), ('a violative product', 26), ('angiotensin ii receptor', 26), ('intended to be', 25), ('health consequences or', 25), ('doctor or pharmacist', 25), ('a voluntary recall', 24), ('to be sterile', 24), ('the risk of', 24)]\n"
     ]
    }
   ],
   "source": [
    "trigrams=get_ngram_tokens(flat_list,n=3)\n",
    "count_tri=Counter(trigrams)\n",
    "print(count_tri.most_common(50))"
   ]
  },
  {
   "cell_type": "markdown",
   "id": "be9be79c-b4db-43fe-b025-7a92616973c4",
   "metadata": {},
   "source": [
    "Frequency List of Top 100 Words \n",
    "* \"Valsartan\" (249), \"losartan\" (150), and \"ranitidine\" (152) highlight specific drugs central to major controversies and recalls\n",
    "* \"Patients\" (340), \"health\" (308), and \"risk\" (143) reflect a strong focus on public health and safety concerns\n",
    "* \"NDMA\" (155) and \"impurity\" (136) point to increased scrutiny on manufacturing processes and contamination issues\n",
    "* \"Manufacturing\" (162), \"manufactured\" (116), and \"quality\" (86) show a growing emphasis on production standards and failures\n",
    "* \"Food\" (179), \"administration\" (151), and \"agency\" (135) show the FDA's important role in regulating and addressing crises\n",
    "\n",
    "Top 50 Bigrams \n",
    "* \"Blood pressure\" and \"lots of\" point to specific health conditions and manufacturing issues central to product recalls\n",
    "* \"The company\" and \"said the\" emphasize corporate statements and media framing of events\n",
    "* \"Due to,\" \"have been,\" and \"found in\" shows contamination risk and increased transparency\n",
    "* \"The product\" and \"the drugs\" reinforce the focus on specific pharmaceutical items and their impact\n",
    "\n",
    "Top 50 Trigrams\n",
    "* \"All rights reserved\" and related phrases reflect the formal, legal language typical of structured reporting\n",
    "* \"US food and\" and \"the US food\" highlight the focus on regulatory efforts specific to the United States\n",
    "* \"Adverse health consequences\" and \"high blood pressure\" link to key health risks associated with recalled drugs\n",
    "* \"The company said\" and \"said in a statement\" reflect a heavy reliance on corporate communication and public statements\n",
    "* \"Voluntary recall of\" and \"are being recalled\" show recalls being framed as proactive measures by companies\n",
    "* \"Trace amounts of\" and \"the presence of\" show manufacturing flaws\n",
    "* \"Exposure to a\" and \"to a violative product\" point to risks identified in products that failed regulatory standards\n",
    "\n",
    "\n",
    "## Context Analyses (KWIC):"
   ]
  },
  {
   "cell_type": "code",
   "execution_count": 15,
   "id": "a2247b18-fce7-46cb-81d3-805df7777236",
   "metadata": {},
   "outputs": [],
   "source": [
    "jj_words=['showed','safety','responsible','trust', 'trusted','forgiveness','consumer','example','rectification','sympathy']"
   ]
  },
  {
   "cell_type": "code",
   "execution_count": 19,
   "id": "f64da0e9-e0dd-417d-a999-4d6d49979533",
   "metadata": {},
   "outputs": [
    {
     "data": {
      "text/plain": [
       "152"
      ]
     },
     "execution_count": 19,
     "metadata": {},
     "output_type": "execute_result"
    }
   ],
   "source": [
    "words_10s=[]\n",
    "for word in filtered_flat_list:\n",
    "    if word in jj_words:\n",
    "        words_10s.append(word)\n",
    "\n",
    "len(words_10s)"
   ]
  },
  {
   "cell_type": "code",
   "execution_count": 21,
   "id": "6c374e3d-b8f9-466b-a6b1-c7f536416b94",
   "metadata": {},
   "outputs": [
    {
     "data": {
      "text/plain": [
       "Counter({'safety': 74,\n",
       "         'showed': 15,\n",
       "         'consumer': 40,\n",
       "         'example': 10,\n",
       "         'trust': 2,\n",
       "         'responsible': 11})"
      ]
     },
     "execution_count": 21,
     "metadata": {},
     "output_type": "execute_result"
    }
   ],
   "source": [
    "count_word=Counter(words_10s)\n",
    "count_word"
   ]
  },
  {
   "cell_type": "markdown",
   "id": "111ef5c7-a9f8-465e-a1c7-61add28c6ba0",
   "metadata": {},
   "source": [
    "### KWIC concordances:"
   ]
  },
  {
   "cell_type": "markdown",
   "id": "a148508a-8059-4f28-ba36-a5a2a8abdfe8",
   "metadata": {},
   "source": [
    "#### 1. Safety"
   ]
  },
  {
   "cell_type": "code",
   "execution_count": 22,
   "id": "87ca8389-0109-4fd9-9b5e-4f4985ee7c51",
   "metadata": {},
   "outputs": [
    {
     "name": "stdout",
     "output_type": "stream",
     "text": [
      "                   last month they were reviewing the  safety  of ranitidine after online pharmacy valisure\n",
      "                   last month they were reviewing the  safety  of ranitidine after online pharmacy valisure\n",
      "      european medicines agency determines the drug’s  safety  the authorities said patients who regularly\n",
      "                    week said they were reviewing the  safety  of ranitidineafter they found traces of\n",
      "               sandra eskin project director for food  safety  at pew charitable trusts explained in\n",
      "interpretation however undermines consumer health and  safety  and should be changed by legislation\n",
      "                          updated in 2011 by the food  safety  modernization act which gave fda authority\n",
      "                        the problem she said the food  safety  project director spent much of her\n",
      "               the recall pending confirmation of the  safety  risk fda director general nela charade\n",
      "               sandra eskin project director for food  safety  at pew charitable trusts explained in\n",
      "interpretation however undermines consumer health and  safety  and should be changed by legislation\n",
      "                          updated in 2011 by the food  safety  modernization act which gave fda authority\n",
      "                        the problem she said the food  safety  project director spent much of her\n",
      "               the recall pending confirmation of the  safety  risk fda director general nela charade\n",
      "                     its commitment to the health and  safety  of patients it added published by\n",
      "        for their partnership in improving healthcare  safety  measures for countless patients and seniors\n",
      "            action is precautionary to ensure patient  safety  and advises patients to continue taking\n",
      "                           and the us in conducting a  safety  review of medicines containing zhejiang huahai's\n",
      "                         and collect more data on the  safety  of valsartan-containing medicines as it becomes\n",
      "                           and the us in conducting a  safety  review of medicines containing zhejiang huahai's\n",
      "                         and collect more data on the  safety  of valsartan-containing medicines as it becomes\n",
      "                           and the us in conducting a  safety  review of medicines containing zhejiang huahai's\n",
      "                         and collect more data on the  safety  of valsartan-containing medicines as it becomes\n",
      "                           and the us in conducting a  safety  review of medicines containing zhejiang huahai's\n",
      "                         and collect more data on the  safety  of valsartan-containing medicines as it becomes\n",
      "                          to stay on the market? drug  safety  questions arose again this week as\n",
      "               need better criteria for weighing drug  safety  he said it has asked a\n",
      "                           said dr brian strom a drug  safety  expert at the university of pennsylvania\n",
      "                            he is a longtime fda drug  safety  adviser who has consulted for takeda\n",
      "        for their partnership in improving healthcare  safety  measures for countless patients and seniors\n",
      "                     its commitment to the health and  safety  of patients it added published by\n",
      "                   committed to the better health and  safety  of our patients he said several\n",
      "        for their partnership in improving healthcare  safety  measures for countless patients and seniors\n",
      "               legislation imposing new rules on food  safety  would give regulators mandatory recall authority\n",
      "                    through the mouth to pending food  safety  legislation that includes recall authority so\n",
      "                   committed to the better health and  safety  of our patients he said several\n",
      "                 continue to meet the highest quality  safety  and quality standards the fda says\n",
      "                   committed to the better health and  safety  of our patients he said several\n",
      "                 specific companies does not meet our  safety  standards this is why weve asked\n",
      "                    the public health by assuring the  safety  effectiveness and security of human and\n",
      "                   agency also is responsible for the  safety  and security of our nation's food\n",
      "                 specific companies does not meet our  safety  standardsthis is why we've asked these\n",
      "           regulatory agency (mhra) which polices the  safety  of drugs in the uk issued\n",
      "                said they are still investigating the  safety  of other medicines containing ranitidine which\n",
      "              is precautionary the mhra takes patient  safety  very seriously patients should keep taking\n",
      "       announcement sparked an investigation into the  safety  of ranitidine by the european medicines\n",
      "           regulatory agency (mhra) which polices the  safety  of drugs in the uk issued\n",
      "                said they are still investigating the  safety  of other medicines containing ranitidine which\n",
      "              is precautionary the mhra takes patient  safety  very seriously 'patients should keep taking\n",
      "       announcement sparked an investigation into the  safety  of ranitidine by the european medicines\n",
      "                 continue to meet the highest quality  safety  and quality standards ndma and two\n",
      "                     have on our patients and patient  safety  is our highest priority moses lake\n",
      "                 continue to meet the highest quality  safety  and quality standards ndma and two\n",
      "                 continue to meet the highest quality  safety  and quality standards ndma and two\n",
      "                       no evidence of risk to patient  safety  from the products currently available in\n",
      "                 continue to meet the highest quality  safety  and quality standards ndma and two\n",
      "                 continue to meet the highest quality  safety  and quality standards ndma and two\n",
      "                 continue to meet the highest quality  safety  and quality standards ndma and two\n",
      "                    the public health by assuring the  safety  effectiveness and security of human and\n",
      "                   agency also is responsible for the  safety  and security of our nation's food\n",
      "                    from these three batches it added  safety  issues or toxicity is generally accepted\n",
      "                   last month they were reviewing the  safety  of ranitidine after online pharmacy valisure\n",
      "                        shown by fda to guarantee the  safety  of patients across the country and\n",
      "                        shown by fda to guarantee the  safety  of patients across the country and\n",
      "                 continue to meet the highest quality  safety  and quality standards ndma and two\n",
      "                       no evidence of risk to patient  safety  from the products currently available in\n",
      "          food and drug administration concerns about  safety  this is the second compounding pharmacy\n",
      "            typically inhaled through a nebulizer for  safety  concerns however the ohio-based company said\n",
      "                     patients can rely on the quality  safety  and efficacy of all medicines no\n",
      "        bottles of prescription drugs over children's  safety  dpa-afx international profeed august 30 2019\n",
      "    products were recalled recently citing children's  safety  last week piping rock health products\n",
      "                    the public health by assuring the  safety  effectiveness and security of human and\n",
      "                   agency also is responsible for the  safety  and security of our nation's food\n",
      "           pharmacy supervisor at medication policy &  safety  at uc davis health system who\n"
     ]
    }
   ],
   "source": [
    "safety=make_kwic('safety',flat_list,win=6)\n",
    "print_kwic(sort_kwic(safety))"
   ]
  },
  {
   "cell_type": "markdown",
   "id": "e7bdb29a-0b36-433b-8c53-c01e55b687c8",
   "metadata": {},
   "source": [
    "#### 2. Example"
   ]
  },
  {
   "cell_type": "code",
   "execution_count": 23,
   "id": "4d403f39-06ca-40ab-b9ad-6c34880a279d",
   "metadata": {},
   "outputs": [
    {
     "name": "stdout",
     "output_type": "stream",
     "text": [
      "         definition of a dietary supplement for  example  this would extend to a supplement\n",
      "sexual enhancement and athletic performance for  example  in january an fda analysis of\n",
      "         definition of a dietary supplement for  example  this would extend to a supplement\n",
      "sexual enhancement and athletic performance for  example  in january an fda analysis of\n",
      "              are accepted for cancer drugs for  example  but not for an allergy drug\n",
      "                october and natpara is just one  example  of a growing list of drugs\n",
      "             risk of developing the disease for  example  a daily dose of valsartan may\n",
      "                     a good state of repair for  example  on september 8 2014 we observed\n",
      "                      best to make the drug for  example  detroit-based caraco pharmaceutical laboratories issued four\n",
      "                     a good state of repair for  example  on september 8 2014 we observed\n"
     ]
    }
   ],
   "source": [
    "example=make_kwic('example',flat_list,win=6)\n",
    "print_kwic(sort_kwic(example))"
   ]
  },
  {
   "cell_type": "markdown",
   "id": "89b8078a-c1ea-480f-baf9-87006be84ff8",
   "metadata": {},
   "source": [
    "#### 3. Showed"
   ]
  },
  {
   "cell_type": "code",
   "execution_count": 24,
   "id": "fc8ee37d-dd59-46ab-93e2-3f696ea0eed2",
   "metadata": {},
   "outputs": [
    {
     "name": "stdout",
     "output_type": "stream",
     "text": [
      "                                                                               fda last week tests on animals  showed  that a particular substance ndma had\n",
      "                                                                        of these drugs the contaminants first  showed  up in drugs that contained valsartan\n",
      "                                                                        of these drugs the contaminants first  showed  up in drugs that contained valsartan\n",
      "                                                                 branded and generic ranitidine products that  showed  some versions of the over-the-counter medicine\n",
      "                                                                 branded and generic ranitidine products that  showed  some versions of the over-the-counter medicine\n",
      "https://wwwfdagov/drugs/drug-safety-and-availability/laboratory-tests-ranitidine ) on ranitidine products and  showed  that some versions of the drug\n",
      "https://wwwfdagov/drugs/drug-safety-and-availability/laboratory-tests-ranitidine ) on ranitidine products and  showed  that some versions of the drug\n",
      "                                                                      the weight loss supplement golean detox  showed  the product contained sibutramine and phenolphthalein\n",
      "                                                                      the weight loss supplement golean detox  showed  the product contained sibutramine and phenolphthalein\n",
      "                                                                          than 5000 patients taking the drugs  showed  they were not more likely to\n",
      "                                                                          than 5000 patients taking the drugs  showed  they were not more likely to\n",
      "                                                                               for up to four years estimates  showed  that nearly two million people were\n",
      "                                                                           calcium gluconate made by the firm  showed  growth of bacteria of the rhodococcus\n",
      "                                                                          gas stations where an earlier study  showed  most people purchase supplements said cohen\n",
      "                                                                       pregnancy test before x-rays are taken  showed  fowler was pregnant and that both\n"
     ]
    }
   ],
   "source": [
    "showed=make_kwic('showed',flat_list,win=6)\n",
    "print_kwic(sort_kwic(showed))"
   ]
  },
  {
   "cell_type": "markdown",
   "id": "1e7c674f-405f-4c67-b0b9-caddb8af28a5",
   "metadata": {},
   "source": [
    "#### 4. Consumer"
   ]
  },
  {
   "cell_type": "code",
   "execution_count": 25,
   "id": "56c4e230-fbeb-4b98-a9da-7107a0d47f5d",
   "metadata": {},
   "outputs": [
    {
     "name": "stdout",
     "output_type": "stream",
     "text": [
      "                       for treating blood pressure to the  consumer  level this is an expansion of\n",
      "        potassium/ hydrochlorothiazide tablets usp to the  consumer  level due to the presence of\n",
      "                  health threats according to adam garber  consumer  watchdog at us pirgthe agency 'should\n",
      "                 for over-the-counter products and at the  consumer  level for prescription products of all\n",
      "                      it was earlier revealed that mcneil  consumer  health care was recalling 21 over\n",
      "                          to a product recall that mcneil  consumer  health care originally announced on january\n",
      "                    on january 15 was initiated following  consumer  complaints of a musty or mouldy\n",
      "          violations including the failure to investigate  consumer  complaints and poor quality-control procedures that\n",
      "                                      50 mg and 100 mg to  consumer  level in united states (us) as\n",
      "                                      50 mg and 100 mg to  consumer  level due to detection of an\n",
      "losartan potassium/hydrochlorothiazide tablets usp to the  consumer  level due to the detection of\n",
      "                          fda's move comes as a prominent  consumer  group raises concerns that fda is\n",
      "          her blog this interpretation however undermines  consumer  health and safety and should be\n",
      "                          fda's move comes as a prominent  consumer  group raises concerns that fda is\n",
      "          her blog this interpretation however undermines  consumer  health and safety and should be\n",
      "                      classification the recall is at the  consumer  level and torrent is only recalling\n",
      "                      cause of the problem and addressing  consumer  complaints has not been satisfactory last\n",
      "           potassium / hydrochlorothiazide tablets to the  consumer  level due to the detection of\n",
      "                          their health in danger this new  consumer  protection law will put the onus\n",
      "                    tenure she managed the credit union's  consumer  lending mortgage lending asset recovery and\n",
      "               and hydrochlorothiazide tablets usp to the  consumer  level due in the us to\n",
      "     irbesartan hydrochlorothiazide (hctz) tablets to the  consumer  level in the us due to\n",
      "                                     usp in the us to the  consumer  level due to the detection of\n",
      "                          2018) a voluntary recall to the  consumer  level of select lots of valsartan-containing\n",
      "                          their health in danger this new  consumer  protection law will put the onus\n",
      "             the information the drug manufacturer mcneil  consumer  healthcare products of johnson & johnson\n",
      "                 the recall following an investigation of  consumer  reports of an unusual moldy musty\n",
      "                  said based on this investigation mcneil  consumer  healthcare has determined that the reported\n",
      "                          their health in danger this new  consumer  protection law will put the onus\n",
      "                        a johnson and johnson unit mcneil  consumer  healthcare last month recalled 136 million\n",
      "                      chairman of the johnson and johnson  consumer  group said the fda was informed\n",
      "                       issued the voluntary recall to the  consumer  level for sublots of infection fighter\n",
      "                       issued the voluntary recall to the  consumer  level for sublots of infection fighter\n",
      "                     gill editor of prescription drugs at  consumer  reports she also expressed concern that\n",
      "                     tylenol and other products by mcneil  consumer  healthcare a unit of johnson &\n",
      "                 words byline: riteshni singh body mcneil  consumer  healthcare has recalled its 21 over-the-counter\n",
      "                          to a product recall that mcneil  consumer  healthcare originally announced on january 15\n",
      "                    on january 15 was initiated following  consumer  complaints of a musty or mouldy\n",
      "                     using the product and contact mcneil  consumer  healthcare for instructions on a refund\n",
      "              investigators expect to receive from mcneil  consumer  healthcare a plan for the drug\n"
     ]
    }
   ],
   "source": [
    "consumer=make_kwic('consumer',flat_list,win=6)\n",
    "print_kwic(sort_kwic(consumer))"
   ]
  },
  {
   "cell_type": "markdown",
   "id": "dbf11234-aabc-48bb-9476-c4eaa3858b31",
   "metadata": {},
   "source": [
    "#### 5. Responsible"
   ]
  },
  {
   "cell_type": "code",
   "execution_count": 26,
   "id": "86ded4aa-7934-4a06-ad9f-e41ef2c33444",
   "metadata": {},
   "outputs": [
    {
     "name": "stdout",
     "output_type": "stream",
     "text": [
      "                      products for human use which is  responsible  for probing concerns over patient medicines\n",
      "            into whether the contaminated medicine is  responsible  for any infant deaths although the\n",
      "                   medical devices the agency also is  responsible  for the safety and security of\n",
      "                      products for human use which is  responsible  for probing concerns over patient medicines\n",
      "                   medical devices the agency also is  responsible  for the safety and security of\n",
      "                      products for human use which is  responsible  for probing concerns over patient medicinesits\n",
      "                      products for human use which is  responsible  for probing concerns over patient medicines\n",
      "supplement manufacturers and distributors are legally  responsible  for marketing a safe product that\n",
      "          potent these pharmaceuticals are cohen said  responsible  manufacturers and marketers of dietary supplements\n",
      "                           and ceo of the council for  responsible  nutrition in washington dc a dietary\n",
      "                   medical devices the agency also is  responsible  for the safety and security of\n"
     ]
    }
   ],
   "source": [
    "responsible=make_kwic('responsible',flat_list,win=6)\n",
    "print_kwic(sort_kwic(responsible))"
   ]
  },
  {
   "cell_type": "markdown",
   "id": "2f07419b-7cf5-451e-8866-ae632674794f",
   "metadata": {},
   "source": [
    "#### 6. Trust"
   ]
  },
  {
   "cell_type": "code",
   "execution_count": 27,
   "id": "f480493b-fbc7-4893-81a6-af90206dd30d",
   "metadata": {},
   "outputs": [
    {
     "name": "stdout",
     "output_type": "stream",
     "text": [
      "alexander smith our standards:the thomson reuters  trust  principles load-date: february 11 2019 affymax\n",
      "                           all want to be able to  trust  that what we are dispensing is\n"
     ]
    }
   ],
   "source": [
    "trust=make_kwic('trust',flat_list,win=6)\n",
    "print_kwic(sort_kwic(trust))"
   ]
  },
  {
   "cell_type": "markdown",
   "id": "68f2a455-f047-436e-a84c-e862ad71e780",
   "metadata": {},
   "source": [
    "### Observations:\n",
    "\n",
    "KWIC Analysis of \"Safety\"\n",
    "* Commonly mentioned in connection to drug recalls and reviews, highlighting its importance in product evaluations\n",
    "* Frequently associated with phrases like \"patient safety\" and \"food safety,\" showing a focus on protecting public health\n",
    "* Appears in discussions of regulatory actions, such as \"safety review\" and \"safety standards,\" underscoring the FDA’s role\n",
    "* Often tied to specific health risks, including contamination and adverse effects, emphasizing the stakes for consumers\n",
    "* Used in proactive contexts like \"commitment to health and safety,\" showing companies’ efforts to rebuild trust\n",
    "* Shows up in legislation contexts, such as \"food safety modernization act,\" highlighting evolving regulatory frameworks\n",
    "* Phrases like \"no evidence of risk to safety\" appear to reassure the public regarding product concerns\n",
    "* Frequently appears with terms like \"quality standards\" and \"effectiveness,\" tying safety to broader product assurances\n",
    "\n",
    "\n",
    "KWIC Analysis of \"Example\"\n",
    "* Often used to illustrate specific cases or scenarios, such as dietary supplements or cancer drugs\n",
    "* Appears in contexts highlighting comparisons, like differences in drug risks or standards\n",
    "* Provides context for explaining FDA actions or pharmaceutical issues, such as recalls or manufacturing lapses\n",
    "* Helps clarify broader points with specific instances, like \"a growing list of drugs\" or observed conditions in facilities\n",
    "* Frequently associated with health-related impacts or regulatory evaluations, making it a tool for better understanding key issues\n",
    "\n",
    "KWIC Analysis of \"Showed\" \n",
    "* Primarily used to describe study or test results, emphasizing evidence-based findings in drug safety and product recalls\n",
    "* Highlights contamination and safety risks, such as \"some versions of the drug showed NDMA\" or \"growth of bacteria\"\n",
    "* Demonstrates the role of scientific studies in regulatory actions, with results like \"the product contained sibutramine and phenolphthalein\"\n",
    "* Reflects large-scale health impacts with phrases like \"nearly two million people were affected\"\n",
    "* Similar to earlier decades, \"showed\" continues to be associated with health risks and product evaluations, but the focus shifts toward more specific substances (e.g., valsartan, ranitidine) and broader population-level data\n",
    "* Unlike earlier periods, there is an increasing emphasis on specific contaminants like NDMA and their widespread detection in various products\n",
    "* Continues to underline the critical role of test results in shaping FDA decisions and public health advisories\n",
    "\n",
    "KWIC Analysis of \"Consumer\" \n",
    "* Frequently associated with \"consumer level,\" indicating recalls directly affecting consumers rather than higher supply chain levels\n",
    "* Often linked to complaints or issues such as \"consumer complaints of a musty or moldy smell,\" highlighting consumer feedback's role in triggering recalls\n",
    "* Mentions of \"consumer health\" and \"consumer safety\" emphasize the direct impact of products on public well-being\n",
    "* Connected to regulatory actions and new laws like \"consumer protection law,\" showing evolving efforts to safeguard consumers\n",
    "* Appears frequently in discussions of product recalls, particularly involving major brands like  McNeil Consumer Healthcare and Johnson & Johnson\n",
    "* Highlights failures in quality control and the importance of addressing consumer concerns in maintaining trust\n",
    "* Demonstrates how consumer watchdog groups and reports influence regulatory and corporate actions\n",
    "* Reinforces the growing role of transparency and accountability in consumer-facing communications and recall decisions\n",
    "\n",
    "KWIC Analysis of \"Responsible\"\n",
    "* Frequently tied to regulatory oversight, such as the FDA being \"responsible for the safety and security\" of medicines and medical devices\n",
    "* Used in contexts highlighting accountability, such as supplement manufacturers being \"legally responsible for marketing a safe product\"\n",
    "* Reflects the role of industry stakeholders, with mentions of \"responsible manufacturers and marketers\" emphasizing corporate duty\n",
    "* Associated with leadership and advocacy, such as the \"CEO of the council for responsible nutrition,\" demonstrating a focus on public health and industry standards\n",
    "* Often linked to investigations into contamination or patient safety concerns, underscoring the importance of identifying accountability in crises\n",
    "\n",
    "KWIC Analysis of \"Trust\" \n",
    "* Appears in the context of credibility, with references to \"trust principles,\" indicating the importance of maintaining journalistic or organizational standards\n",
    "* Highlights consumer confidence, as seen in phrases like \"trust that what we are dispensing,\" showing the critical need for reliable and safe products\n",
    "* Demonstrates a focus on rebuilding or maintaining public trust, particularly in industries dealing with health and safety concerns\n",
    "\n",
    "\n",
    "## Sentiment Analysis: VADER Scores"
   ]
  },
  {
   "cell_type": "code",
   "execution_count": 34,
   "id": "25b4cb93-0036-48bd-a99a-efbbfa389516",
   "metadata": {},
   "outputs": [],
   "source": [
    "### Set up:\n",
    "\n",
    "import os\n",
    "import re\n",
    "import csv\n",
    "import pandas as pd\n",
    "import numpy as np\n",
    "import matplotlib.pyplot as plt\n",
    "\n",
    "from nltk import tokenize\n",
    "from nltk.sentiment.vader import SentimentIntensityAnalyzer"
   ]
  },
  {
   "cell_type": "code",
   "execution_count": 35,
   "id": "735fd3f9-6324-4dcb-a109-2e0875d03e44",
   "metadata": {},
   "outputs": [],
   "source": [
    "### Using VADER\n",
    "sid = SentimentIntensityAnalyzer()\n",
    "\n",
    "### text set up\n",
    "tens_text=no_toc_text.lower().replace('\\n','')"
   ]
  },
  {
   "cell_type": "code",
   "execution_count": 37,
   "id": "7345ac88-5dca-4d33-ac90-8c1c9ce25508",
   "metadata": {},
   "outputs": [
    {
     "data": {
      "text/plain": [
       "{'neg': 0.072, 'neu': 0.869, 'pos': 0.059, 'compound': -1.0}"
      ]
     },
     "execution_count": 37,
     "metadata": {},
     "output_type": "execute_result"
    }
   ],
   "source": [
    "sid.polarity_scores(tens_text)"
   ]
  },
  {
   "cell_type": "markdown",
   "id": "dde9cfef-e567-4140-9877-4b243ecb96b9",
   "metadata": {},
   "source": [
    "### Observations: negative compound score, lowest positive sentiment score of all corpora"
   ]
  },
  {
   "cell_type": "code",
   "execution_count": null,
   "id": "38e25e4f-3782-405c-8ff9-01f2e26ff2a7",
   "metadata": {},
   "outputs": [],
   "source": []
  }
 ],
 "metadata": {
  "citation-manager": {
   "items": {}
  },
  "kernelspec": {
   "display_name": "Python 3.8",
   "language": "python",
   "name": "python3"
  },
  "language_info": {
   "codemirror_mode": {
    "name": "ipython",
    "version": 3
   },
   "file_extension": ".py",
   "mimetype": "text/x-python",
   "name": "python",
   "nbconvert_exporter": "python",
   "pygments_lexer": "ipython3",
   "version": "3.8.8"
  }
 },
 "nbformat": 4,
 "nbformat_minor": 5
}
