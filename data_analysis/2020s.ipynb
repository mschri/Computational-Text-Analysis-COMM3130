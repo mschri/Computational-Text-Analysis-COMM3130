{
 "cells": [
  {
   "cell_type": "markdown",
   "id": "ceb99f8d-87fb-41c0-8cac-3d281887b01c",
   "metadata": {},
   "source": [
    "Read text file:"
   ]
  },
  {
   "cell_type": "code",
   "execution_count": 29,
   "id": "6a9cd3bb-2e0c-40db-a0fa-617e115bc4b5",
   "metadata": {},
   "outputs": [],
   "source": [
    "import os\n",
    "os.chdir('../data')\n",
    "text = open('twenties.txt').read()"
   ]
  },
  {
   "cell_type": "markdown",
   "id": "5ceffb78-8759-49f2-9ae6-8def9c4ade63",
   "metadata": {},
   "source": [
    "Functions:"
   ]
  },
  {
   "cell_type": "code",
   "execution_count": 30,
   "id": "cbf4d415-be83-486d-8c06-72cfbfaf5f95",
   "metadata": {},
   "outputs": [],
   "source": [
    "from collections import Counter\n",
    "import os\n",
    "import string\n",
    "import json\n",
    "import matplotlib.pyplot as plt\n",
    "from IPython.display import Image"
   ]
  },
  {
   "cell_type": "code",
   "execution_count": 31,
   "id": "5f548d3c-ef76-4881-a512-2bff52bcd03b",
   "metadata": {},
   "outputs": [],
   "source": [
    "import os\n",
    "os.chdir('../data_analysis')\n",
    "%run functions.ipynb"
   ]
  },
  {
   "cell_type": "markdown",
   "id": "778ad090-6e25-4044-86ee-b73eb76805a6",
   "metadata": {},
   "source": [
    "### 2020s corpus set up:"
   ]
  },
  {
   "cell_type": "code",
   "execution_count": 32,
   "id": "115a129f-f0a0-4b23-a2a2-40dfa442e1cf",
   "metadata": {},
   "outputs": [
    {
     "data": {
      "text/plain": [
       "15370"
      ]
     },
     "execution_count": 32,
     "metadata": {},
     "output_type": "execute_result"
    }
   ],
   "source": [
    "text.index('200. Pfizer recalling popular stop-smoking drug Chantix over impurities')"
   ]
  },
  {
   "cell_type": "code",
   "execution_count": 33,
   "id": "1fef697a-abef-4a85-9abd-e6422ec1896e",
   "metadata": {},
   "outputs": [],
   "source": [
    "no_toc_text=text[15370:]"
   ]
  },
  {
   "cell_type": "code",
   "execution_count": 34,
   "id": "abb30706-5242-43db-a822-6daa4cbc1668",
   "metadata": {},
   "outputs": [
    {
     "data": {
      "text/plain": [
       "201"
      ]
     },
     "execution_count": 34,
     "metadata": {},
     "output_type": "execute_result"
    }
   ],
   "source": [
    "doc_list=no_toc_text.split('End of Document')\n",
    "len(doc_list)"
   ]
  },
  {
   "cell_type": "code",
   "execution_count": 8,
   "id": "1a77ba0c-70a4-4c86-85aa-3e54066ff8c0",
   "metadata": {},
   "outputs": [],
   "source": [
    "token_docs=[]\n",
    "for doc in doc_list:\n",
    "    doc_tokens=tokenize(doc,lowercase=True,strip_chars='!,.\"')\n",
    "    token_docs.append(doc_tokens)"
   ]
  },
  {
   "cell_type": "code",
   "execution_count": 9,
   "id": "db76ba90-fb27-41f7-93bf-b6a1d5e13f75",
   "metadata": {},
   "outputs": [
    {
     "data": {
      "text/plain": [
       "79678"
      ]
     },
     "execution_count": 9,
     "metadata": {},
     "output_type": "execute_result"
    }
   ],
   "source": [
    "flat_list=[]\n",
    "for sublist in token_docs:\n",
    "    flat_list.extend(sublist)\n",
    "\n",
    "len(flat_list)"
   ]
  },
  {
   "cell_type": "markdown",
   "id": "e769c937-c66b-498f-9fce-016de3fe49ab",
   "metadata": {},
   "source": [
    "Filter out stop words:"
   ]
  },
  {
   "cell_type": "code",
   "execution_count": 10,
   "id": "f70ae70e-01af-4510-b996-ad89df521583",
   "metadata": {},
   "outputs": [],
   "source": [
    "from nltk.corpus import stopwords\n",
    "stoplist=stopwords.raw('english').split('\\n')"
   ]
  },
  {
   "cell_type": "code",
   "execution_count": 11,
   "id": "2cfdbca7-c77d-400d-9f9b-076f7d248829",
   "metadata": {},
   "outputs": [],
   "source": [
    "filtered_flat_list=[]\n",
    "for words in flat_list:\n",
    "    if words not in stoplist:\n",
    "        filtered_flat_list.append(words)"
   ]
  },
  {
   "cell_type": "markdown",
   "id": "f1f582f3-1a6c-4b5e-aa2e-b84a7d71609e",
   "metadata": {},
   "source": [
    "## Frequency Lists:"
   ]
  },
  {
   "cell_type": "markdown",
   "id": "4bfd2253-c1e1-46f8-8c15-a6e2d51beed7",
   "metadata": {},
   "source": [
    "Top 100 Words"
   ]
  },
  {
   "cell_type": "code",
   "execution_count": 12,
   "id": "4c1b45f1-6a2b-417e-83e6-ad28e9b860ae",
   "metadata": {},
   "outputs": [
    {
     "name": "stdout",
     "output_type": "stream",
     "text": [
      "[('drug', 822), ('recall', 706), ('products', 437), ('tablets', 437), ('said', 436), ('recalled', 436), ('fda', 420), ('us', 356), ('patients', 303), ('lots', 294), ('company', 286), ('mg', 282), ('drugs', 280), ('may', 271), ('product', 265), ('health', 245), ('copyright', 236), ('rights', 235), ('2021', 233), ('chantix', 232), ('reserved', 227), ('body', 214), ('pfizer', 208), ('lot', 201), ('risk', 201), ('recalls', 201), ('length:', 200), ('words', 200), ('inc', 197), ('load-date:', 195), ('2020', 184), ('2023', 175), ('metformin', 175), ('food', 174), ('used', 172), ('medication', 171), ('taking', 171), ('news', 157), ('distributed', 157), ('administration', 155), ('cancer', 155), ('one', 150), ('new', 149), ('recalling', 146), ('also', 146), ('hydrochloride', 143), ('pharma', 143), ('adverse', 142), ('levels', 141), ('2022', 140), ('including', 135), ('content', 130), ('blood', 126), ('-', 125), ('according', 124), ('cause', 124), ('pharmaceuticals', 122), ('related', 121), ('received', 119), ('thyroid', 119), ('due', 118), ('reports', 117), ('found', 117), ('june', 115), ('diabetes', 114), ('could', 113), ('nitrosamine', 113), ('bottles', 112), ('two', 110), ('newstex', 109), ('llc', 107), ('authority', 105), ('healthcare', 103), ('affected', 102), ('byline:', 102), ('use', 101), ('eye', 100), ('safety', 100), ('contact', 98), ('potential', 98), ('people', 98), ('containing', 97), ('2', 96), ('impurity', 96), ('ndma', 96), ('companies', 96), ('treat', 95), ('consumers', 95), ('market', 91), ('july', 91), ('agency', 91), ('dronabinol', 91), ('acceptable', 87), ('infections', 83), ('medications', 82), ('drops', 80), ('pharmaceutical', 80), ('manufacturing', 79), ('2024', 79), ('states', 79)]\n"
     ]
    }
   ],
   "source": [
    "counted_toks=Counter(filtered_flat_list)\n",
    "print(counted_toks.most_common(100))"
   ]
  },
  {
   "cell_type": "markdown",
   "id": "b658ce5b-28dd-4732-b3c8-19dace2ced9e",
   "metadata": {},
   "source": [
    "Top 50 bigrams"
   ]
  },
  {
   "cell_type": "code",
   "execution_count": 13,
   "id": "a4619667-2bc3-4963-b831-e24eeb302500",
   "metadata": {},
   "outputs": [
    {
     "name": "stdout",
     "output_type": "stream",
     "text": [
      "[('of the', 381), ('in the', 368), ('the fda', 337), ('to the', 288), ('the us', 260), ('all rights', 227), ('rights reserved', 227), ('the recall', 213), ('the company', 206), ('lots of', 182), ('and drug', 166), ('food and', 163), ('drug administration', 147), ('for the', 134), ('on the', 126), ('according to', 123), ('mg tablets', 122), ('due to', 118), ('reserved length:', 116), ('related to', 113), ('the product', 112), ('from the', 110), ('the recalled', 109), ('used to', 105), ('words byline:', 102), ('reports of', 102), ('the drug', 101), ('in a', 99), ('is recalling', 91), ('to treat', 89), ('that the', 88), ('words body', 86), ('recall of', 83), ('by the', 81), ('ziprasidone hydrochloride', 78), ('np thyroid', 78), ('said the', 76), ('the agency', 75), ('to recall', 75), ('eye drops', 74), ('adverse events', 73), ('us food', 71), ('copyright 2021', 70), ('of chantix', 70), ('were distributed', 69), ('it is', 69), ('llc all', 67), ('may be', 67), ('of a', 67), ('lot of', 66)]\n"
     ]
    }
   ],
   "source": [
    "bigrams=get_ngram_tokens(flat_list,n=2)\n",
    "count_bigrams=Counter(bigrams)\n",
    "print(count_bigrams.most_common(50))"
   ]
  },
  {
   "cell_type": "markdown",
   "id": "5bfc14b2-2da3-4857-a730-8c74fae15e25",
   "metadata": {},
   "source": [
    "Top 50 trigrams"
   ]
  },
  {
   "cell_type": "code",
   "execution_count": 14,
   "id": "b81d7e14-6b6b-4c44-b6d6-33b3a872e433",
   "metadata": {},
   "outputs": [
    {
     "name": "stdout",
     "output_type": "stream",
     "text": [
      "[('all rights reserved', 227), ('food and drug', 157), ('and drug administration', 143), ('rights reserved length:', 116), ('in the us', 97), ('according to the', 83), ('used to treat', 74), ('us food and', 70), ('llc all rights', 67), ('the us food', 66), ('reports of adverse', 61), ('the food and', 60), ('any reports of', 57), ('related to the', 54), ('rights reserved section:', 54), ('lots of chantix', 54), ('of adverse events', 53), ('type 2 diabetes', 53), ('rights reserved copyright', 52), ('inc all rights', 51), ('two lots of', 49), ('the company said', 48), ('1 mg tablets', 48), ('not received any', 47), ('received any reports', 47), ('has not received', 47), ('the fda said', 45), ('in the form', 45), ('the form of', 45), ('mg tablets and', 43), ('across the us', 43), ('the united states', 43), ('ce noticias financieras', 42), ('one lot of', 42), ('acceptable daily intake', 42), ('in water and', 41), ('distributed across the', 39), ('water and foods', 39), ('and foods including', 39), ('meats dairy products', 39), ('dairy products and', 39), ('products and vegetables', 39), ('one blister pack', 38), ('the us market', 37), ('that could cause', 36), ('content engine llc', 36), ('engine llc all', 36), ('were distributed across', 36), ('the eye drops', 36), ('in a statement', 35)]\n"
     ]
    }
   ],
   "source": [
    "trigrams=get_ngram_tokens(flat_list,n=3)\n",
    "count_tri=Counter(trigrams)\n",
    "print(count_tri.most_common(50))"
   ]
  },
  {
   "cell_type": "markdown",
   "id": "c91753e9-3799-4ef1-b154-86a0edb557d3",
   "metadata": {},
   "source": [
    "### Observations for Frequency Lists:\n",
    "\n",
    "Frequency List of Top 100 Words \n",
    "* \"Drug\" and \"recall\" remain central, continuing the focus on pharmaceutical crises\n",
    "* \"Tablets,\" \"products,\" and \"lots\" show a detailed focus on specific recalled items\n",
    "* Years like \"2021,\" \"2020,\" and \"2023\" emphasize timeliness in reporting events\n",
    "* \"Chantix,\" \"metformin,\" and \"hydrochloride\" highlight specific drugs tied to recalls, unlike broader mentions in earlier years\n",
    "* \"Patients,\" \"health,\" and \"risk\" reflect a stronger consumer health focus than in past decades\n",
    "* \"Nitrosamine\" and \"NDMA\" continue contamination concerns, which were less prominent in earlier years\n",
    "* \"Adverse,\" \"levels,\" and \"content\" signal more technical assessments compared to simpler language in the past\n",
    "* \"Pfizer\" and \"pharma\" show ongoing scrutiny of major pharmaceutical companies\n",
    "* \"Safety,\" \"potential,\" and \"affected\" highlight proactive measures addressing consumer concerns\n",
    "* Terms like \"thyroid,\" \"diabetes,\" and \"eye\" show broader health impacts compared to earlier singular crises\n",
    "\n",
    "Top 50 Bigrams \n",
    "* \"Of the\" and \"in the\" are common fillers, consistent with past decades\n",
    "* \"The FDA,\" \"food and,\" and \"drug administration\" highlight the continued regulatory focus\n",
    "* \"The recall\" and \"the recalled\" emphasize recalls as a recurring theme, similar to earlier years\n",
    "* \"Lots of\" and \"mg tablets\" show a growing focus on specific products and dosages compared to broader mentions in the past\n",
    "* \"All rights\" and \"rights reserved\" reflect formal reporting styles, consistent across decades\n",
    "* \"Due to\" and \"related to\" frame contamination issues and safety concerns, continuing the technical language trend from the 2010s\n",
    "* Mentions like \"ziprasidone hydrochloride\" and \"np thyroid\" indicate a specific focus on certain drugs, more detailed than in earlier decades\n",
    "* \"Adverse events\" and \"eye drops\" highlight diverse safety concerns, showing an expanded range of product impacts\n",
    "* \"Is recalling\" and \"to recall\" suggest a proactive stance in corporate communication compared to the reactionary tone of earlier years\n",
    "* \"Reports of\" and \"according to\" reflect a reliance on external validation and reporting, consistent with earlier periods\n",
    "\n",
    "Top 50 Trigrams \n",
    "* \"All rights reserved\" and related phrases continue to dominate, reflecting consistent legal language across decades\n",
    "* \"Food and drug\" and \"and drug administration\" highlight the FDA’s central role, similar to past years\n",
    "* \"In the US\" and \"the US food\" show a focus on geographic and regulatory specificity, aligning with recent decades\n",
    "* \"Used to treat\" and \"type 2 diabetes\" indicate a stronger emphasis on drug applications and specific conditions compared to broader references in earlier periods\n",
    "* \"Reports of adverse\" and \"adverse events\" highlight safety issues, continuing the detailed focus on health impacts seen in the 2010s\n",
    "* \"Lots of Chantix\" and \"mg tablets\" reflect the growing focus on specific drugs and dosage levels, which is more detailed than in earlier decades\n",
    "* \"Has not received any\" and \"received any reports\" suggest proactive communication about the absence of adverse events, showing a shift in corporate messaging\n",
    "* Mentions like \"acceptable daily intake\" show a trend toward precise regulatory and safety standards, which wasn’t as common in earlier years\n",
    "* \"Distributed across the US\" and \"the US market\" emphasize broader product reach and market implications, reflecting globalization and scale\n",
    "* \"The eye drops\" and \"one blister pack\" indicate expanded product categories and specificity in recalls, unlike earlier decades which focused on broader drug categories\n",
    "\n",
    "\n",
    "## Context Analyses (KWIC):"
   ]
  },
  {
   "cell_type": "code",
   "execution_count": 15,
   "id": "3a50c701-468e-4e6f-82ea-0d3be81b3c2a",
   "metadata": {},
   "outputs": [],
   "source": [
    "jj_words=['showed','safety','responsible','trust', 'trusted','forgiveness','consumer','example','rectification','sympathy']"
   ]
  },
  {
   "cell_type": "code",
   "execution_count": 16,
   "id": "263e0a45-05bb-4e75-b964-8f8326c6f56a",
   "metadata": {},
   "outputs": [
    {
     "data": {
      "text/plain": [
       "164"
      ]
     },
     "execution_count": 16,
     "metadata": {},
     "output_type": "execute_result"
    }
   ],
   "source": [
    "words_20s=[]\n",
    "for word in filtered_flat_list:\n",
    "    if word in jj_words:\n",
    "        words_20s.append(word)\n",
    "\n",
    "len(words_20s)"
   ]
  },
  {
   "cell_type": "code",
   "execution_count": 17,
   "id": "6f423c36-8ea2-4b73-8bfb-2ee3ec0d0506",
   "metadata": {},
   "outputs": [
    {
     "data": {
      "text/plain": [
       "Counter({'consumer': 39,\n",
       "         'safety': 100,\n",
       "         'showed': 11,\n",
       "         'responsible': 10,\n",
       "         'trusted': 3,\n",
       "         'trust': 1})"
      ]
     },
     "execution_count": 17,
     "metadata": {},
     "output_type": "execute_result"
    }
   ],
   "source": [
    "count_word=Counter(words_20s)\n",
    "count_word"
   ]
  },
  {
   "cell_type": "markdown",
   "id": "499815b3-f1af-4029-8bf2-c65d82183af6",
   "metadata": {},
   "source": [
    "### KWIC concordances:"
   ]
  },
  {
   "cell_type": "markdown",
   "id": "86ca011f-a53c-4fe3-9a94-03becd4c26ba",
   "metadata": {},
   "source": [
    "#### 1. Safety"
   ]
  },
  {
   "cell_type": "code",
   "execution_count": 18,
   "id": "7f34c043-653b-4974-93a7-e7cd7009600d",
   "metadata": {},
   "outputs": [
    {
     "name": "stdout",
     "output_type": "stream",
     "text": [
      "                         at endo is the quality and  safety  of our products and well-being of\n",
      "                    with the new data presented the  safety  limits were recalculated indicating that the\n",
      "                        or banned do not exceed the  safety  limits said the agency also according\n",
      "                     patients who need them and the  safety  and quality of our products is\n",
      "                    with the new data presented the  safety  limits were recalculated indicating that the\n",
      "                        or banned do not exceed the  safety  limits said the agency also according\n",
      "              of any adverse events or identifiable  safety  concerns related to the recalled product\n",
      "              of any adverse events or identifiable  safety  concerns related to the recalled product\n",
      "                      has been no impact to patient  safety  and there is no evidence of\n",
      "               that was recalled for not fulfilling  safety  requirements in its packaging the company\n",
      "                company and the us consumer product  safety  commission said on thursday the recall\n",
      "                       said there are no quality or  safety  issues nor health risks when patients\n",
      "             didn't meet the requirements for child  safety  during a company evaluation pfizer alerted\n",
      "              copyright 2023 wjw section: recalls &  safety  alerts length: 292 words byline: delaney\n",
      "            tremors despite the fda issuing several  safety  warnings on the dangers of homeopathic\n",
      "                    dose but according to the fda's  safety  notice an issue within the software's\n",
      "            tremors despite the fda issuing several  safety  warnings on the dangers of homeopathic\n",
      "            tremors despite the fda issuing several  safety  warnings on the dangers of homeopathic\n",
      "                to children the us consumer product  safety  commission said the recall involves various\n",
      "                to children the us consumer product  safety  commission said the recall involves various\n",
      "                to children the us consumer product  safety  commission said the recall involves various\n",
      "                to children the us consumer product  safety  commission said the recall involves various\n",
      "    unsafe products fda however regularly publishes  safety  alerts relating to over-the-counter medications prescription\n",
      "                 act would ensure that fda's public  safety  recalls protect all consumers by requiring\n",
      "          unsafe drug product americans' health and  safety  are at risk peters' legislation grows\n",
      "       of senator peters' legislation: ensuring the  safety  of patients in michigan hospitals has\n",
      "            for actions to continually improve drug  safety  and for additional tools to help\n",
      "                the citizenry despite the recall on  safety  concerns load-date: january 6 2024 lupin\n",
      "    unsafe products fda however regularly publishes  safety  alerts relating to over-the-counter medications prescription\n",
      "                 act would ensure that fda’s public  safety  recalls protect all consumers by requiring\n",
      "          unsafe drug product americans’ health and  safety  are at risk peters’ legislation grows\n",
      "      of senator peters’ legislation: “ensuring the  safety  of patients in michigan hospitals has\n",
      "            for actions to continually improve drug  safety  and for additional tools to help\n",
      "    unsafe products fda however regularly publishes  safety  alerts relating to over-the-counter medications prescription\n",
      "                 act would ensure that fda's public  safety  recalls protect all consumers by requiring\n",
      "          unsafe drug product americans' health and  safety  are at risk peters' legislation grows\n",
      "       of senator peters' legislation: ensuring the  safety  of patients in michigan hospitals has\n",
      "            for actions to continually improve drug  safety  and for additional tools to help\n",
      "    unsafe products fda however regularly publishes  safety  alerts relating to over-the-counter medications prescription\n",
      "                 act would ensure that fda's public  safety  recalls protect all consumers by requiring\n",
      "          unsafe drug product americans' health and  safety  are at risk peters' legislation grows\n",
      "       of senator peters' legislation: ensuring the  safety  of patients in michigan hospitals has\n",
      "            for actions to continually improve drug  safety  and for additional tools to help\n",
      "     announce strategic partnership to enhance drug  safety  and recall efficiency contify life science\n",
      "            a strategic partnership to enhance drug  safety  and recall efficiency in the pharmaceutical\n",
      "                     and set new benchmarks in drug  safety  and recall management pharmalink offers comprehensive\n",
      "      strategic partnership aimed at enhancing drug  safety  and recall efficiency in the pharmaceutical\n",
      "           a significant step towards enhancing the  safety  standards in our industry together we\n",
      "                with a shared commitment to patient  safety  and compliance this collaboration promises to\n",
      "     initiative that promises to revolutionize drug  safety  standards the pharmalink-recall results partnership is\n",
      "                      to set new benchmarks in drug  safety  and recall management further announcements regarding\n",
      "management solutions dedicated to ensuring consumer  safety  and brand preservation our advanced recall\n",
      "              places the utmost emphasis on patient  safety  and product quality at every step\n",
      "            tremors despite the fda issuing several  safety  warnings on the dangers of homeopathic\n",
      "              places the utmost emphasis on patient  safety  and product quality at every step\n",
      "  homeopathic products with significant evidence of  safety  concerns remain available to consumers across\n",
      "                 fda needs to thoroughly review the  safety  of drugs before they come to\n",
      "  homeopathic products with significant evidence of  safety  concerns remain available to consumers across\n",
      "                 fda needs to thoroughly review the  safety  of drugs before they come to\n",
      "    unsafe products fda however regularly publishes  safety  alerts relating to over-the-counter medications prescription\n",
      "                 act would ensure that fda's public  safety  recalls protect all consumers by requiring\n",
      "          unsafe drug product americans' health and  safety  are at risk peters' legislation grows\n",
      "       of senator peters' legislation: ensuring the  safety  of patients in michigan hospitals has\n",
      "            for actions to continually improve drug  safety  and for additional tools to help\n",
      "    unsafe products fda however regularly publishes  safety  alerts relating to over-the-counter medications prescription\n",
      "                 act would ensure that fda's public  safety  recalls protect all consumers by requiring\n",
      "          unsafe drug product americans' health and  safety  are at risk peters' legislation grows\n",
      "       of senator peters' legislation: ensuring the  safety  of patients in michigan hospitals has\n",
      "            for actions to continually improve drug  safety  and for additional tools to help\n",
      "            tremors despite the fda issuing several  safety  warnings on the dangers of homeopathic\n",
      "              places the utmost emphasis on patient  safety  and product quality at every step\n",
      "     announce strategic partnership to enhance drug  safety  and recall efficiency menafn - press\n",
      "      strategic partnership aimed at enhancing drug  safety  and recall efficiency in the pharmaceutical\n",
      "           a significant step towards enhancing the  safety  standards in our industry together we\n",
      "                with a shared commitment to patient  safety  and compliance this collaboration promises to\n",
      "     initiative that promises to revolutionize drug  safety  standards the pharmalink-recall results partnership is\n",
      "                      to set new benchmarks in drug  safety  and recall management further announcements regarding\n",
      "management solutions dedicated to ensuring consumer  safety  and brand preservation our advanced recall\n",
      "     announce strategic partnership to enhance drug  safety  and recall efficiency accesswire april 26\n",
      "      strategic partnership aimed at enhancing drug  safety  and recall efficiency in the pharmaceutical\n",
      "           a significant step towards enhancing the  safety  standards in our industry together we\n",
      "                with a shared commitment to patient  safety  and compliance this collaboration promises to\n",
      "     initiative that promises to revolutionize drug  safety  standards the pharmalink-recall results partnership is\n",
      "                      to set new benchmarks in drug  safety  and recall management further announcements regarding\n",
      "management solutions dedicated to ensuring consumer  safety  and brand preservation our advanced recall\n",
      "                        study to look at the drug's  safety  profile the fda said thursday that\n",
      "                        study to look at the drug's  safety  profile the fda said thursday that\n",
      "                            term use the drug has a  safety  profile that has been established over\n",
      "            the products unapproved drugs for which  safety  and efficacy have not been established\n",
      "                to tianeptine to the fda's medwatch  safety  information and adverse event reporting program\n",
      "             habits is being recalled over consumer  safety  concerns pfizer has announced a voluntary\n",
      "             habits is being recalled over consumer  safety  concerns pfizer has announced a voluntary\n",
      "             habits is being recalled over consumer  safety  concerns pfizer has announced a voluntary\n",
      "             habits is being recalled over consumer  safety  concerns pfizer has announced a voluntary\n",
      "                            term use the drug has a  safety  profile that has been established over\n",
      "             habits is being recalled over consumer  safety  concerns pfizer has announced a voluntary\n",
      "             habits is being recalled over consumer  safety  concerns pfizer has announced a voluntary\n",
      "  homeopathic products with significant evidence of  safety  concerns remain available to consumers across\n",
      "                 fda needs to thoroughly review the  safety  of drugs before they come to\n",
      "                            term use the drug has a  safety  profile that has been established over\n"
     ]
    }
   ],
   "source": [
    "safety=make_kwic('safety',flat_list,win=6)\n",
    "print_kwic(sort_kwic(safety))"
   ]
  },
  {
   "cell_type": "markdown",
   "id": "62e65fe4-4975-47b5-925d-12d54801f452",
   "metadata": {},
   "source": [
    "#### 2. Consumer"
   ]
  },
  {
   "cell_type": "code",
   "execution_count": 22,
   "id": "2692fe39-f6cc-436b-afa4-69b67b062b8e",
   "metadata": {},
   "outputs": [
    {
     "name": "stdout",
     "output_type": "stream",
     "text": [
      "              of billions” she said “gsk’s recent  consumer  healthcare spin-off haleon is expected to\n",
      "                              drug • if you are a  consumer  that may have taken an incorrect\n",
      "               of atovaquone usp 750mg/5ml at the  consumer  level the drugs were packaged in\n",
      "               of atovaquone usp 750mg/5ml at the  consumer  level the drugs were packaged in\n",
      "                       ml single dose vial to the  consumer  level with an expiration date of\n",
      "                       ml single dose vial to the  consumer  level with an expiration date of\n",
      "                 packaging the company and the us  consumer  product safety commission said on thursday\n",
      "                  of poisoning to children the us  consumer  product safety commission said the recall\n",
      "                  of poisoning to children the us  consumer  product safety commission said the recall\n",
      "                  of poisoning to children the us  consumer  product safety commission said the recall\n",
      "                  of poisoning to children the us  consumer  product safety commission said the recall\n",
      "             issued last year that identified the  consumer  costs public health risks and national\n",
      "             issued last year that identified the  consumer  costs public health risks and national\n",
      "             issued last year that identified the  consumer  costs public health risks and national\n",
      "             issued last year that identified the  consumer  costs public health risks and national\n",
      "                           across the us due to a  consumer  complaint of 50mg tablets being present\n",
      "          management to enhance public health and  consumer  welfare the collaboration with pharmalink represents\n",
      "recall management solutions dedicated to ensuring  consumer  safety and brand preservation our advanced\n",
      "    we deliver tailored solutions that prioritize  consumer  welfare while safeguarding brand reputation businesses\n",
      "               2020 and august 2021 any remaining  consumer  stock should be quarantined and sent\n",
      "             issued last year that identified the  consumer  costs public health risks and national\n",
      "             issued last year that identified the  consumer  costs public health risks and national\n",
      "                far family dollar has received no  consumer  complaints or reports of illness related\n",
      "               2020 and august 2021 any remaining  consumer  stock should be quarantined and sent\n",
      "        newsbank inc all rights reserved section:  consumer  length: 339 words byline: jocelina joiner\n",
      "          management to enhance public health and  consumer  welfare the collaboration with pharmalink represents\n",
      "recall management solutions dedicated to ensuring  consumer  safety and brand preservation our advanced\n",
      "    we deliver tailored solutions that prioritize  consumer  welfare while safeguarding brand reputation businesses\n",
      "          management to enhance public health and  consumer  welfare the collaboration with pharmalink represents\n",
      "recall management solutions dedicated to ensuring  consumer  safety and brand preservation our advanced\n",
      "    we deliver tailored solutions that prioritize  consumer  welfare while safeguarding brand reputation businesses\n",
      "             not received reports of illnesses or  consumer  complaints in regards to the recalled\n",
      "         discovered benzene a known carcinogen in  consumer  products including sunscreen and body sprays\n",
      "            smoking habits is being recalled over  consumer  safety concerns pfizer has announced a\n",
      "            smoking habits is being recalled over  consumer  safety concerns pfizer has announced a\n",
      "            smoking habits is being recalled over  consumer  safety concerns pfizer has announced a\n",
      "            smoking habits is being recalled over  consumer  safety concerns pfizer has announced a\n",
      "            smoking habits is being recalled over  consumer  safety concerns pfizer has announced a\n",
      "            smoking habits is being recalled over  consumer  safety concerns pfizer has announced a\n"
     ]
    }
   ],
   "source": [
    "consumer=make_kwic('consumer',flat_list,win=6)\n",
    "print_kwic(sort_kwic(consumer))"
   ]
  },
  {
   "cell_type": "markdown",
   "id": "bbfa8688-9a36-4735-9000-7521709441db",
   "metadata": {},
   "source": [
    "#### 3. Showed"
   ]
  },
  {
   "cell_type": "code",
   "execution_count": 23,
   "id": "a063ecf3-636a-4899-bf3a-be4dcca28508",
   "metadata": {},
   "outputs": [
    {
     "name": "stdout",
     "output_type": "stream",
     "text": [
      "drug from the shelves the evidence  showed  from new tests performed that the\n",
      "drug from the shelves the evidence  showed  from new tests performed that the\n",
      "    lot of metformin hcl it tested  showed  ndma levels in excess of the\n",
      "    lot of metformin hcl it tested  showed  ndma levels in excess of the\n",
      "    lot of metformin hcl it tested  showed  ndma levels in excess of the\n",
      " of caution after its test results  showed  that one lot of metformin hcl\n",
      "    lot of metformin hcl it tested  showed  ndma levels in excess of the\n",
      " of caution after its test results  showed  that one lot of metformin hcl\n",
      "    lot of metformin hcl it tested  showed  ndma levels in excess of the\n",
      " of caution after its test results  showed  that one lot of metformin hcl\n",
      "    lot of metformin hcl it tested  showed  ndma levels in excess of the\n"
     ]
    }
   ],
   "source": [
    "showed=make_kwic('showed',flat_list,win=6)\n",
    "print_kwic(sort_kwic(showed))"
   ]
  },
  {
   "cell_type": "markdown",
   "id": "92b00fc9-bf11-4ce6-9668-364b24d5083c",
   "metadata": {},
   "source": [
    "#### 4. Responsible"
   ]
  },
  {
   "cell_type": "code",
   "execution_count": 24,
   "id": "0c7769da-067c-452e-a178-e195a1c25ba2",
   "metadata": {},
   "outputs": [
    {
     "name": "stdout",
     "output_type": "stream",
     "text": [
      "media group the ap is solely  responsible  for all content load-date: february 3\n",
      "media group the ap is solely  responsible  for all content load-date: february 2\n",
      "media group the ap is solely  responsible  for all content load-date: february 3\n",
      "media group the ap is solely  responsible  for all content load-date: february 2\n",
      "media group the ap is solely  responsible  for all content load-date: february 3\n",
      "media group the ap is solely  responsible  for all content load-date: february 3\n",
      "media group the ap is solely  responsible  for all content load-date: february 3\n",
      "media group the ap is solely  responsible  for all content load-date: february 2\n",
      "media group the ap is solely  responsible  for all content load-date: february 2\n",
      "media group the ap is solely  responsible  for all content load-date: february 2\n"
     ]
    }
   ],
   "source": [
    "responsible=make_kwic('responsible',flat_list,win=6)\n",
    "print_kwic(sort_kwic(responsible))"
   ]
  },
  {
   "cell_type": "markdown",
   "id": "de8233b5-b701-4474-a19e-dd1d1fd92cc0",
   "metadata": {},
   "source": [
    "#### 5. Trust"
   ]
  },
  {
   "cell_type": "code",
   "execution_count": 26,
   "id": "52e4d024-62bb-4485-b78d-b4f5d752462d",
   "metadata": {},
   "outputs": [
    {
     "name": "stdout",
     "output_type": "stream",
     "text": [
      "you with a clear picture which site you can truly  trust  other review sites include price tag evaluations among different medicine\n"
     ]
    }
   ],
   "source": [
    "trust=make_kwic('trust',flat_list,win=10)\n",
    "print_kwic(sort_kwic(trust))"
   ]
  },
  {
   "cell_type": "markdown",
   "id": "251b7a12-7ca8-43db-a915-78d43c06b807",
   "metadata": {},
   "source": [
    "#### 6. Trusted"
   ]
  },
  {
   "cell_type": "code",
   "execution_count": 28,
   "id": "0c6a5a90-330d-4f51-97d1-71ee3c3019d4",
   "metadata": {},
   "outputs": [
    {
     "name": "stdout",
     "output_type": "stream",
     "text": [
      "           online pharmacy review sites to know one of the most  trusted  companies reading by way of these feedback will provide you\n",
      "       is value for your money double verify its authenticity a  trusted  internet drug shop advertises it includes a licensed pharmacist the\n",
      "clearly easier to get offline when the pharmacy doesn't deliver  trusted  services and products as soon as you've picked the ideal\n"
     ]
    }
   ],
   "source": [
    "trusted=make_kwic('trusted',flat_list,win=10)\n",
    "print_kwic(sort_kwic(trusted))"
   ]
  },
  {
   "cell_type": "markdown",
   "id": "a707701e-d904-4519-83fc-bc108c46f134",
   "metadata": {},
   "source": [
    "* Internet/web dimension added now to company's reputations that they need to take into more careful consideration"
   ]
  },
  {
   "cell_type": "markdown",
   "id": "4d830642-15f7-403e-bf89-4f614d1de327",
   "metadata": {},
   "source": [
    "KWIC Analysis of \"Safety\" \n",
    "* Focuses on improving safety with phrases like \"enhancing drug safety\" and \"setting new benchmarks,\" showing a more proactive approach than earlier decades\n",
    "* Highlights partnerships with mentions of \"strategic partnerships to enhance safety,\" a shift from isolated actions in the past\n",
    "* Talks about \"safety standards\" and \"safety profiles,\" building on the technical focus of the 2010s\n",
    "* Mentions of \"patient safety\" and \"consumer safety\" show a stronger emphasis on trust and accountability compared to earlier years\n",
    "* The FDA’s role remains central with references to \"safety warnings\" and \"safety limits,\" similar to previous decades\n",
    "* Newer ideas like \"recall efficiency\" show a focus on making safety processes faster and more effective\n",
    "* \"Safety concerns\" and \"adverse events\" are still big themes, consistent across all decades\n",
    "* Feels more forward-looking with phrases like \"commitment to safety,\" compared to the reactionary tone of the 1980s and 1990s\n",
    "\n",
    "KWIC Analysis of \"Consumer\" \n",
    "* Mentions like \"consumer complaints\" and \"consumer safety concerns\" focus on individual impacts, showing a more personal tone compared to earlier decades\n",
    "* References to \"enhance public health and consumer welfare\" highlight partnerships prioritizing consumer needs, which contrasts with the company-driven narratives of the 1980s and 1990s\n",
    "* Phrases like \"brand preservation\" and \"safeguarding brand reputation\" show a stronger focus on trust and transparency, building on trends from the 2010s\n",
    "* Mentions of the \"consumer product safety commission\" reflect heightened regulatory involvement and a growing emphasis on public accountability\n",
    "* The phrase \"consumer costs public health risks\" acknowledges broader systemic issues, moving beyond the narrower framing of impacts seen in earlier years\n",
    "* Notes about quarantining \"consumer stock\" and addressing \"no consumer complaints\" suggest companies are more proactive now, compared to the reactionary approaches in the 1980s and 1990s\n",
    "\n",
    "\n",
    "KWIC Analysis of \"Showed\" \n",
    "* \"Showed\" continues to highlight test results, with specific mentions like \"NDMA levels in excess,\" reflecting a technical focus similar to the 2010s\n",
    "* Frequently tied to contamination concerns, such as in \"metformin HCL,\" showing a continued emphasis on chemical impurities compared to broader safety risks in earlier decades\n",
    "* The use of \"evidence showed\" and \"test results showed\" signals a data-driven approach to decision-making, a shift from the reactionary framing seen in the 1980s and 1990s\n",
    "* Emphasizes regulatory caution with phrases like \"out of caution after test results,\" showing proactive responses compared to past decades' more retrospective reporting\n",
    "* Continues to focus on health impacts but with more detailed and specific findings, reflecting advancements in testing and analysis over time\n",
    "\n",
    "KWIC Analysis of \"Responsible\" \n",
    "* Mentions of \"responsible for all content\" reflect a focus on accountability, but in this case, the term is applied to media rather than pharmaceuticals or regulators\n",
    "* The consistent context of media responsibility highlights a shift from the corporate or regulatory focus of earlier decades to include broader entities managing information dissemination\n",
    "* Lacks the proactive tone seen in other uses of \"responsible\" in the 2020s, suggesting a narrower application in this specific context compared to broader accountability trends in the past\n",
    "* Compared to earlier years were \"responsible\" was used for legal or manufacturing accountability, the focus here on media responsibility feels less tied to consumer health narratives\n",
    "\n",
    "KWIC Analysis of \"Trust\"\n",
    "* Focuses on consumer confidence, like \"which site you can truly trust,\" highlighting reliable sources\n",
    "* Shifts toward empowering consumers through tools and clear information rather than corporate or regulatory assurances seen in earlier years\n",
    "\n",
    "\n",
    "KWIC Analysis of \"Trusted\" \n",
    "* Focuses on reliability, with mentions like \"most trusted companies\" and \"trusted internet drug shop,\" emphasizing consumer confidence in online services\n",
    "* Highlights the importance of licensed pharmacists and verified services, showing a growing emphasis on authenticity and trust in digital spaces\n",
    "* Reflects the added dimension of internet reputation for companies, which wasn’t a factor in earlier decades\n",
    "\n",
    "\n",
    "## Sentiment Analysis: VADER Scores"
   ]
  },
  {
   "cell_type": "code",
   "execution_count": 35,
   "id": "c84d2807-809e-4b2a-b19d-72970a2510a9",
   "metadata": {},
   "outputs": [],
   "source": [
    "### Set up:\n",
    "\n",
    "import os\n",
    "import re\n",
    "import csv\n",
    "import pandas as pd\n",
    "import numpy as np\n",
    "import matplotlib.pyplot as plt\n",
    "\n",
    "from nltk import tokenize\n",
    "from nltk.sentiment.vader import SentimentIntensityAnalyzer"
   ]
  },
  {
   "cell_type": "code",
   "execution_count": 37,
   "id": "a55269ef-8598-46d1-9537-977d2998e8e1",
   "metadata": {},
   "outputs": [],
   "source": [
    "### Using VADER\n",
    "sid = SentimentIntensityAnalyzer()\n",
    "\n",
    "### text set up\n",
    "twenties_text=no_toc_text.lower().replace('\\n','')"
   ]
  },
  {
   "cell_type": "code",
   "execution_count": 39,
   "id": "5358c5b9-f9da-40cf-8d24-6d34444eb077",
   "metadata": {},
   "outputs": [
    {
     "data": {
      "text/plain": [
       "{'neg': 0.077, 'neu': 0.843, 'pos': 0.08, 'compound': 0.9996}"
      ]
     },
     "execution_count": 39,
     "metadata": {},
     "output_type": "execute_result"
    }
   ],
   "source": [
    "sid.polarity_scores(twenties_text)"
   ]
  },
  {
   "cell_type": "markdown",
   "id": "df331b38-0c20-4f1a-9198-042684334739",
   "metadata": {},
   "source": [
    "### Observations: only corpus with a positive compound score"
   ]
  },
  {
   "cell_type": "code",
   "execution_count": null,
   "id": "e2bb4c93-feb2-4837-8bba-e0f780b4205e",
   "metadata": {},
   "outputs": [],
   "source": []
  }
 ],
 "metadata": {
  "citation-manager": {
   "items": {}
  },
  "kernelspec": {
   "display_name": "Python 3 (ipykernel)",
   "language": "python",
   "name": "python3"
  },
  "language_info": {
   "codemirror_mode": {
    "name": "ipython",
    "version": 3
   },
   "file_extension": ".py",
   "mimetype": "text/x-python",
   "name": "python",
   "nbconvert_exporter": "python",
   "pygments_lexer": "ipython3",
   "version": "3.10.12"
  }
 },
 "nbformat": 4,
 "nbformat_minor": 5
}
