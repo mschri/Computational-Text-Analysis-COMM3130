{
 "cells": [
  {
   "cell_type": "code",
   "execution_count": 2,
   "id": "31630203-ad7f-45c3-a351-4759063e83cc",
   "metadata": {},
   "outputs": [],
   "source": [
    "### Read text file\n",
    "\n",
    "import os\n",
    "os.chdir('../data')\n",
    "text=open('twothousands.txt').read()"
   ]
  },
  {
   "cell_type": "code",
   "execution_count": 3,
   "id": "543a1c94-6761-4c7b-b295-fb7875c684b0",
   "metadata": {},
   "outputs": [],
   "source": [
    "### Functions:\n",
    "\n",
    "from collections import Counter\n",
    "import os\n",
    "import string\n",
    "import json\n",
    "import matplotlib.pyplot as plt\n",
    "from IPython.display import Image"
   ]
  },
  {
   "cell_type": "code",
   "execution_count": 4,
   "id": "e61d7906-e5c7-4ad9-8c13-7b77e3fdae9c",
   "metadata": {},
   "outputs": [],
   "source": [
    "import os\n",
    "os.chdir('../data_analysis')\n",
    "%run functions.ipynb"
   ]
  },
  {
   "cell_type": "markdown",
   "id": "682aa635-56c1-41d4-9042-3b463db55f89",
   "metadata": {},
   "source": [
    "## 2000s corpus setup:"
   ]
  },
  {
   "cell_type": "code",
   "execution_count": 5,
   "id": "b09ac310-ae1d-4997-8cb8-80ecff3000ac",
   "metadata": {},
   "outputs": [
    {
     "data": {
      "text/plain": [
       "13296"
      ]
     },
     "execution_count": 5,
     "metadata": {},
     "output_type": "execute_result"
    }
   ],
   "source": [
    "text.index('\\nRecalled drug still sold in China')"
   ]
  },
  {
   "cell_type": "code",
   "execution_count": 6,
   "id": "8a16aab5-771b-4b9a-b5b4-b13933ca6415",
   "metadata": {},
   "outputs": [],
   "source": [
    "no_toc_text=text[13296:]"
   ]
  },
  {
   "cell_type": "code",
   "execution_count": 7,
   "id": "64721365-679d-47be-a0a9-c6aee73755e1",
   "metadata": {},
   "outputs": [
    {
     "data": {
      "text/plain": [
       "201"
      ]
     },
     "execution_count": 7,
     "metadata": {},
     "output_type": "execute_result"
    }
   ],
   "source": [
    "doc_list=no_toc_text.split('End of Document')\n",
    "len(doc_list)"
   ]
  },
  {
   "cell_type": "code",
   "execution_count": 8,
   "id": "13b64566-8e9d-4b66-a9a0-136d2b1ca510",
   "metadata": {},
   "outputs": [],
   "source": [
    "token_docs=[]\n",
    "for doc in doc_list:\n",
    "    doc_tokens=tokenize(doc,lowercase=True,strip_chars='!,.\"')\n",
    "    token_docs.append(doc_tokens)"
   ]
  },
  {
   "cell_type": "code",
   "execution_count": 9,
   "id": "77d3d975-2687-45bf-bf4c-1d6f48ba7804",
   "metadata": {},
   "outputs": [
    {
     "data": {
      "text/plain": [
       "107019"
      ]
     },
     "execution_count": 9,
     "metadata": {},
     "output_type": "execute_result"
    }
   ],
   "source": [
    "flat_list=[]\n",
    "for sublist in token_docs:\n",
    "    flat_list.extend(sublist)\n",
    "\n",
    "len(flat_list)"
   ]
  },
  {
   "cell_type": "code",
   "execution_count": 10,
   "id": "7d6c3cb3-3279-46bf-919e-c1238b3b6034",
   "metadata": {},
   "outputs": [],
   "source": [
    "from nltk.corpus import stopwords\n",
    "stoplist=stopwords.raw('english').split('\\n')"
   ]
  },
  {
   "cell_type": "code",
   "execution_count": 11,
   "id": "f3dc2576-830f-47f7-b027-0490f7aad327",
   "metadata": {},
   "outputs": [],
   "source": [
    "filtered_flat_list=[]\n",
    "for words in flat_list:\n",
    "    if words not in stoplist:\n",
    "        filtered_flat_list.append(words)"
   ]
  },
  {
   "cell_type": "markdown",
   "id": "66fac071-4944-4732-ac4a-463f42d8c22a",
   "metadata": {},
   "source": [
    "## Frequency Lists:"
   ]
  },
  {
   "cell_type": "code",
   "execution_count": 12,
   "id": "dad5bcc9-7062-4956-8c5b-6e1e95c67627",
   "metadata": {},
   "outputs": [
    {
     "name": "stdout",
     "output_type": "stream",
     "text": [
      "[('said', 1357), ('drug', 1249), ('recall', 512), ('drugs', 510), ('company', 445), ('patients', 414), ('fda', 410), ('vioxx', 338), ('press', 279), ('associated', 277), ('merck', 273), ('bayer', 268), ('health', 256), ('market', 253), ('heart', 240), ('recalled', 232), ('million', 230), ('one', 221), ('body', 220), ('us', 218), ('news', 216), ('new', 216), ('copyright', 204), ('length:', 200), ('words', 200), ('taking', 200), ('also', 200), ('load-date:', 197), ('products', 196), ('people', 195), ('risk', 193), ('product', 186), ('may', 181), ('section:', 181), ('would', 180), ('baycol', 179), ('year', 178), ('food', 176), ('recalls', 168), ('two', 163), ('rights', 162), ('reserved', 158), ('canada', 156), ('problems', 155), ('administration', 155), ('last', 155), ('thursday', 151), ('sales', 148), ('could', 146), ('2004', 140), ('dateline:', 132), ('business', 130), ('use', 129), ('used', 128), ('pharmaceutical', 128), ('found', 127), ('since', 122), ('byline:', 121), ('-', 118), ('billion', 114), ('information', 112), ('friday', 111), ('made', 110), ('agency', 110), ('&', 109), ('stock', 107), ('inc', 104), ('percent', 104), ('lot', 103), ('2005', 103), ('2001', 103), ('study', 103), ('cause', 99), ('safety', 99), ('june', 97), ('years', 96), ('pain', 95), ('manufacturing', 95), ('problem', 94), ('2003', 94), ('serious', 92), ('first', 92), ('effects', 92), ('including', 92), ('prescription', 91), ('reported', 91), ('doctors', 91), ('2006', 91), ('affected', 89), ('states', 89), ('state', 88), ('medicine', 87), ('three', 87), ('deaths', 87), ('sold', 86), ('--', 86), ('system', 86), ('corp', 86), ('march', 86), ('dr', 86)]\n"
     ]
    }
   ],
   "source": [
    "### Top 100 Words:\n",
    "\n",
    "counted_toks=Counter(filtered_flat_list)\n",
    "print(counted_toks.most_common(100))"
   ]
  },
  {
   "cell_type": "code",
   "execution_count": 13,
   "id": "d079b2a9-608c-446e-87a8-cb82402c44ff",
   "metadata": {},
   "outputs": [
    {
     "name": "stdout",
     "output_type": "stream",
     "text": [
      "[('of the', 623), ('in the', 399), ('the drug', 333), ('the company', 316), ('the fda', 278), ('on the', 276), ('to the', 256), ('said the', 243), ('associated press', 242), ('the recall', 209), ('have been', 199), ('from the', 164), ('for the', 160), ('in a', 160), ('all rights', 158), ('rights reserved', 158), ('and drug', 155), ('food and', 150), ('the market', 146), ('said it', 143), ('drug administration', 141), ('reserved section:', 137), ('by the', 129), ('has been', 126), ('that the', 126), ('and the', 122), ('risk of', 122), ('words byline:', 116), ('with the', 116), ('of a', 110), ('to be', 103), ('because of', 100), ('at the', 99), ('press all', 98), ('news length:', 93), ('more than', 92), ('the us', 92), ('the food', 91), ('it was', 90), ('he said', 88), ('company said', 83), ('the product', 83), ('as a', 82), ('according to', 81), ('of its', 80), ('of heart', 78), ('heart attack', 77), ('it is', 77), ('said in', 76), ('new york', 75)]\n"
     ]
    }
   ],
   "source": [
    "### Top 50 Bigrams\n",
    "\n",
    "bigrams=get_ngram_tokens(flat_list,n=2)\n",
    "count_bigrams=Counter(bigrams)\n",
    "print(count_bigrams.most_common(50))"
   ]
  },
  {
   "cell_type": "code",
   "execution_count": 14,
   "id": "b573fb1c-f3cb-4d70-8bb8-99dfaa821592",
   "metadata": {},
   "outputs": [
    {
     "name": "stdout",
     "output_type": "stream",
     "text": [
      "[('all rights reserved', 158), ('food and drug', 149), ('rights reserved section:', 137), ('and drug administration', 135), ('associated press all', 98), ('press all rights', 98), ('the food and', 84), ('the company said', 77), ('the united states', 73), ('the associated press', 71), ('risk of heart', 70), ('said in a', 60), ('words byline: by', 58), ('in the united', 58), ('of the drug', 55), ('from the market', 54), ('the risk of', 44), ('reserved section: business', 43), ('bc cycle copyright', 42), ('according to the', 42), ('business news length:', 41), ('on the market', 39), ('in a statement', 39), ('on the net:', 37), ('of heart attack', 37), ('said the recall', 36), ('the new york', 36), ('section: business news', 36), ('a heart attack', 33), ('been linked to', 33), ('the fda said', 32), ('heart attack and', 31), ('in the us', 31), ('associated press state', 30), ('press state &', 30), ('state & local', 30), ('& local wire', 30), ('us food and', 29), ('said the company', 29), ('one of the', 29), ('the us food', 28), ('of heart attacks', 28), ('that have been', 27), ('of the recall', 26), ('company said it', 26), ('director of the', 26), ('increased risk of', 26), ('around the country', 26), ('new york stock', 25), ('york stock exchange', 25)]\n"
     ]
    }
   ],
   "source": [
    "### Top 50 Trigrams\n",
    "\n",
    "trigrams=get_ngram_tokens(flat_list,n=3)\n",
    "count_tri=Counter(trigrams)\n",
    "print(count_tri.most_common(50))"
   ]
  },
  {
   "cell_type": "markdown",
   "id": "ee2512e9-f1d8-4518-868c-25f930526f11",
   "metadata": {},
   "source": [
    "### Observations\n",
    "\n",
    "Top 100 words:\n",
    "* Specific drugs like \"Vioxx\" and \"Baycol\" appear frequently, showing major recalls \n",
    "* \"Merck\" and \"Bayer\" show increased scrutiny on pharmaceutical companies\n",
    "* Mentions of \"patients,\" \"health,\" and \"risk\" show a consistent focus on public health impacts\n",
    "* Words like \"heart,\" \"pain,\" and \"effects\" connect recalls to specific medical risks\n",
    "* Financial terms like \"million,\" \"billion,\" and \"sales\" highlight the economic stakes of recalls, still a theme since the 1990s\n",
    "* \"Manufacturing\" and \"problem\" show prioritization of identifying production issues as key drivers of recalls\n",
    "\n",
    "Top 50 Bigrams:\n",
    "* \"The drug,\" \"the company,\" and \"the FDA\" emphasize focus on pharmaceuticals, corporations, and regulators\n",
    "* \"Food and,\" \"drug administration,\" and \"risk of\" show ongoing focus on the FDA and health risks\n",
    "* \"Heart attack\" and \"the market\" show  health risks and financial impacts, showing two concerns\n",
    "* Newer bigrams like \"because of\" and \"according to\" reflect more explicit ties between causes and consequences\n",
    "\n",
    "Top 50 Trigrams:\n",
    "* Legal phrases like \"all rights reserved\" and \"rights reserved section\" reflect formal reporting styles (still consistent across decades)\n",
    "* \"The company said\" and \"said the recall\" emphasize corporate statements and accountability, a trend building since the 90s\n",
    "* \"The associated press\" and \"business news length\" reflect a formal tone\n",
    "* \"Increased risk of\" indicates more precise language around health consequences\n",
    "\n",
    "\n",
    "\n",
    "## Context Analyses (KWIC):\n",
    "\n",
    "JJ word list:"
   ]
  },
  {
   "cell_type": "code",
   "execution_count": 15,
   "id": "6b52e1ef-9222-4a87-9ac0-958421ec64be",
   "metadata": {},
   "outputs": [],
   "source": [
    "jj_words=['showed','safety','responsible','trust', 'trusted','forgiveness','consumer','example','rectification','sympathy']"
   ]
  },
  {
   "cell_type": "code",
   "execution_count": 16,
   "id": "e75b6083-cd8e-40a9-9f44-ae4fc2699c97",
   "metadata": {},
   "outputs": [
    {
     "data": {
      "text/plain": [
       "186"
      ]
     },
     "execution_count": 16,
     "metadata": {},
     "output_type": "execute_result"
    }
   ],
   "source": [
    "words_00s=[]\n",
    "for word in filtered_flat_list:\n",
    "    if word in jj_words:\n",
    "        words_00s.append(word)\n",
    "\n",
    "len(words_00s)"
   ]
  },
  {
   "cell_type": "code",
   "execution_count": 17,
   "id": "1794110e-29a8-4cdd-a900-6d622f626e94",
   "metadata": {},
   "outputs": [
    {
     "data": {
      "text/plain": [
       "Counter({'example': 8,\n",
       "         'safety': 99,\n",
       "         'showed': 37,\n",
       "         'consumer': 17,\n",
       "         'responsible': 22,\n",
       "         'trust': 3})"
      ]
     },
     "execution_count": 17,
     "metadata": {},
     "output_type": "execute_result"
    }
   ],
   "source": [
    "count_word=Counter(words_00s)\n",
    "count_word"
   ]
  },
  {
   "cell_type": "markdown",
   "id": "f8dfc075-3260-4b5e-a605-f66180227935",
   "metadata": {},
   "source": [
    "### KWIC concordances:\n",
    "\n",
    "#### 1. \"Safety\""
   ]
  },
  {
   "cell_type": "code",
   "execution_count": 18,
   "id": "bf497682-d131-42a0-9202-ddd9a6ea733d",
   "metadata": {},
   "outputs": [
    {
     "name": "stdout",
     "output_type": "stream",
     "text": [
      "                  how profit often takes priority over  safety  in china's prescription medicine industry physicians\n",
      "                    no intention of shipping until the  safety  issues were resolved spokeswoman cindy resman\n",
      "                    no intention of shipping until the  safety  issues were resolved spokeswoman cindy resman\n",
      "                    no intention of shipping until the  safety  issues were resolved spokeswoman cindy resman\n",
      "                     steps are necessary to ensure the  safety  of all patients who use any\n",
      "                     steps are necessary to ensure the  safety  of all patients who use any\n",
      "                 at able laboratories to determine the  safety  and quality of their products and\n",
      "                  officials signed an agreement on the  safety  of medicine and medical devices the\n",
      "                   must also notify authorities of any  safety  risk to a particular drug unlike\n",
      "                              vlk said now we have new  safety  data that tops the balance so\n",
      "                     steps are necessary to ensure the  safety  of all patients who use any\n",
      "fudged data attributed to clinical-trial investigators  safety  data reported belatedly to the fda\n",
      "                   to mar its already troubled product  safety  record load-date: november 13 2008 china\n",
      "                   to mar its already troubled product  safety  record load-date: november 13 2008 three\n",
      "                         an issue of public health and  safety  kinkade said certainly a patient on\n",
      "           independent pharmacies and without the same  safety  procedures followed by big drugmakers the\n",
      "                   to mar its already troubled product  safety  record load-date: november 13 2008 fda\n",
      "                    been withdrawn from the market for  safety  reasons phrma spokesman jeff trewhitt said\n",
      "                    her customers but had never voiced  safety  concerns but the fda said it\n",
      "                    her customers but had never voiced  safety  concerns but the fda said it\n",
      "                     from their shelves the health and  safety  of our customers is our number\n",
      "                      back onto the market despite the  safety  concerns in an article published in\n",
      "                 important first step in improving the  safety  of the nation's prescription drugs the\n",
      "                           death there were no class i  safety  recalls in the us last year\n",
      "                        told reuters that there are no  safety  or efficacy problems with the three\n",
      "             energy boosters ottawa approves drugs for  safety  and efficacy and allows them to\n",
      "                     drug recall system in response to  safety  scandals associated press international september 20\n",
      "             must take major responsibilities for drug  safety  said a draft of the drug\n",
      "                         past under the rules the drug  safety  agency and its provincial branches would\n",
      "                       open once the company meets all  safety  and compliance requirements he added the\n",
      "               leader said it will highlight lipitor's  safety  record and offer free cholesterol screenings\n",
      "                  officials signed an agreement on the  safety  of medicine and medical devices the\n",
      "                   must also notify authorities of any  safety  risk to a particular drug unlike\n",
      "               to increasing concerns about the drug's  safety  we're taking this action because we\n",
      "   statement thursday citing the outstanding long-term  safety  profile of celebrex and saying that\n",
      "                   now require longer studies and more  safety  data before approving any more drugs\n",
      "                    swallowed -- has an overall better  safety  profile than pills containing the same\n",
      "         higher consumer co-payments for medicines and  safety  concerns about antidepressants ims said prescription-drug\n",
      "                    our first responsibility is to the  safety  and well-being of our customers the\n",
      "               to increasing concerns about the drug's  safety  we're taking this action because we\n",
      "   statement thursday citing the outstanding long-term  safety  profile of celebrex and saying that\n",
      "   statement thursday citing the outstanding long-term  safety  profile of celebrex and saying that\n",
      "              who coordinator of quality assurance and  safety  for medicines ''it's fine for roche\n",
      "              who coordinator of quality assurance and  safety  for medicines it's fine for roche\n",
      "                              vlk said now we have new  safety  data that tops the balance dr\n",
      "                        it for juvenile arthritis a no  safety  problems have been seen in children\n",
      "                       off the market because of heart  safety  concerns as a result the company\n",
      "                  sept 23 from an external independent  safety  monitoring board a company spokesman said\n",
      "                             trial is that it took the  safety  evaluation past 18 months of therapy\n",
      "                     it was confident in the long-term  safety  of its drug for the first\n",
      "                   when ads deliver their warnings and  safety  messages * rozerem which has struggled\n",
      "                  it never printed labels with updated  safety  information a decision was apparently made\n",
      "                  it never printed labels with updated  safety  information a decision was apparently made\n",
      "                  it never printed labels with updated  safety  information a decision was apparently made\n",
      "                  it never printed labels with updated  safety  information a decision was apparently made\n",
      "                            by many years of sales and  safety  data with no serious adverse effects\n",
      "                           which has a long history of  safety  and a broader indication than its\n",
      "            drug industry's interests ahead of patient  safety  as evidence they point to seven\n",
      "                 percent have been recalled because of  safety  reasons said the pharmaceutical research and\n",
      "                     drugs outweighs the risks and the  safety  system in place is working said\n",
      "            drug industry's interests ahead of patient  safety  as evidence they point to seven\n",
      "                 percent have been recalled because of  safety  reasons said the pharmaceutical research and\n",
      "                     drugs outweighs the risks and the  safety  system in place is working said\n",
      "                              vlk said now we have new  safety  data that tops the balance dr\n",
      "            drug industry's interests ahead of patient  safety  as evidence they point to seven\n",
      "                 percent have been recalled because of  safety  reasons said the pharmaceutical research and\n",
      "                     drugs outweighs the risks and the  safety  system in place is working said\n",
      "                  for additional data on the long-term  safety  of another merck pain reliever called\n",
      "                      away the recent report about the  safety  of tysabri does not question the\n",
      "               of increasing concerns about the drug's  safety  merck also is faced with the\n",
      "                   fda officials said thursday that no  safety  problems have been found among children\n",
      "                      undertook a review of the drug's  safety  data in its statement thursday the\n",
      "               of increasing concerns about the drug's  safety  merck also is faced with the\n",
      "                   fda officials said thursday that no  safety  problems have been found among children\n",
      "                      undertook a review of the drug's  safety  data in its statement thursday the\n",
      "            drug industry's interests ahead of patient  safety  as evidence they point to seven\n",
      "                 percent have been recalled because of  safety  reasons said the pharmaceutical research and\n",
      "                     drugs outweighs the risks and the  safety  system in place is working said\n",
      "                modern physician body the federal drug  safety  agency is doing a spectacular job\n",
      "                        in the fda's monitoring of the  safety  of prescription drugs now being sold\n",
      "                     that an independent board of drug  safety  may be needed to ensure the\n",
      "                           may be needed to ensure the  safety  of medications after fda approval load-date:\n",
      "             byline: modern physician the federal drug  safety  agency is doing a spectacular job\n",
      "                        in the fda's monitoring of the  safety  of prescription drugs now being sold\n",
      "                     that an independent board of drug  safety  may be needed to ensure the\n",
      "                           may be needed to ensure the  safety  of medications after fda approvalcopyright 2005\n",
      "       pharmaceutical manufacturer or when crucial new  safety  information is available about the product\n",
      "                    puts the industry ahead of patient  safety  portland press herald (maine) march 25\n",
      "            drug industry's interests ahead of patient  safety  as evidence they point to seven\n",
      "                 percent have been recalled because of  safety  reasons said the pharmaceutical research and\n",
      "                     drugs outweighs the risks and the  safety  system in place is working said\n",
      "                  apple juice and the consumer product  safety  commission announced the recall of 7000\n",
      "                     merck stopped the study early for  safety  reasons after the meeting fields director\n",
      "                     merck stopped the study early for  safety  reasons after the meeting fields director\n",
      "              for licensing drugs and monitoring their  safety  bayer voluntarily pulled the product after\n",
      "             authorities also are responsible for drug  safety  german health minister ulla schmidt repeated\n",
      "                 months diclectin certainly has a good  safety  record he said the trial evidence\n",
      "              for licensing drugs and monitoring their  safety  bayer voluntarily pulled the drug after\n",
      "             authorities also are responsible for drug  safety  german health minister ulla schmidt repeated\n"
     ]
    }
   ],
   "source": [
    "safety=make_kwic('safety',flat_list,win=6)\n",
    "print_kwic(sort_kwic(safety))"
   ]
  },
  {
   "cell_type": "markdown",
   "id": "b1177e24-96a8-4f13-b94c-e3074f8c2ca1",
   "metadata": {},
   "source": [
    "#### 2. Example"
   ]
  },
  {
   "cell_type": "code",
   "execution_count": 19,
   "id": "ad03ae5d-634f-4c31-82b2-9118475c1f36",
   "metadata": {},
   "outputs": [
    {
     "name": "stdout",
     "output_type": "stream",
     "text": [
      "                  off the store shelves is an  example  of how profit often takes priority\n",
      "           one of able's biggest products for  example  is the generic form of vicodin\n",
      "       fda requirements for making drugs; for  example  it was not using sterile water\n",
      "   international health experts in panama for  example  a substitute drug kaletra costs three\n",
      "   international health experts in panama for  example  a substitute drug kaletra costs three\n",
      "and/or marketing agreements with partners for  example  serono (sra:nyse adr) the swiss developer\n",
      "        that the emedalert program is another  example  of how the internet enhances the\n",
      "              (vipps) program this is a great  example  of how the internet can rapidly\n"
     ]
    }
   ],
   "source": [
    "example=make_kwic('example',flat_list,win=6)\n",
    "print_kwic(sort_kwic(example))"
   ]
  },
  {
   "cell_type": "markdown",
   "id": "b8e2a964-d3bb-41c7-90c4-431b1e5e10d1",
   "metadata": {},
   "source": [
    "#### 3. \"Showed\""
   ]
  },
  {
   "cell_type": "code",
   "execution_count": 20,
   "id": "85b6978f-df81-48ca-ba0b-657ea84e686e",
   "metadata": {},
   "outputs": [
    {
     "name": "stdout",
     "output_type": "stream",
     "text": [
      "   drug recalled it recently because studies  showed  it can increase risk of heart\n",
      "                 it a landmark study in 2002  showed  that small daily doses of asa\n",
      "         after halting a clinical trial that  showed  both meds increased the risk of\n",
      "                exam in april 2001 though it  showed  his risk of heart problems to\n",
      "          attorney mikal watts said the data  showed  baycol was 79 times more likely\n",
      "        united states beck said bayer's case  showed  the company worked with the fda\n",
      "sales representatives and doctors that tests  showed  the drug could not be combined\n",
      "         to the food and drug administration  showed  baycol was 79 times more likely\n",
      "        united states beck said bayer's case  showed  the company worked with the fda\n",
      " able said some laboratory testing practices  showed  departures from standard operating procedures the\n",
      "           thursday that data from the trial  showed  the increased risk of heart attack\n",
      "            first lot several of those vials  showed  obvious signs of tampering fournel said\n",
      "           thursday that data from the trial  showed  the increased risk of heart attack\n",
      "       said thursday the clinical trial data  showed  an increased risk of heart attack\n",
      "                 it a landmark study in 2002  showed  that small daily doses of aspirin\n",
      "           thursday that data from the trial  showed  the increased risk of heart attack\n",
      "       said thursday the clinical trial data  showed  an increased risk of heart attack\n",
      "                 it a landmark study in 2002  showed  that small daily doses of aspirin\n",
      "       said thursday the clinical trial data  showed  an increased risk of heart attack\n",
      "                 it a landmark study in 2002  showed  that small daily doses of aspirin\n",
      "            first lot several of those vials  showed  obvious signs of tampering fournel said\n",
      "            first lot several of those vials  showed  obvious signs of tampering fournel said\n",
      "               from the market after a study  showed  that people taking it for 18\n",
      "          merck said the clinical trial data  showed  an increased risk of heart attack\n",
      "                 it a landmark study in 2002  showed  that small daily doses of aspirin\n",
      "               vioxx for more than 18 months  showed  a marked increase in cardiovascular problems\n",
      "                 it a landmark study in 2002  showed  that small daily doses of aspirin\n",
      "            first lot several of those vials  showed  obvious signs of tampering fournel said\n",
      "          merck said the clinical trial data  showed  an increased risk of heart attack\n",
      "                 it a landmark study in 2002  showed  that small daily doses of aspirin\n",
      "                 it a landmark study in 2002  showed  that small daily doses of aspirin\n",
      "          1999 after reports of side effects  showed  doctors there were prescribing some patients\n",
      "   chemical analysis of the affected tablets  showed  they contain higher than normal levels\n",
      "   chemical analysis of the affected tablets  showed  they contain higher than normal levels\n",
      "          1999 after reports of side effects  showed  doctors there were prescribing some patients\n",
      "   chemical analysis of the affected tablets  showed  they contain higher than normal levels\n",
      "   chemical analysis of the affected tablets  showed  they contain higher than normal levels\n"
     ]
    }
   ],
   "source": [
    "showed=make_kwic('showed',flat_list,win=6)\n",
    "print_kwic(sort_kwic(showed))"
   ]
  },
  {
   "cell_type": "markdown",
   "id": "523c8dfe-af7b-4535-b785-22ff9ae3420e",
   "metadata": {},
   "source": [
    "#### 4. \"Consumer\""
   ]
  },
  {
   "cell_type": "code",
   "execution_count": 21,
   "id": "36fc32f5-8ed2-43a0-a43e-da17adc20383",
   "metadata": {},
   "outputs": [
    {
     "name": "stdout",
     "output_type": "stream",
     "text": [
      "               the revelations prompted public citizen a  consumer  watchdog group to call for a\n",
      "              pharmtrends a syndicated tracking study of  consumer  behavior by ipsos the global marketing\n",
      "                        same period last year the rising  consumer  recall figure is consistent with increasing\n",
      "                   as a refill reminder categories where  consumer  response was significantly greater than the\n",
      "                           were a mild flu season higher  consumer  co-payments for medicines and safety concerns\n",
      "                      and formulations dr sydney wolfe a  consumer  advocate and frequent critic of the\n",
      "            recently johnson & johnson subsidiary mcneil  consumer  healthcare recalled 57 lots of 21\n",
      "                        them pulled much or their entire  consumer  advertising what is left according to\n",
      "                    the drug industry's increased use of  consumer  advertising which is spurring more sales\n",
      "                    the drug industry's increased use of  consumer  advertising which is spurring more sales\n",
      "                    the drug industry's increased use of  consumer  advertising which is spurring more sales\n",
      "    pharmaceutical customer base other markets including  consumer  products need to engineer recalls and\n",
      "kevin schroeder business/technology manager for unilever  consumer  services north america is an nnc\n",
      "                    the drug industry's increased use of  consumer  advertising which is spurring more sales\n",
      "                    the drug industry's increased use of  consumer  advertising which is spurring more sales\n",
      "                   administered with apple juice and the  consumer  product safety commission announced the recall\n",
      "                        stop using it and call perrigo's  consumer  affairs department at 877-546-0454 perrigo stock\n"
     ]
    }
   ],
   "source": [
    "consumer=make_kwic('consumer',flat_list,win=6)\n",
    "print_kwic(sort_kwic(consumer))"
   ]
  },
  {
   "cell_type": "markdown",
   "id": "19d2eead-7965-4257-aa14-198d00bd5cda",
   "metadata": {},
   "source": [
    "#### 5. \"Responsible\""
   ]
  },
  {
   "cell_type": "code",
   "execution_count": 22,
   "id": "b680d669-b1e1-4341-a893-8496db122643",
   "metadata": {},
   "outputs": [
    {
     "name": "stdout",
     "output_type": "stream",
     "text": [
      "                  that a voluntary withdrawal is the  responsible  course to take he said the\n",
      "                  that a voluntary withdrawal is the  responsible  course to take he said merck\n",
      "                  that a voluntary withdrawal is the  responsible  course to take said ray v\n",
      "                  that a voluntary withdrawal is the  responsible  course to take merck first received\n",
      "                       spes prove to be true however  responsible  marketers of herbal products will applaud\n",
      "                  that a voluntary withdrawal is the  responsible  course to take he said merck\n",
      "                  that a voluntary withdrawal is the  responsible  course to take said ray v\n",
      "                  that a voluntary withdrawal is the  responsible  course to take the company added\n",
      "                    report says one or more analysts  responsible  for the report owns shares in\n",
      "                  that a voluntary withdrawal is the  responsible  course to take said ray v\n",
      "                      happy that merck decided to be  responsible  and say pull out of this\n",
      "vioxx effectively killing its fourth-largest product  responsible  for $25 billion in annual sales\n",
      "                  that a voluntary withdrawal is the  responsible  course to take said ray v\n",
      "                  that a voluntary withdrawal is the  responsible  course to take said ray v\n",
      "                       argue that merck must be held  responsible  for aggressively marketing what turned out\n",
      "                  into the course of commerce you're  responsible  for what you're doing dr wachsman\n",
      "                       argue that merck must be held  responsible  for aggressively marketing what turned out\n",
      "                  into the course of commerce you're  responsible  for what you're doing dr wachsman\n",
      "   drug administration national authorities also are  responsible  for drug safety german health minister\n",
      "                        in our view the british were  responsible  for informing the others the mca\n",
      "   drug administration national authorities also are  responsible  for drug safety german health minister\n",
      "                        in our view the british were  responsible  for informing the others the mca\n"
     ]
    }
   ],
   "source": [
    "responsible=make_kwic('responsible',flat_list,win=6)\n",
    "print_kwic(sort_kwic(responsible))"
   ]
  },
  {
   "cell_type": "markdown",
   "id": "a6d7bab9-3d4a-4aa7-af63-5c29959fabd4",
   "metadata": {},
   "source": [
    "#### 6. \"Trust\""
   ]
  },
  {
   "cell_type": "code",
   "execution_count": 23,
   "id": "b13889c1-f512-40a0-8271-38cdcd87201d",
   "metadata": {},
   "outputs": [
    {
     "name": "stdout",
     "output_type": "stream",
     "text": [
      "how could this situation jeopardize the  trust  that patients and doctors have between\n",
      "   hiv/aids? dr rosenthal: well i think  trust  has been a big - the\n",
      "       anymore there was a breakdown of  trust  because they said look all of\n"
     ]
    }
   ],
   "source": [
    "trust=make_kwic('trust',flat_list,win=6)\n",
    "print_kwic(sort_kwic(trust))"
   ]
  },
  {
   "cell_type": "markdown",
   "id": "8d1da145-b316-4a5b-9a54-436a0cd79730",
   "metadata": {},
   "source": []
  },
  {
   "cell_type": "markdown",
   "id": "0ab5b610-c6f8-49c5-a1c2-68e264347c9c",
   "metadata": {},
   "source": [
    "### Observations:\n",
    "KWIC Analysis of \"Safety\"\n",
    "* Mentions of \"safety of patients\" and \"safety record\" focus on patient well-being and company performance\n",
    "* Mentions like \"steps to ensure safety\" and \"no safety problems found\" highlight a shift toward proactive safety measures\n",
    "* Statements like \"our first responsibility is to safety\" emphasize building consumer trust\n",
    "* References to \"new safety data\" and \"updated safety information\" show evolving safety standards and protocols\n",
    "* Mentions of \"safety of medicines\" in international contexts reflect a more global approach to safety concerns\n",
    "* Statements like \"risks outweigh safety\" show ongoing discussions about balancing drug risks and benefits\n",
    "\n",
    "KWIC Analysis of \"Example\"\n",
    "* Mentions like \"example of how profit takes priority\" highlight critiques of industry practices, emphasizing ethical concerns\n",
    "* \"Example\" is used to clarify processes, such as FDA requirements or drug substitutes, showing a focus on explaining technical or regulatory points\n",
    "* Phrases like \"a great example of how the internet enhances\" reflect the growing role of technology and digital tools in healthcare narratives\n",
    "* Often tied to illustrating broader trends, like partnerships or alternative drug costs, making concepts more relatable and grounded\n",
    "\n",
    "KWIC Analysis of \"Showed\"\n",
    "* Mentions of \"landmark studies\" and \"clinical trial data\" emphasize the importance of significant research milestones in shaping public and regulatory narratives\n",
    "* Phrases like \"showed obvious signs of tampering\" indicate a focus on quality control \n",
    "* Often tied to increased risks, such as cardiovascular problems or higher-than-normal chemical levels, reinforcing the role of \"showed\" in uncovering health dangers\n",
    "* Reflects accountability and transparency as companies and regulators reveal data to address public health concerns\n",
    "\n",
    "KWIC Analysis of \"Consumer\"\n",
    "* \"Consumer watchdog\" and \"consumer advocate\" highlight the growing role of holding corporations accountable\n",
    "* Mentions of \"consumer advertising\" emphasize the shift toward direct marketing to individuals\n",
    "* References to \"consumer behavior\" and \"consumer response\" reflect a growing focus on understanding and influencing consumer decision-making\n",
    "* Mentions like \"consumer product safety commission\" and \"consumer recall figure\" show the regulatory focus on protecting consumers from unsafe products\n",
    "* Highlights public accountability, with calls to action like \"stop using it and call\" directed at individual consumers\n",
    "\n",
    "KWIC Analysis of \"Responsible\"\n",
    "* Phrases like \"responsible course to take\" reflect a focus on corporate accountability \n",
    "* Mentions of \"held responsible for aggressively marketing\" show heightened scrutiny of corporate practices \n",
    "* Highlights regulatory roles, with mentions like \"responsible for drug safety\" \n",
    "* Emphasizes proactive corporate actions, such as \"voluntary withdrawal is the responsible course,\" showing increased self-regulation \n",
    "* Mentions like \"you're responsible for what you're doing\" add a personal accountability tone not as prevalent in earlier decades\n",
    "\n",
    "KWIC Analysis of \"Trust\"\n",
    "* Mentions of \"trust that patients and doctors have\" emphasize the critical role of confidence in healthcare relationships\n",
    "* References to \"a breakdown of trust\" highlight how corporate failures can hurt the public’s confidence in the brand\n",
    "* Phrases like \"trust has been a big\" reflect ongoing efforts to rebuild trust \n",
    "\n",
    "\n",
    "## Sentiment Analysis Score:"
   ]
  },
  {
   "cell_type": "code",
   "execution_count": 24,
   "id": "ce64e6a1-8e85-4c46-a6a7-c53ee4bf9e0f",
   "metadata": {},
   "outputs": [],
   "source": [
    "### Set up:\n",
    "\n",
    "import os\n",
    "import re\n",
    "import csv\n",
    "import pandas as pd\n",
    "import numpy as np\n",
    "import matplotlib.pyplot as plt\n",
    "\n",
    "from nltk import tokenize\n",
    "from nltk.sentiment.vader import SentimentIntensityAnalyzer"
   ]
  },
  {
   "cell_type": "code",
   "execution_count": 25,
   "id": "827fc5c6-a442-4825-85c2-e2a51be8a8b6",
   "metadata": {},
   "outputs": [],
   "source": [
    "### Using VADER\n",
    "sid = SentimentIntensityAnalyzer()\n",
    "\n",
    "### text set up\n",
    "twoths_text=no_toc_text.lower().replace('\\n','')"
   ]
  },
  {
   "cell_type": "code",
   "execution_count": 26,
   "id": "40085262-0e9c-4deb-9dcd-e52cdd09831b",
   "metadata": {},
   "outputs": [
    {
     "data": {
      "text/plain": [
       "{'neg': 0.095, 'neu': 0.839, 'pos': 0.066, 'compound': -1.0}"
      ]
     },
     "execution_count": 26,
     "metadata": {},
     "output_type": "execute_result"
    }
   ],
   "source": [
    "sid.polarity_scores(twoths_text)"
   ]
  },
  {
   "cell_type": "markdown",
   "id": "2686c29c-6a43-454f-aed5-19b6e44f8283",
   "metadata": {},
   "source": [
    "### Observations:\n",
    "* negative compound score (similar to last two corpora)\n",
    "* greater negative sentiment score than positive; has greatest negative sentiment score compared to other corpora"
   ]
  },
  {
   "cell_type": "code",
   "execution_count": null,
   "id": "6de44cca-eca9-411a-85f4-fc1252d749c3",
   "metadata": {},
   "outputs": [],
   "source": []
  }
 ],
 "metadata": {
  "citation-manager": {
   "items": {}
  },
  "kernelspec": {
   "display_name": "Python 3.8",
   "language": "python",
   "name": "python3"
  },
  "language_info": {
   "codemirror_mode": {
    "name": "ipython",
    "version": 3
   },
   "file_extension": ".py",
   "mimetype": "text/x-python",
   "name": "python",
   "nbconvert_exporter": "python",
   "pygments_lexer": "ipython3",
   "version": "3.8.8"
  }
 },
 "nbformat": 4,
 "nbformat_minor": 5
}
